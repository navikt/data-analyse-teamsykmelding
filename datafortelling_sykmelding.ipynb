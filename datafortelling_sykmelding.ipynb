{
 "cells": [
  {
   "cell_type": "code",
   "execution_count": 232,
   "id": "eacbe2ea-5ff4-4a86-990a-f430812a95f1",
   "metadata": {},
   "outputs": [],
   "source": [
    "from google.cloud import bigquery\n",
    "from datastory import DataStory\n",
    "import pandas as pd\n",
    "import numpy as np\n",
    "import plotly.graph_objs as go\n",
    "import plotly.express as px\n",
    "import plotly.io as plio\n",
    "import datetime as dt\n",
    "import os \n",
    "import locale\n",
    "from datetime import timedelta\n",
    "from dateutil.relativedelta import relativedelta\n",
    "\n",
    "pd.set_option('display.max_colwidth', None)\n",
    "\n",
    "\n",
    "import altair as alt\n",
    "alt.data_transformers.enable('json')\n",
    "alt.data_transformers.enable('default')\n",
    "from altair.expr import datum, substring"
   ]
  },
  {
   "cell_type": "code",
   "execution_count": 233,
   "id": "7f1a453f-c40f-42c6-9663-39478dc4de1a",
   "metadata": {},
   "outputs": [],
   "source": [
    "pd.set_option('display.max_colwidth', None)\n",
    "\n",
    "nav_kategorisk =  ['#66CBEC', '#0067C5', '#FF9100', '#BA3A26', '#634689', '#F0C419', '#06893A']\n",
    "nav_kat_for = ['#BA3A26', '#FF9100', '#0067C5', '#66CBEC']\n",
    "nokkeltall_farge = '#CCE1F3'\n",
    "annotation_text = \"NB! Dette plottet er ikke offisiell statistikk og må ikke deles utenfor NAV.\"\n",
    "\n",
    "i_dag = dt.date.today().strftime('%Y-%m-%d')\n",
    "\n",
    "\n",
    "\n",
    "# +\n",
    "#####################################################################################################################################################\n",
    "###  Funksjon for å legge sykmeldingene som kommer inn i helgen til mandagen etter, dette er for å kunne sammenlikne med årene før. Kan revideres ###\n",
    "#####################################################################################################################################################\n",
    "\n",
    "def Helg(ukedag, dato):\n",
    "    ny_dato = dato\n",
    "    if ukedag == 'Sat':\n",
    "        ny_dato = dato + relativedelta(days=2)\n",
    "    if ukedag == 'Sun':\n",
    "        ny_dato = dato + relativedelta(days=1)\n",
    "    return ny_dato\n",
    "\n",
    "\n",
    "# -\n",
    "\n",
    "### Tilfeller hvor noe av desember er i uke 1 eller noe av januar er i uke 53, gjør grafen rar -- disse flyttes til året etter eller året før (kun for grafen)  ###\n",
    "def ukenummer_fiks_aar(mnd, uke, aar):\n",
    "    mnd = mnd\n",
    "    uke = uke\n",
    "    aar = aar\n",
    "    if mnd == '12' and uke == '01':\n",
    "        aar = str(int(aar)+1)\n",
    "    elif mnd == '01' and uke == '53':\n",
    "        aar = str(int(aar)-1)\n",
    "    elif mnd == '01' and uke == '52':\n",
    "        aar = str(int(aar)-1)\n",
    "    return aar\n",
    "\n",
    "\n",
    "# +\n",
    "## Fikser krøll med uke i årsskiftet når vi har formatet YYYY/V (år/uke) ##\n",
    "\n",
    "def ukenummer_fiks_uke(uke, dato):\n",
    "    uke = uke\n",
    "    if dato.strftime('%V') == '53' and dato.month == 1:\n",
    "        uke = str(int(dato.strftime('%Y'))-1) + '/' + dato.strftime('%V')\n",
    "    elif dato.strftime('%V') == '01' and dato.month == 12:\n",
    "        uke = str(int(dato.strftime('%Y'))+1) + '/' + dato.strftime('%V')\n",
    "    elif dato.strftime('%V') == '52' and dato.month == 1:\n",
    "        uke = str(int(dato.strftime('%Y'))-1) + '/' + dato.strftime('%V')\n",
    "    return uke \n",
    "\n",
    "\n",
    "# -\n",
    "\n",
    "## Lage liste ## \n",
    "def makeList(liste):\n",
    "    new_list = '(' \n",
    "    for i in liste:\n",
    "        new_list += '\\'' + i + '\\'' + ','\n",
    "    new_list = new_list[:-1] + ')'\n",
    "    return new_list\n",
    "\n",
    "\n",
    "# +\n",
    "##############################################################\n",
    "### Finner behandlingsutfall i tilbakedaterte sykmeldinger ###\n",
    "##############################################################\n",
    "\n",
    "def make_status(merknad, behandlingsutfall):\n",
    "    status = 'status'\n",
    "    if merknad == None and behandlingsutfall == 'OK': \n",
    "        status = 'OK'\n",
    "    else:\n",
    "        status = 'INVALID'\n",
    "    return status\n",
    "\n",
    "\n",
    "# +\n",
    "#############################################################################\n",
    "### Definerer en sykmelding som ubrukt dersom den har vært åpen i >= 1 år ###\n",
    "#############################################################################\n",
    "\n",
    "def er_ubrukt(event, dato):\n",
    "    event = event\n",
    "    if event == 'APEN' and dato >=365:\n",
    "        event = 'Ubrukt'\n",
    "    else: event = event\n",
    "    return event\n",
    "# -\n",
    "\n",
    "\n",
    "\n",
    "# +\n",
    "####################################################################################################\n",
    "### Map for å klassifisere regeltreff til infotrygd regler eller ikke infotrygd regler (manuell) ###\n",
    "###           Her med de gamle reglene som ukjent                                                ###\n",
    "####################################################################################################\n",
    "\n",
    "map_regel_manu = {\n",
    "        'NUMBER_OF_TREATMENT_DAYS_SET' : 'Manuell (infotrygdregler)',\n",
    "        'BEHANDLER_KI_FT_MT_BENYTTER_ANNEN_DIAGNOSEKODE_ENN_L' : 'Manuell',\n",
    "        'TILBAKEDATERT_MED_BEGRUNNELSE_FORLENGELSE' : 'Manuell', \n",
    "        'TSS_IDENT_MANGLER' : 'Manuell (infotrygdregler)',\n",
    "        'ERROR_FROM_IT_HOUVED_STATUS_KODEMELDING' : 'Manuell (infotrygdregler)',\n",
    "        'NEW_CLEAN_BILL_DATE_BEFORE_ARBUFORTOM' : 'Manuell (infotrygdregler)',\n",
    "        'PARTIALLY_COINCIDENT_SICK_LEAVE_PERIOD_WITH_PREVIOUSLY_REGISTERED_SICK_LEAVE' : 'Manuell (infotrygdregler)',\n",
    "        'PARTIALLY_COINCIDENT_SICK_LEAVE_PERIOD_WITH_PREVIOUSLY_REGISTERED_SICK_LEAVE_1' : 'Manuell (infotrygdregler)',\n",
    "    \n",
    "        'AVVENTENDE_SYKMELDING_KOMBINERT' : 'Avvist',\n",
    "        'DEGREE_OF_DISABILITY_IS_CHANGED' : 'Ukjent',\n",
    "        'GRADERT_REISETILSKUDD_ER_OPPGITT' : 'Manuell (infotrygdregler)',\n",
    "        'GRADUAL_SYKMELDING_COMBINED_WITH_TRAVEL    ' : 'Ukjent',\n",
    "        'NEW_CLEAN_BILL_DATE_BEFORE_PAYOUT' : 'Manuell (infotrygdregler)',\n",
    "        'NEW_CLEAN_BILL_DATE_BEFORE_REGISTERD_CLEAN_BILL_DATE' : 'Manuell (infotrygdregler)',\n",
    "        'PATIENT_NOT_IN_IP' : 'Manuell (infotrygdregler)', \n",
    "        'PERIOD_FOR_AA_ENDED' : 'Manuell (infotrygdregler)', \n",
    "        'PERIOD_IS_AF' : 'Manuell (infotrygdregler)',\n",
    "        'SICKLEAVE_EXTENTION_FROM_DIFFRENT_NAV_OFFICE_2' : 'Manuell (infotrygdregler)',\n",
    "        'SICKLEAVE_EXTENTION_FROM_DIFFRENT_NAV_OFFICE_3' : 'Manuell (infotrygdregler)',\n",
    "        'EXTANION_OVER_FA' : 'Manuell (infotrygdregler)', \n",
    "        'MAX_SICK_LEAVE_PAYOUT' : 'Manuell (infotrygdregler)',\n",
    "        'SICKLEAVE_EXTENTION_FROM_DIFFRENT_NAV_OFFICE_1' : 'Manuell (infotrygdregler)',\n",
    "        'UGYLDIG_KODEVERK_FOR_BIDIAGNOSE' : 'Avvist', \n",
    "        'PERSON_MOVING_KODE_FL' : 'Manuell (infotrygdregler)',\n",
    "        'PASIENTEN_HAR_KODE_6' : 'Manuell', \n",
    "        'ARBEIDUFORETOM_MANGLER' : 'Manuell (infotrygdregler)',\n",
    "        'UFOREGRADEN_ER_100_OG_HOYERE_ENN_I_INFOTRYGD' : 'Ukjent',\n",
    "        'TEKNISK_FEIL' : 'Ukjent',\n",
    "        'ERROR_FROM_IT_DIAGNOSE_OK_UTREKK_STATUS_KODEMELDING' : 'Manuell (infotrygdregler)',\n",
    "        'ERROR_FROM_IT_PARALELLYTELSER_STATUS_KODEMELDING' : 'Manuell (infotrygdregler)',\n",
    "        'ERROR_FROM_IT_PASIENT_UTREKK_STATUS_KODEMELDING' : 'Manuell (infotrygdregler)',\n",
    "        'ERROR_FROM_IT_SMHISTORIKK_STATUS_KODEMELDING' : 'Manuell (infotrygdregler)',\n",
    "        'GRADERT_TRAVEL_SUBSIDY_SPECIFIED' : 'Ukjent',\n",
    "        'GRADUAL_SYKMELDING_COMBINED_WITH_TRAVEL' : 'Manuell',\n",
    "        'TILBAKEDATERT_MED_BEGRUNNELSE_FORSTE_SYKMELDING' : 'Ukjent',\n",
    "        'TRAVEL_SUBSIDY_SPECIFIED' : 'Manuell (infotrygdregler)',\n",
    "        'UFOREGRADEN_ER_HOYERE_ENN_I_INFOTRYGD' : 'Ukjent',\n",
    "        'TILBAKEDATERT_MER_ENN_8_DAGER_FORSTE_SYKMELDING_MED_BEGRUNNELSE' : 'Manuell',\n",
    "        'HOVEDDIAGNOSE_MANGLER' : 'Ukjent',\n",
    "    \n",
    "        'AVVENTENDE_SYKMELDING_OVER_16_DAGER' : 'Avvist',\n",
    "        'BEHANDLER_MANGLER_AUTORISASJON_I_HPR' : 'Avvist',\n",
    "        'TILBAKEDATERT_FORLENGELSE_OVER_1_MND' : 'Avvist',\n",
    "        'TILBAKEDATERT_MER_ENN_8_DAGER_FORSTE_SYKMELDING' : 'Avvist',\n",
    "        'FRADATO_ETTER_TILDATO' : 'Avvist', \n",
    "        'FREMDATERT' : 'Avvist',\n",
    "        'GRADERT_SYKMELDING_UNDER_20_PROSENT' : 'Avvist', \n",
    "        'OVERLAPPENDE_PERIODER' : 'Avvist',\n",
    "        'GRADERT_SYKMELDING_OVER_99_PROSENT' : 'Avvist', \n",
    "        'OPPHOLD_MELLOM_PERIODER' : 'Avvist',\n",
    "        'PASIENT_ELDRE_ENN_70' : 'Avvist', \n",
    "        'VARIGHET_OVER_ETT_AAR' : 'Avvist',\n",
    "        'FOR_MANGE_BEHANDLINGSDAGER_PER_UKE' : 'Avvist',\n",
    "        'BEHANDLER_IKKE_GYLDIG_I_HPR' : 'Avvist', \n",
    "        'BEHANDLER_IKKE_LE_KI_TL_FT_I_HPR' : 'Avvist',\n",
    "        'PASIENT_YNGRE_ENN_13' : 'Avvist', \n",
    "        'ICPC_2_Z_DIAGNOSE' : 'Avvist',\n",
    "        'TILBAKEDATERT_MER_ENN_3_AR' : 'Avvist', \n",
    "        'SYKMELDING_MED_BEHANDLINGSDAGER' : 'Manuell',\n",
    "        'SYKMELDING_MED_REISETILSKUDD' : 'Manuell'\n",
    "        \n",
    "                 }"
   ]
  },
  {
   "cell_type": "code",
   "execution_count": 234,
   "id": "0171b730-7d90-4755-834e-ddcd8af8030d",
   "metadata": {},
   "outputs": [],
   "source": [
    "client = bigquery.Client()"
   ]
  },
  {
   "cell_type": "code",
   "execution_count": 235,
   "id": "b6c01e12-7a35-4f36-975c-f690ad775042",
   "metadata": {},
   "outputs": [],
   "source": [
    "## For å endre antall år vi tar med i grafen er det bare å endre tallet her. Tar nå med fire år\n",
    "aar = str(int(dt.date.today().strftime('%Y')) - 4)\n",
    "\n",
    "query_job = client.query(\n",
    "    f\"\"\"\n",
    "    select CAST(so.mottatt_tidspunkt AS DATE) mottatt_tidspunkt,\n",
    "       count(sd.id) antall\n",
    "from `teamsykmelding-prod-2acd.syfosmregister.sykmeldingsopplysninger` so, `teamsykmelding-prod-2acd.syfosmregister.behandlingsutfall` bh, `teamsykmelding-prod-2acd.syfosmregister.sykmeldingsdokument` sd\n",
    "where so.id = bh.id\n",
    "and so.id = sd.id\n",
    "and so.mottatt_tidspunkt > CAST('{aar}-12-31' AS DATE)\n",
    "\n",
    "and JSON_EXTRACT(bh.behandlingsutfall, '$.status') in ('\"OK\"', '\"MANUAL_PROCESSING\"')\n",
    "\n",
    "group by CAST(so.mottatt_tidspunkt AS DATE)\n",
    "    \n",
    "    \"\"\"\n",
    ")\n",
    "\n",
    "df = query_job.result().to_dataframe()"
   ]
  },
  {
   "cell_type": "code",
   "execution_count": 236,
   "id": "408a868e-4efa-4cba-9fea-7b5316e74f1f",
   "metadata": {},
   "outputs": [],
   "source": [
    "### Passer på at dato er i riktig format ### \n",
    "\n",
    "df['mottatt_tidspunkt'] = df['mottatt_tidspunkt'].astype('datetime64[ns]')"
   ]
  },
  {
   "cell_type": "code",
   "execution_count": 237,
   "id": "ec83880c-803c-457b-9a78-bd67d6f31969",
   "metadata": {},
   "outputs": [],
   "source": [
    "### Ny df som får nye kolonner med uke og ukedag ###\n",
    "df_total = df.copy()\n",
    "df_total['Uke'] = df_total['mottatt_tidspunkt'].dt.strftime('%V')\n",
    "df_total['Ukedag'] = df_total['mottatt_tidspunkt'].dt.strftime('%a')\n",
    "df_total['Måned'] = df_total['mottatt_tidspunkt'].dt.strftime('%m')"
   ]
  },
  {
   "cell_type": "code",
   "execution_count": 238,
   "id": "5f61c784-4b5c-4f4f-862c-b0d251ccdbae",
   "metadata": {},
   "outputs": [],
   "source": [
    "### Bruker funksjonen for å flytte helge-sykmeldingene til mandagen etter ###\n",
    "\n",
    "df_tot_fig = df_total.copy()\n",
    "df_tot_fig['date'] = df_tot_fig.apply(\n",
    "    lambda x: Helg(x['Ukedag'], x['mottatt_tidspunkt']), \n",
    "    axis=1\n",
    ")"
   ]
  },
  {
   "cell_type": "code",
   "execution_count": 239,
   "id": "c06b5cd7-d2fa-476c-bc31-52adca16c527",
   "metadata": {},
   "outputs": [],
   "source": [
    "### Grupperer  etter dato ###\n",
    "df_total_grouped = df_tot_fig.copy()\n",
    "df_total_grouped = df_total_grouped.groupby(['date']).sum().reset_index()\n",
    "\n",
    "### Legger til kolonner med kalenderinfo ###\n",
    "df_total_grouped['År'] = df_total_grouped['date'].dt.strftime('%Y')\n",
    "df_total_grouped['Måned'] = df_total_grouped['date'].dt.strftime('%m')\n",
    "df_total_grouped['Uke'] = df_total_grouped['date'].dt.strftime('%V')\n",
    "df_total_grouped['Ukedag'] = df_total_grouped['date'].dt.strftime('%a')\n",
    "df_total_grouped['Uke+dag'] = df_total_grouped['date'].dt.strftime('%V / %a')"
   ]
  },
  {
   "cell_type": "code",
   "execution_count": 240,
   "id": "6926cf83-5280-473d-8728-c4d1013460e1",
   "metadata": {},
   "outputs": [],
   "source": [
    "### Vil ikke ha med dagens dato ###\n",
    "df_total_grouped = df_total_grouped[df_total_grouped['date'] != dt.date.today().strftime('%Y-%m-%d')].copy()\n",
    "df_total_grouped['År'] = df_total_grouped.apply(\n",
    "    lambda x: ukenummer_fiks_aar(x['Måned'], x['Uke'], x['År']), \n",
    "    axis=1\n",
    ")"
   ]
  },
  {
   "cell_type": "code",
   "execution_count": 241,
   "id": "554031f7-a2dc-4353-ab16-a861c7f2d467",
   "metadata": {},
   "outputs": [
    {
     "data": {
      "application/vnd.plotly.v1+json": {
       "config": {
        "plotlyServerURL": "https://plot.ly"
       },
       "data": [
        {
         "hovertemplate": "%{hovertext}<br />Antall: %{y}<extra></extra>",
         "hovertext": [
          "2019",
          "2019",
          "2019",
          "2019",
          "2019",
          "2019",
          "2019",
          "2019",
          "2019",
          "2019",
          "2019",
          "2019",
          "2019",
          "2019",
          "2019",
          "2019",
          "2019",
          "2019",
          "2019",
          "2019",
          "2019",
          "2019",
          "2019",
          "2019",
          "2019",
          "2019",
          "2019",
          "2019",
          "2019",
          "2019",
          "2019",
          "2019",
          "2019",
          "2019",
          "2019",
          "2019",
          "2019",
          "2019",
          "2019",
          "2019",
          "2019",
          "2019",
          "2019",
          "2019",
          "2019",
          "2019",
          "2019",
          "2019",
          "2019",
          "2019",
          "2019",
          "2019",
          "2019",
          "2019",
          "2019",
          "2019",
          "2019",
          "2019",
          "2019",
          "2019",
          "2019",
          "2019",
          "2019",
          "2019",
          "2019",
          "2019",
          "2019",
          "2019",
          "2019",
          "2019",
          "2019",
          "2019",
          "2019",
          "2019",
          "2019",
          "2019",
          "2019",
          "2019",
          "2019",
          "2019",
          "2019",
          "2019",
          "2019",
          "2019",
          "2019",
          "2019",
          "2019",
          "2019",
          "2019",
          "2019",
          "2019",
          "2019",
          "2019",
          "2019",
          "2019",
          "2019",
          "2019",
          "2019",
          "2019",
          "2019",
          "2019",
          "2019",
          "2019",
          "2019",
          "2019",
          "2019",
          "2019",
          "2019",
          "2019",
          "2019",
          "2019",
          "2019",
          "2019",
          "2019",
          "2019",
          "2019",
          "2019",
          "2019",
          "2019",
          "2019",
          "2019",
          "2019",
          "2019",
          "2019",
          "2019",
          "2019",
          "2019",
          "2019",
          "2019",
          "2019",
          "2019",
          "2019",
          "2019",
          "2019",
          "2019",
          "2019",
          "2019",
          "2019",
          "2019",
          "2019",
          "2019",
          "2019",
          "2019",
          "2019",
          "2019",
          "2019",
          "2019",
          "2019",
          "2019",
          "2019",
          "2019",
          "2019",
          "2019",
          "2019",
          "2019",
          "2019",
          "2019",
          "2019",
          "2019",
          "2019",
          "2019",
          "2019",
          "2019",
          "2019",
          "2019",
          "2019",
          "2019",
          "2019",
          "2019",
          "2019",
          "2019",
          "2019",
          "2019",
          "2019",
          "2019",
          "2019",
          "2019",
          "2019",
          "2019",
          "2019",
          "2019",
          "2019",
          "2019",
          "2019",
          "2019",
          "2019",
          "2019",
          "2019",
          "2019",
          "2019",
          "2019",
          "2019",
          "2019",
          "2019",
          "2019",
          "2019",
          "2019",
          "2019",
          "2019",
          "2019",
          "2019",
          "2019",
          "2019",
          "2019",
          "2019",
          "2019",
          "2019",
          "2019",
          "2019",
          "2019",
          "2019",
          "2019",
          "2019",
          "2019",
          "2019",
          "2019",
          "2019",
          "2019",
          "2019",
          "2019",
          "2019",
          "2019",
          "2019",
          "2019",
          "2019",
          "2019",
          "2019",
          "2019",
          "2019",
          "2019",
          "2019",
          "2019",
          "2019",
          "2019",
          "2019",
          "2019",
          "2019",
          "2019",
          "2019",
          "2019",
          "2019",
          "2019",
          "2019",
          "2019",
          "2019",
          "2019",
          "2019",
          "2019",
          "2019",
          "2019",
          "2019",
          "2019",
          "2019",
          "2019",
          "2019",
          "2019",
          "2019",
          "2019",
          "2019",
          "2019"
         ],
         "legendgroup": "2019",
         "line": {
          "color": "#66CBEC",
          "dash": "solid",
          "shape": "spline"
         },
         "marker": {
          "symbol": "circle"
         },
         "mode": "lines",
         "name": "2019",
         "orientation": "v",
         "showlegend": true,
         "type": "scatter",
         "x": [
          "01 / Mon",
          "01 / Tue",
          "01 / Wed",
          "01 / Thu",
          "01 / Fri",
          "02 / Mon",
          "02 / Tue",
          "02 / Wed",
          "02 / Thu",
          "02 / Fri",
          "03 / Mon",
          "03 / Tue",
          "03 / Wed",
          "03 / Thu",
          "03 / Fri",
          "04 / Mon",
          "04 / Tue",
          "04 / Wed",
          "04 / Thu",
          "04 / Fri",
          "05 / Mon",
          "05 / Tue",
          "05 / Wed",
          "05 / Thu",
          "05 / Fri",
          "06 / Mon",
          "06 / Tue",
          "06 / Wed",
          "06 / Thu",
          "06 / Fri",
          "07 / Mon",
          "07 / Tue",
          "07 / Wed",
          "07 / Thu",
          "07 / Fri",
          "08 / Mon",
          "08 / Tue",
          "08 / Wed",
          "08 / Thu",
          "08 / Fri",
          "09 / Mon",
          "09 / Tue",
          "09 / Wed",
          "09 / Thu",
          "09 / Fri",
          "10 / Mon",
          "10 / Tue",
          "10 / Wed",
          "10 / Thu",
          "10 / Fri",
          "11 / Mon",
          "11 / Tue",
          "11 / Wed",
          "11 / Thu",
          "11 / Fri",
          "12 / Mon",
          "12 / Tue",
          "12 / Wed",
          "12 / Thu",
          "12 / Fri",
          "13 / Mon",
          "13 / Tue",
          "13 / Wed",
          "13 / Thu",
          "13 / Fri",
          "14 / Mon",
          "14 / Tue",
          "14 / Wed",
          "14 / Thu",
          "14 / Fri",
          "15 / Mon",
          "15 / Tue",
          "15 / Wed",
          "15 / Thu",
          "15 / Fri",
          "16 / Mon",
          "16 / Tue",
          "16 / Wed",
          "16 / Thu",
          "16 / Fri",
          "17 / Mon",
          "17 / Tue",
          "17 / Wed",
          "17 / Thu",
          "17 / Fri",
          "18 / Mon",
          "18 / Tue",
          "18 / Wed",
          "18 / Thu",
          "18 / Fri",
          "19 / Mon",
          "19 / Tue",
          "19 / Wed",
          "19 / Thu",
          "19 / Fri",
          "20 / Mon",
          "20 / Tue",
          "20 / Wed",
          "20 / Thu",
          "20 / Fri",
          "21 / Mon",
          "21 / Tue",
          "21 / Wed",
          "21 / Thu",
          "21 / Fri",
          "22 / Mon",
          "22 / Tue",
          "22 / Wed",
          "22 / Thu",
          "22 / Fri",
          "23 / Mon",
          "23 / Tue",
          "23 / Wed",
          "23 / Thu",
          "23 / Fri",
          "24 / Mon",
          "24 / Tue",
          "24 / Wed",
          "24 / Thu",
          "24 / Fri",
          "25 / Mon",
          "25 / Tue",
          "25 / Wed",
          "25 / Thu",
          "25 / Fri",
          "26 / Mon",
          "26 / Tue",
          "26 / Wed",
          "26 / Thu",
          "26 / Fri",
          "27 / Mon",
          "27 / Tue",
          "27 / Wed",
          "27 / Thu",
          "27 / Fri",
          "28 / Mon",
          "28 / Tue",
          "28 / Wed",
          "28 / Thu",
          "28 / Fri",
          "29 / Mon",
          "29 / Tue",
          "29 / Wed",
          "29 / Thu",
          "29 / Fri",
          "30 / Mon",
          "30 / Tue",
          "30 / Wed",
          "30 / Thu",
          "30 / Fri",
          "31 / Mon",
          "31 / Tue",
          "31 / Wed",
          "31 / Thu",
          "31 / Fri",
          "32 / Mon",
          "32 / Tue",
          "32 / Wed",
          "32 / Thu",
          "32 / Fri",
          "33 / Mon",
          "33 / Tue",
          "33 / Wed",
          "33 / Thu",
          "33 / Fri",
          "34 / Mon",
          "34 / Tue",
          "34 / Wed",
          "34 / Thu",
          "34 / Fri",
          "35 / Mon",
          "35 / Tue",
          "35 / Wed",
          "35 / Thu",
          "35 / Fri",
          "36 / Mon",
          "36 / Tue",
          "36 / Wed",
          "36 / Thu",
          "36 / Fri",
          "37 / Mon",
          "37 / Tue",
          "37 / Wed",
          "37 / Thu",
          "37 / Fri",
          "38 / Mon",
          "38 / Tue",
          "38 / Wed",
          "38 / Thu",
          "38 / Fri",
          "39 / Mon",
          "39 / Tue",
          "39 / Wed",
          "39 / Thu",
          "39 / Fri",
          "40 / Mon",
          "40 / Tue",
          "40 / Wed",
          "40 / Thu",
          "40 / Fri",
          "41 / Mon",
          "41 / Tue",
          "41 / Wed",
          "41 / Thu",
          "41 / Fri",
          "42 / Mon",
          "42 / Tue",
          "42 / Wed",
          "42 / Thu",
          "42 / Fri",
          "43 / Mon",
          "43 / Tue",
          "43 / Wed",
          "43 / Thu",
          "43 / Fri",
          "44 / Mon",
          "44 / Tue",
          "44 / Wed",
          "44 / Thu",
          "44 / Fri",
          "45 / Mon",
          "45 / Tue",
          "45 / Wed",
          "45 / Thu",
          "45 / Fri",
          "46 / Mon",
          "46 / Tue",
          "46 / Wed",
          "46 / Thu",
          "46 / Fri",
          "47 / Mon",
          "47 / Tue",
          "47 / Wed",
          "47 / Thu",
          "47 / Fri",
          "48 / Mon",
          "48 / Tue",
          "48 / Wed",
          "48 / Thu",
          "48 / Fri",
          "49 / Mon",
          "49 / Tue",
          "49 / Wed",
          "49 / Thu",
          "49 / Fri",
          "50 / Mon",
          "50 / Tue",
          "50 / Wed",
          "50 / Thu",
          "50 / Fri",
          "51 / Mon",
          "51 / Tue",
          "51 / Wed",
          "51 / Thu",
          "51 / Fri",
          "52 / Mon",
          "52 / Tue",
          "52 / Wed",
          "52 / Thu",
          "52 / Fri"
         ],
         "xaxis": "x",
         "y": [
          2066,
          433,
          22783,
          22446,
          19757,
          25404,
          15891,
          14249,
          13778,
          13570,
          19963,
          13185,
          12551,
          12975,
          13308,
          21010,
          13305,
          12127,
          12579,
          12101,
          21402,
          15450,
          16062,
          19651,
          17325,
          24792,
          16225,
          14688,
          14816,
          14744,
          22819,
          15078,
          13711,
          14774,
          15326,
          21345,
          13898,
          12451,
          12339,
          11968,
          22014,
          15315,
          15425,
          17929,
          16051,
          24467,
          15871,
          13353,
          13989,
          13784,
          21215,
          13859,
          12642,
          13651,
          14031,
          21408,
          13317,
          12059,
          12111,
          12529,
          20677,
          13902,
          13382,
          15296,
          16312,
          24299,
          13797,
          12998,
          13001,
          13127,
          19493,
          12940,
          12162,
          12700,
          13488,
          10903,
          6788,
          3452,
          428,
          165,
          653,
          20942,
          16694,
          14896,
          14465,
          21713,
          19007,
          2086,
          14949,
          14131,
          19438,
          12973,
          11279,
          11297,
          11618,
          17581,
          12449,
          11978,
          12148,
          1058,
          18655,
          13263,
          11787,
          12020,
          11878,
          19664,
          15305,
          16188,
          1557,
          11410,
          23980,
          14945,
          12217,
          12307,
          12416,
          1807,
          16437,
          12977,
          12059,
          11941,
          17651,
          11875,
          11014,
          11637,
          11631,
          15326,
          11182,
          10917,
          11764,
          12925,
          15677,
          9891,
          8777,
          8313,
          8437,
          11021,
          6982,
          6639,
          6785,
          6682,
          9918,
          6781,
          6083,
          6017,
          6197,
          10248,
          7100,
          6376,
          5927,
          5951,
          11993,
          8925,
          9339,
          8957,
          7593,
          15586,
          10110,
          8869,
          8512,
          8317,
          16243,
          11395,
          10143,
          10023,
          9781,
          17724,
          11861,
          10407,
          10241,
          10329,
          16898,
          11711,
          11503,
          12040,
          13947,
          20712,
          13038,
          11514,
          11414,
          11563,
          18416,
          12090,
          10982,
          11985,
          12214,
          19919,
          12865,
          11112,
          11614,
          11446,
          19434,
          13124,
          11790,
          12947,
          13854,
          23186,
          15616,
          11851,
          11717,
          11130,
          19452,
          13394,
          11383,
          11196,
          10932,
          20947,
          13587,
          12033,
          12459,
          12868,
          18998,
          12814,
          11229,
          11850,
          12181,
          21303,
          14513,
          14522,
          17361,
          14847,
          21145,
          13667,
          11926,
          12870,
          12731,
          20796,
          13576,
          12813,
          13146,
          13070,
          21457,
          14118,
          12311,
          12776,
          13031,
          21400,
          14673,
          13876,
          16309,
          17798,
          25397,
          16053,
          13595,
          14051,
          14193,
          22257,
          14658,
          13091,
          13528,
          14063,
          21550,
          14253,
          12675,
          13573,
          13270,
          8356,
          351,
          169,
          243,
          6237
         ],
         "yaxis": "y"
        },
        {
         "hovertemplate": "%{hovertext}<br />Antall: %{y}<extra></extra>",
         "hovertext": [
          "2020",
          "2020",
          "2020",
          "2020",
          "2020",
          "2020",
          "2020",
          "2020",
          "2020",
          "2020",
          "2020",
          "2020",
          "2020",
          "2020",
          "2020",
          "2020",
          "2020",
          "2020",
          "2020",
          "2020",
          "2020",
          "2020",
          "2020",
          "2020",
          "2020",
          "2020",
          "2020",
          "2020",
          "2020",
          "2020",
          "2020",
          "2020",
          "2020",
          "2020",
          "2020",
          "2020",
          "2020",
          "2020",
          "2020",
          "2020",
          "2020",
          "2020",
          "2020",
          "2020",
          "2020",
          "2020",
          "2020",
          "2020",
          "2020",
          "2020",
          "2020",
          "2020",
          "2020",
          "2020",
          "2020",
          "2020",
          "2020",
          "2020",
          "2020",
          "2020",
          "2020",
          "2020",
          "2020",
          "2020",
          "2020",
          "2020",
          "2020",
          "2020",
          "2020",
          "2020",
          "2020",
          "2020",
          "2020",
          "2020",
          "2020",
          "2020",
          "2020",
          "2020",
          "2020",
          "2020",
          "2020",
          "2020",
          "2020",
          "2020",
          "2020",
          "2020",
          "2020",
          "2020",
          "2020",
          "2020",
          "2020",
          "2020",
          "2020",
          "2020",
          "2020",
          "2020",
          "2020",
          "2020",
          "2020",
          "2020",
          "2020",
          "2020",
          "2020",
          "2020",
          "2020",
          "2020",
          "2020",
          "2020",
          "2020",
          "2020",
          "2020",
          "2020",
          "2020",
          "2020",
          "2020",
          "2020",
          "2020",
          "2020",
          "2020",
          "2020",
          "2020",
          "2020",
          "2020",
          "2020",
          "2020",
          "2020",
          "2020",
          "2020",
          "2020",
          "2020",
          "2020",
          "2020",
          "2020",
          "2020",
          "2020",
          "2020",
          "2020",
          "2020",
          "2020",
          "2020",
          "2020",
          "2020",
          "2020",
          "2020",
          "2020",
          "2020",
          "2020",
          "2020",
          "2020",
          "2020",
          "2020",
          "2020",
          "2020",
          "2020",
          "2020",
          "2020",
          "2020",
          "2020",
          "2020",
          "2020",
          "2020",
          "2020",
          "2020",
          "2020",
          "2020",
          "2020",
          "2020",
          "2020",
          "2020",
          "2020",
          "2020",
          "2020",
          "2020",
          "2020",
          "2020",
          "2020",
          "2020",
          "2020",
          "2020",
          "2020",
          "2020",
          "2020",
          "2020",
          "2020",
          "2020",
          "2020",
          "2020",
          "2020",
          "2020",
          "2020",
          "2020",
          "2020",
          "2020",
          "2020",
          "2020",
          "2020",
          "2020",
          "2020",
          "2020",
          "2020",
          "2020",
          "2020",
          "2020",
          "2020",
          "2020",
          "2020",
          "2020",
          "2020",
          "2020",
          "2020",
          "2020",
          "2020",
          "2020",
          "2020",
          "2020",
          "2020",
          "2020",
          "2020",
          "2020",
          "2020",
          "2020",
          "2020",
          "2020",
          "2020",
          "2020",
          "2020",
          "2020",
          "2020",
          "2020",
          "2020",
          "2020",
          "2020",
          "2020",
          "2020",
          "2020",
          "2020",
          "2020",
          "2020",
          "2020",
          "2020",
          "2020",
          "2020",
          "2020",
          "2020",
          "2020",
          "2020",
          "2020",
          "2020",
          "2020",
          "2020",
          "2020",
          "2020",
          "2020",
          "2020",
          "2020",
          "2020",
          "2020",
          "2020",
          "2020",
          "2020",
          "2020",
          "2020",
          "2020",
          "2020",
          "2020"
         ],
         "legendgroup": "2020",
         "line": {
          "color": "#0067C5",
          "dash": "solid",
          "shape": "spline"
         },
         "marker": {
          "symbol": "circle"
         },
         "mode": "lines",
         "name": "2020",
         "orientation": "v",
         "showlegend": true,
         "type": "scatter",
         "x": [
          "01 / Mon",
          "01 / Tue",
          "01 / Wed",
          "01 / Thu",
          "01 / Fri",
          "02 / Mon",
          "02 / Tue",
          "02 / Wed",
          "02 / Thu",
          "02 / Fri",
          "03 / Mon",
          "03 / Tue",
          "03 / Wed",
          "03 / Thu",
          "03 / Fri",
          "04 / Mon",
          "04 / Tue",
          "04 / Wed",
          "04 / Thu",
          "04 / Fri",
          "05 / Mon",
          "05 / Tue",
          "05 / Wed",
          "05 / Thu",
          "05 / Fri",
          "06 / Mon",
          "06 / Tue",
          "06 / Wed",
          "06 / Thu",
          "06 / Fri",
          "07 / Mon",
          "07 / Tue",
          "07 / Wed",
          "07 / Thu",
          "07 / Fri",
          "08 / Mon",
          "08 / Tue",
          "08 / Wed",
          "08 / Thu",
          "08 / Fri",
          "09 / Mon",
          "09 / Tue",
          "09 / Wed",
          "09 / Thu",
          "09 / Fri",
          "10 / Mon",
          "10 / Tue",
          "10 / Wed",
          "10 / Thu",
          "10 / Fri",
          "11 / Mon",
          "11 / Tue",
          "11 / Wed",
          "11 / Thu",
          "11 / Fri",
          "12 / Mon",
          "12 / Tue",
          "12 / Wed",
          "12 / Thu",
          "12 / Fri",
          "13 / Mon",
          "13 / Tue",
          "13 / Wed",
          "13 / Thu",
          "13 / Fri",
          "14 / Mon",
          "14 / Tue",
          "14 / Wed",
          "14 / Thu",
          "14 / Fri",
          "15 / Mon",
          "15 / Tue",
          "15 / Wed",
          "15 / Thu",
          "15 / Fri",
          "16 / Mon",
          "16 / Tue",
          "16 / Wed",
          "16 / Thu",
          "16 / Fri",
          "17 / Mon",
          "17 / Tue",
          "17 / Wed",
          "17 / Thu",
          "17 / Fri",
          "18 / Mon",
          "18 / Tue",
          "18 / Wed",
          "18 / Thu",
          "18 / Fri",
          "19 / Mon",
          "19 / Tue",
          "19 / Wed",
          "19 / Thu",
          "19 / Fri",
          "20 / Mon",
          "20 / Tue",
          "20 / Wed",
          "20 / Thu",
          "20 / Fri",
          "21 / Mon",
          "21 / Tue",
          "21 / Wed",
          "21 / Thu",
          "21 / Fri",
          "22 / Mon",
          "22 / Tue",
          "22 / Wed",
          "22 / Thu",
          "22 / Fri",
          "23 / Mon",
          "23 / Tue",
          "23 / Wed",
          "23 / Thu",
          "23 / Fri",
          "24 / Mon",
          "24 / Tue",
          "24 / Wed",
          "24 / Thu",
          "24 / Fri",
          "25 / Mon",
          "25 / Tue",
          "25 / Wed",
          "25 / Thu",
          "25 / Fri",
          "26 / Mon",
          "26 / Tue",
          "26 / Wed",
          "26 / Thu",
          "26 / Fri",
          "27 / Mon",
          "27 / Tue",
          "27 / Wed",
          "27 / Thu",
          "27 / Fri",
          "28 / Mon",
          "28 / Tue",
          "28 / Wed",
          "28 / Thu",
          "28 / Fri",
          "29 / Mon",
          "29 / Tue",
          "29 / Wed",
          "29 / Thu",
          "29 / Fri",
          "30 / Mon",
          "30 / Tue",
          "30 / Wed",
          "30 / Thu",
          "30 / Fri",
          "31 / Mon",
          "31 / Tue",
          "31 / Wed",
          "31 / Thu",
          "31 / Fri",
          "32 / Mon",
          "32 / Tue",
          "32 / Wed",
          "32 / Thu",
          "32 / Fri",
          "33 / Mon",
          "33 / Tue",
          "33 / Wed",
          "33 / Thu",
          "33 / Fri",
          "34 / Mon",
          "34 / Tue",
          "34 / Wed",
          "34 / Thu",
          "34 / Fri",
          "35 / Mon",
          "35 / Tue",
          "35 / Wed",
          "35 / Thu",
          "35 / Fri",
          "36 / Mon",
          "36 / Tue",
          "36 / Wed",
          "36 / Thu",
          "36 / Fri",
          "37 / Mon",
          "37 / Tue",
          "37 / Wed",
          "37 / Thu",
          "37 / Fri",
          "38 / Mon",
          "38 / Tue",
          "38 / Wed",
          "38 / Thu",
          "38 / Fri",
          "39 / Mon",
          "39 / Tue",
          "39 / Wed",
          "39 / Thu",
          "39 / Fri",
          "40 / Mon",
          "40 / Tue",
          "40 / Wed",
          "40 / Thu",
          "40 / Fri",
          "41 / Mon",
          "41 / Tue",
          "41 / Wed",
          "41 / Thu",
          "41 / Fri",
          "42 / Mon",
          "42 / Tue",
          "42 / Wed",
          "42 / Thu",
          "42 / Fri",
          "43 / Mon",
          "43 / Tue",
          "43 / Wed",
          "43 / Thu",
          "43 / Fri",
          "44 / Mon",
          "44 / Tue",
          "44 / Wed",
          "44 / Thu",
          "44 / Fri",
          "45 / Mon",
          "45 / Tue",
          "45 / Wed",
          "45 / Thu",
          "45 / Fri",
          "46 / Mon",
          "46 / Tue",
          "46 / Wed",
          "46 / Thu",
          "46 / Fri",
          "47 / Mon",
          "47 / Tue",
          "47 / Wed",
          "47 / Thu",
          "47 / Fri",
          "48 / Mon",
          "48 / Tue",
          "48 / Wed",
          "48 / Thu",
          "48 / Fri",
          "49 / Mon",
          "49 / Tue",
          "49 / Wed",
          "49 / Thu",
          "49 / Fri",
          "50 / Mon",
          "50 / Tue",
          "50 / Wed",
          "50 / Thu",
          "50 / Fri",
          "51 / Mon",
          "51 / Tue",
          "51 / Wed",
          "51 / Thu",
          "51 / Fri",
          "52 / Mon",
          "52 / Tue",
          "52 / Wed",
          "52 / Thu",
          "52 / Fri",
          "53 / Mon",
          "53 / Tue",
          "53 / Wed",
          "53 / Thu",
          "53 / Fri"
         ],
         "xaxis": "x",
         "y": [
          9863,
          1070,
          397,
          22595,
          20729,
          30155,
          18791,
          15307,
          15018,
          14592,
          20522,
          13328,
          12973,
          13476,
          14267,
          22039,
          13716,
          11789,
          12442,
          12573,
          20996,
          14647,
          14226,
          17226,
          18554,
          26241,
          16056,
          13952,
          14388,
          14440,
          23466,
          14808,
          13236,
          14521,
          15374,
          20295,
          13781,
          11642,
          12102,
          11947,
          22295,
          14861,
          14136,
          16566,
          18095,
          28325,
          17882,
          15231,
          15325,
          15326,
          25454,
          17854,
          17293,
          22982,
          31429,
          47761,
          27070,
          21135,
          19303,
          18921,
          31583,
          17175,
          15321,
          16711,
          18597,
          30915,
          21155,
          15531,
          15051,
          16206,
          16029,
          9590,
          5664,
          370,
          306,
          1512,
          27511,
          18236,
          15222,
          15885,
          19545,
          11798,
          9979,
          10984,
          12160,
          18870,
          14740,
          16213,
          21453,
          644,
          23351,
          13383,
          10701,
          11469,
          12289,
          17110,
          11871,
          10348,
          12424,
          13451,
          18139,
          12701,
          12859,
          460,
          9624,
          20175,
          13347,
          13083,
          16289,
          17841,
          1245,
          20542,
          13227,
          12352,
          13257,
          17192,
          11172,
          9559,
          10981,
          11593,
          18057,
          12668,
          10787,
          11524,
          12398,
          11267,
          14484,
          10869,
          11846,
          11940,
          16412,
          13928,
          11125,
          9958,
          9511,
          12729,
          7904,
          7070,
          7071,
          7362,
          10346,
          7305,
          6715,
          6915,
          7164,
          11067,
          7261,
          6331,
          6369,
          6617,
          11806,
          8215,
          7976,
          8897,
          9228,
          16861,
          10987,
          9660,
          9108,
          9077,
          17445,
          11800,
          9960,
          10228,
          10456,
          19690,
          13129,
          11352,
          11571,
          11991,
          19163,
          12899,
          11990,
          13174,
          13588,
          26239,
          16327,
          13236,
          13139,
          13031,
          21324,
          13595,
          12145,
          12787,
          13026,
          21907,
          14049,
          12457,
          12648,
          13337,
          21254,
          14114,
          12635,
          13664,
          13774,
          21453,
          16148,
          17224,
          15214,
          13722,
          22016,
          13969,
          12469,
          12272,
          12066,
          22905,
          14059,
          12574,
          14076,
          14531,
          21799,
          14142,
          12878,
          13785,
          14366,
          22730,
          15073,
          14801,
          17645,
          19052,
          27182,
          16157,
          14044,
          14188,
          16320,
          24159,
          14937,
          13846,
          15116,
          15373,
          24716,
          14836,
          13432,
          14336,
          15278,
          23111,
          14974,
          13901,
          16225,
          17604,
          30207,
          18006,
          14364,
          14870,
          15791,
          22490,
          14778,
          13087,
          14225,
          15211,
          22998,
          15137,
          13444,
          14272,
          14828,
          18901,
          11847,
          7375,
          409,
          133,
          11078,
          8407,
          7833,
          1892,
          248
         ],
         "yaxis": "y"
        },
        {
         "hovertemplate": "%{hovertext}<br />Antall: %{y}<extra></extra>",
         "hovertext": [
          "2021",
          "2021",
          "2021",
          "2021",
          "2021",
          "2021",
          "2021",
          "2021",
          "2021",
          "2021",
          "2021",
          "2021",
          "2021",
          "2021",
          "2021",
          "2021",
          "2021",
          "2021",
          "2021",
          "2021",
          "2021",
          "2021",
          "2021",
          "2021",
          "2021",
          "2021",
          "2021",
          "2021",
          "2021",
          "2021",
          "2021",
          "2021",
          "2021",
          "2021",
          "2021",
          "2021",
          "2021",
          "2021",
          "2021",
          "2021",
          "2021",
          "2021",
          "2021",
          "2021",
          "2021",
          "2021",
          "2021",
          "2021",
          "2021",
          "2021",
          "2021",
          "2021",
          "2021",
          "2021",
          "2021",
          "2021",
          "2021",
          "2021",
          "2021",
          "2021",
          "2021",
          "2021",
          "2021",
          "2021",
          "2021",
          "2021",
          "2021",
          "2021",
          "2021",
          "2021",
          "2021",
          "2021",
          "2021",
          "2021",
          "2021",
          "2021",
          "2021",
          "2021",
          "2021",
          "2021",
          "2021",
          "2021",
          "2021",
          "2021",
          "2021",
          "2021",
          "2021",
          "2021",
          "2021",
          "2021",
          "2021",
          "2021",
          "2021",
          "2021",
          "2021",
          "2021",
          "2021",
          "2021",
          "2021",
          "2021",
          "2021",
          "2021",
          "2021",
          "2021",
          "2021",
          "2021",
          "2021",
          "2021",
          "2021",
          "2021",
          "2021",
          "2021",
          "2021",
          "2021",
          "2021",
          "2021",
          "2021",
          "2021",
          "2021",
          "2021",
          "2021",
          "2021",
          "2021",
          "2021",
          "2021",
          "2021",
          "2021",
          "2021",
          "2021",
          "2021",
          "2021",
          "2021",
          "2021",
          "2021",
          "2021",
          "2021",
          "2021",
          "2021",
          "2021",
          "2021",
          "2021",
          "2021",
          "2021",
          "2021",
          "2021",
          "2021",
          "2021",
          "2021",
          "2021",
          "2021",
          "2021",
          "2021",
          "2021",
          "2021",
          "2021",
          "2021",
          "2021",
          "2021",
          "2021",
          "2021",
          "2021",
          "2021",
          "2021",
          "2021",
          "2021",
          "2021",
          "2021",
          "2021",
          "2021",
          "2021",
          "2021",
          "2021",
          "2021",
          "2021",
          "2021",
          "2021",
          "2021",
          "2021",
          "2021",
          "2021",
          "2021",
          "2021",
          "2021",
          "2021",
          "2021",
          "2021",
          "2021",
          "2021",
          "2021",
          "2021",
          "2021",
          "2021",
          "2021",
          "2021",
          "2021",
          "2021",
          "2021",
          "2021",
          "2021",
          "2021",
          "2021",
          "2021",
          "2021",
          "2021",
          "2021",
          "2021",
          "2021",
          "2021",
          "2021",
          "2021",
          "2021",
          "2021",
          "2021",
          "2021",
          "2021",
          "2021",
          "2021",
          "2021",
          "2021",
          "2021",
          "2021",
          "2021",
          "2021",
          "2021",
          "2021",
          "2021",
          "2021",
          "2021",
          "2021",
          "2021",
          "2021",
          "2021",
          "2021",
          "2021",
          "2021",
          "2021",
          "2021",
          "2021",
          "2021",
          "2021",
          "2021",
          "2021",
          "2021",
          "2021",
          "2021",
          "2021",
          "2021",
          "2021",
          "2021",
          "2021",
          "2021",
          "2021",
          "2021",
          "2021",
          "2021",
          "2021",
          "2021",
          "2021",
          "2021",
          "2021"
         ],
         "legendgroup": "2021",
         "line": {
          "color": "#FF9100",
          "dash": "solid",
          "shape": "spline"
         },
         "marker": {
          "symbol": "circle"
         },
         "mode": "lines",
         "name": "2021",
         "orientation": "v",
         "showlegend": true,
         "type": "scatter",
         "x": [
          "01 / Mon",
          "01 / Tue",
          "01 / Wed",
          "01 / Thu",
          "01 / Fri",
          "02 / Mon",
          "02 / Tue",
          "02 / Wed",
          "02 / Thu",
          "02 / Fri",
          "03 / Mon",
          "03 / Tue",
          "03 / Wed",
          "03 / Thu",
          "03 / Fri",
          "04 / Mon",
          "04 / Tue",
          "04 / Wed",
          "04 / Thu",
          "04 / Fri",
          "05 / Mon",
          "05 / Tue",
          "05 / Wed",
          "05 / Thu",
          "05 / Fri",
          "06 / Mon",
          "06 / Tue",
          "06 / Wed",
          "06 / Thu",
          "06 / Fri",
          "07 / Mon",
          "07 / Tue",
          "07 / Wed",
          "07 / Thu",
          "07 / Fri",
          "08 / Mon",
          "08 / Tue",
          "08 / Wed",
          "08 / Thu",
          "08 / Fri",
          "09 / Mon",
          "09 / Tue",
          "09 / Wed",
          "09 / Thu",
          "09 / Fri",
          "10 / Mon",
          "10 / Tue",
          "10 / Wed",
          "10 / Thu",
          "10 / Fri",
          "11 / Mon",
          "11 / Tue",
          "11 / Wed",
          "11 / Thu",
          "11 / Fri",
          "12 / Mon",
          "12 / Tue",
          "12 / Wed",
          "12 / Thu",
          "12 / Fri",
          "13 / Mon",
          "13 / Tue",
          "13 / Wed",
          "13 / Thu",
          "13 / Fri",
          "14 / Mon",
          "14 / Tue",
          "14 / Wed",
          "14 / Thu",
          "14 / Fri",
          "15 / Mon",
          "15 / Tue",
          "15 / Wed",
          "15 / Thu",
          "15 / Fri",
          "16 / Mon",
          "16 / Tue",
          "16 / Wed",
          "16 / Thu",
          "16 / Fri",
          "17 / Mon",
          "17 / Tue",
          "17 / Wed",
          "17 / Thu",
          "17 / Fri",
          "18 / Mon",
          "18 / Tue",
          "18 / Wed",
          "18 / Thu",
          "18 / Fri",
          "19 / Mon",
          "19 / Tue",
          "19 / Wed",
          "19 / Thu",
          "19 / Fri",
          "20 / Mon",
          "20 / Tue",
          "20 / Wed",
          "20 / Thu",
          "20 / Fri",
          "21 / Mon",
          "21 / Tue",
          "21 / Wed",
          "21 / Thu",
          "21 / Fri",
          "22 / Mon",
          "22 / Tue",
          "22 / Wed",
          "22 / Thu",
          "22 / Fri",
          "23 / Mon",
          "23 / Tue",
          "23 / Wed",
          "23 / Thu",
          "23 / Fri",
          "24 / Mon",
          "24 / Tue",
          "24 / Wed",
          "24 / Thu",
          "24 / Fri",
          "25 / Mon",
          "25 / Tue",
          "25 / Wed",
          "25 / Thu",
          "25 / Fri",
          "26 / Mon",
          "26 / Tue",
          "26 / Wed",
          "26 / Thu",
          "26 / Fri",
          "27 / Mon",
          "27 / Tue",
          "27 / Wed",
          "27 / Thu",
          "27 / Fri",
          "28 / Mon",
          "28 / Tue",
          "28 / Wed",
          "28 / Thu",
          "28 / Fri",
          "29 / Mon",
          "29 / Tue",
          "29 / Wed",
          "29 / Thu",
          "29 / Fri",
          "30 / Mon",
          "30 / Tue",
          "30 / Wed",
          "30 / Thu",
          "30 / Fri",
          "31 / Mon",
          "31 / Tue",
          "31 / Wed",
          "31 / Thu",
          "31 / Fri",
          "32 / Mon",
          "32 / Tue",
          "32 / Wed",
          "32 / Thu",
          "32 / Fri",
          "33 / Mon",
          "33 / Tue",
          "33 / Wed",
          "33 / Thu",
          "33 / Fri",
          "34 / Mon",
          "34 / Tue",
          "34 / Wed",
          "34 / Thu",
          "34 / Fri",
          "35 / Mon",
          "35 / Tue",
          "35 / Wed",
          "35 / Thu",
          "35 / Fri",
          "36 / Mon",
          "36 / Tue",
          "36 / Wed",
          "36 / Thu",
          "36 / Fri",
          "37 / Mon",
          "37 / Tue",
          "37 / Wed",
          "37 / Thu",
          "37 / Fri",
          "38 / Mon",
          "38 / Tue",
          "38 / Wed",
          "38 / Thu",
          "38 / Fri",
          "39 / Mon",
          "39 / Tue",
          "39 / Wed",
          "39 / Thu",
          "39 / Fri",
          "40 / Mon",
          "40 / Tue",
          "40 / Wed",
          "40 / Thu",
          "40 / Fri",
          "41 / Mon",
          "41 / Tue",
          "41 / Wed",
          "41 / Thu",
          "41 / Fri",
          "42 / Mon",
          "42 / Tue",
          "42 / Wed",
          "42 / Thu",
          "42 / Fri",
          "43 / Mon",
          "43 / Tue",
          "43 / Wed",
          "43 / Thu",
          "43 / Fri",
          "44 / Mon",
          "44 / Tue",
          "44 / Wed",
          "44 / Thu",
          "44 / Fri",
          "45 / Mon",
          "45 / Tue",
          "45 / Wed",
          "45 / Thu",
          "45 / Fri",
          "46 / Mon",
          "46 / Tue",
          "46 / Wed",
          "46 / Thu",
          "46 / Fri",
          "47 / Mon",
          "47 / Tue",
          "47 / Wed",
          "47 / Thu",
          "47 / Fri",
          "48 / Mon",
          "48 / Tue",
          "48 / Wed",
          "48 / Thu",
          "48 / Fri",
          "49 / Mon",
          "49 / Tue",
          "49 / Wed",
          "49 / Thu",
          "49 / Fri",
          "50 / Mon",
          "50 / Tue",
          "50 / Wed",
          "50 / Thu",
          "50 / Fri",
          "51 / Mon",
          "51 / Tue",
          "51 / Wed",
          "51 / Thu",
          "51 / Fri",
          "52 / Mon",
          "52 / Tue",
          "52 / Wed",
          "52 / Thu",
          "52 / Fri"
         ],
         "xaxis": "x",
         "y": [
          37958,
          23034,
          18353,
          17756,
          17487,
          23425,
          14470,
          13124,
          14653,
          15390,
          24420,
          14879,
          13387,
          13805,
          14450,
          23162,
          14982,
          14087,
          17100,
          18777,
          28912,
          16772,
          15047,
          15640,
          16523,
          24064,
          14725,
          13295,
          14529,
          16328,
          24586,
          15089,
          14010,
          14935,
          16997,
          21052,
          14513,
          14094,
          15573,
          17368,
          30228,
          17755,
          14881,
          14756,
          14302,
          26259,
          15497,
          14012,
          16135,
          17124,
          25579,
          16394,
          14248,
          15307,
          16050,
          23872,
          15085,
          14644,
          16412,
          18018,
          15476,
          11679,
          7370,
          390,
          290,
          2048,
          29571,
          19903,
          17528,
          18353,
          23027,
          14430,
          13506,
          14564,
          15450,
          20853,
          14076,
          12913,
          13714,
          15425,
          21438,
          14536,
          14070,
          17489,
          19229,
          23927,
          15265,
          13874,
          14834,
          16338,
          21863,
          14894,
          14369,
          1882,
          10416,
          1754,
          22187,
          16046,
          15823,
          16384,
          2173,
          21000,
          16007,
          16593,
          17325,
          27214,
          17644,
          13436,
          14216,
          14795,
          19415,
          13218,
          12070,
          12892,
          13262,
          19458,
          13634,
          12663,
          13361,
          14342,
          18592,
          12854,
          12142,
          12545,
          13214,
          18335,
          13697,
          15143,
          13161,
          12014,
          14292,
          9697,
          8834,
          8491,
          9951,
          11516,
          8090,
          7709,
          8102,
          8451,
          11344,
          7802,
          7134,
          6988,
          7421,
          11511,
          8552,
          7810,
          8910,
          10210,
          17078,
          11298,
          9605,
          9442,
          9594,
          18416,
          12597,
          10766,
          10664,
          11089,
          20640,
          13780,
          12457,
          12352,
          12434,
          19736,
          13792,
          12417,
          13740,
          14062,
          23625,
          18551,
          15781,
          15937,
          14190,
          23147,
          14758,
          13846,
          14973,
          14374,
          22345,
          15266,
          14609,
          15597,
          14484,
          23884,
          15610,
          14338,
          14760,
          14441,
          24245,
          17429,
          17373,
          21126,
          17903,
          23207,
          15824,
          14047,
          13781,
          14003,
          23712,
          15316,
          14438,
          14433,
          14056,
          26458,
          16800,
          16011,
          16241,
          15511,
          26138,
          17802,
          17355,
          19762,
          19864,
          30730,
          18960,
          16839,
          17125,
          16701,
          28609,
          18476,
          16933,
          17726,
          16612,
          30168,
          18763,
          17491,
          16961,
          17056,
          29507,
          19151,
          17479,
          18856,
          17869,
          33657,
          25774,
          21056,
          19710,
          18800,
          31682,
          20122,
          17496,
          18365,
          18058,
          31372,
          19898,
          18740,
          18055,
          18168,
          27103,
          15907,
          14067,
          8863,
          1177,
          11972,
          8867,
          9166,
          8615,
          1992
         ],
         "yaxis": "y"
        },
        {
         "hovertemplate": "%{hovertext}<br />Antall: %{y}<extra></extra>",
         "hovertext": [
          "2022",
          "2022",
          "2022",
          "2022",
          "2022",
          "2022",
          "2022",
          "2022",
          "2022",
          "2022",
          "2022",
          "2022",
          "2022",
          "2022",
          "2022",
          "2022",
          "2022",
          "2022",
          "2022",
          "2022",
          "2022",
          "2022",
          "2022",
          "2022",
          "2022",
          "2022",
          "2022",
          "2022",
          "2022",
          "2022",
          "2022",
          "2022",
          "2022",
          "2022",
          "2022",
          "2022",
          "2022",
          "2022",
          "2022",
          "2022",
          "2022",
          "2022",
          "2022",
          "2022",
          "2022",
          "2022",
          "2022",
          "2022",
          "2022",
          "2022",
          "2022",
          "2022",
          "2022",
          "2022",
          "2022",
          "2022",
          "2022",
          "2022",
          "2022",
          "2022",
          "2022",
          "2022",
          "2022",
          "2022",
          "2022",
          "2022",
          "2022",
          "2022",
          "2022",
          "2022",
          "2022",
          "2022",
          "2022",
          "2022",
          "2022",
          "2022",
          "2022",
          "2022",
          "2022",
          "2022",
          "2022",
          "2022",
          "2022",
          "2022",
          "2022",
          "2022",
          "2022",
          "2022",
          "2022",
          "2022",
          "2022",
          "2022",
          "2022",
          "2022",
          "2022",
          "2022",
          "2022",
          "2022",
          "2022",
          "2022",
          "2022",
          "2022",
          "2022",
          "2022",
          "2022",
          "2022",
          "2022",
          "2022",
          "2022",
          "2022",
          "2022",
          "2022",
          "2022",
          "2022",
          "2022",
          "2022",
          "2022",
          "2022",
          "2022",
          "2022",
          "2022",
          "2022",
          "2022",
          "2022",
          "2022",
          "2022",
          "2022",
          "2022",
          "2022",
          "2022",
          "2022",
          "2022",
          "2022",
          "2022",
          "2022",
          "2022",
          "2022",
          "2022",
          "2022",
          "2022",
          "2022",
          "2022",
          "2022",
          "2022",
          "2022",
          "2022",
          "2022",
          "2022",
          "2022",
          "2022",
          "2022",
          "2022",
          "2022",
          "2022",
          "2022",
          "2022",
          "2022",
          "2022",
          "2022",
          "2022",
          "2022",
          "2022",
          "2022",
          "2022",
          "2022",
          "2022",
          "2022",
          "2022",
          "2022",
          "2022",
          "2022",
          "2022",
          "2022",
          "2022",
          "2022",
          "2022",
          "2022",
          "2022",
          "2022",
          "2022",
          "2022",
          "2022",
          "2022",
          "2022",
          "2022",
          "2022",
          "2022",
          "2022",
          "2022",
          "2022",
          "2022",
          "2022",
          "2022",
          "2022",
          "2022",
          "2022",
          "2022",
          "2022",
          "2022",
          "2022",
          "2022",
          "2022",
          "2022",
          "2022",
          "2022",
          "2022",
          "2022",
          "2022",
          "2022",
          "2022",
          "2022",
          "2022"
         ],
         "legendgroup": "2022",
         "line": {
          "color": "#BA3A26",
          "dash": "solid",
          "shape": "spline"
         },
         "marker": {
          "symbol": "circle"
         },
         "mode": "lines",
         "name": "2022",
         "orientation": "v",
         "showlegend": true,
         "type": "scatter",
         "x": [
          "01 / Mon",
          "01 / Tue",
          "01 / Wed",
          "01 / Thu",
          "01 / Fri",
          "02 / Mon",
          "02 / Tue",
          "02 / Wed",
          "02 / Thu",
          "02 / Fri",
          "03 / Mon",
          "03 / Tue",
          "03 / Wed",
          "03 / Thu",
          "03 / Fri",
          "04 / Mon",
          "04 / Tue",
          "04 / Wed",
          "04 / Thu",
          "04 / Fri",
          "05 / Mon",
          "05 / Tue",
          "05 / Wed",
          "05 / Thu",
          "05 / Fri",
          "06 / Mon",
          "06 / Tue",
          "06 / Wed",
          "06 / Thu",
          "06 / Fri",
          "07 / Mon",
          "07 / Tue",
          "07 / Wed",
          "07 / Thu",
          "07 / Fri",
          "08 / Mon",
          "08 / Tue",
          "08 / Wed",
          "08 / Thu",
          "08 / Fri",
          "09 / Mon",
          "09 / Tue",
          "09 / Wed",
          "09 / Thu",
          "09 / Fri",
          "10 / Mon",
          "10 / Tue",
          "10 / Wed",
          "10 / Thu",
          "10 / Fri",
          "11 / Mon",
          "11 / Tue",
          "11 / Wed",
          "11 / Thu",
          "11 / Fri",
          "12 / Mon",
          "12 / Tue",
          "12 / Wed",
          "12 / Thu",
          "12 / Fri",
          "13 / Mon",
          "13 / Tue",
          "13 / Wed",
          "13 / Thu",
          "13 / Fri",
          "14 / Mon",
          "14 / Tue",
          "14 / Wed",
          "14 / Thu",
          "14 / Fri",
          "15 / Mon",
          "15 / Tue",
          "15 / Wed",
          "15 / Thu",
          "15 / Fri",
          "16 / Mon",
          "16 / Tue",
          "16 / Wed",
          "16 / Thu",
          "16 / Fri",
          "17 / Mon",
          "17 / Tue",
          "17 / Wed",
          "17 / Thu",
          "17 / Fri",
          "18 / Mon",
          "18 / Tue",
          "18 / Wed",
          "18 / Thu",
          "18 / Fri",
          "19 / Mon",
          "19 / Tue",
          "19 / Wed",
          "19 / Thu",
          "19 / Fri",
          "20 / Mon",
          "20 / Tue",
          "20 / Wed",
          "20 / Thu",
          "20 / Fri",
          "21 / Mon",
          "21 / Tue",
          "21 / Wed",
          "21 / Thu",
          "21 / Fri",
          "22 / Mon",
          "22 / Tue",
          "22 / Wed",
          "22 / Thu",
          "22 / Fri",
          "23 / Mon",
          "23 / Tue",
          "23 / Wed",
          "23 / Thu",
          "23 / Fri",
          "24 / Mon",
          "24 / Tue",
          "24 / Wed",
          "24 / Thu",
          "24 / Fri",
          "25 / Mon",
          "25 / Tue",
          "25 / Wed",
          "25 / Thu",
          "25 / Fri",
          "26 / Mon",
          "26 / Tue",
          "26 / Wed",
          "26 / Thu",
          "26 / Fri",
          "27 / Mon",
          "27 / Tue",
          "27 / Wed",
          "27 / Thu",
          "27 / Fri",
          "28 / Mon",
          "28 / Tue",
          "28 / Wed",
          "28 / Thu",
          "28 / Fri",
          "29 / Mon",
          "29 / Tue",
          "29 / Wed",
          "29 / Thu",
          "29 / Fri",
          "30 / Mon",
          "30 / Tue",
          "30 / Wed",
          "30 / Thu",
          "30 / Fri",
          "31 / Mon",
          "31 / Tue",
          "31 / Wed",
          "31 / Thu",
          "31 / Fri",
          "32 / Mon",
          "32 / Tue",
          "32 / Wed",
          "32 / Thu",
          "32 / Fri",
          "33 / Mon",
          "33 / Tue",
          "33 / Wed",
          "33 / Thu",
          "33 / Fri",
          "34 / Mon",
          "34 / Tue",
          "34 / Wed",
          "34 / Thu",
          "34 / Fri",
          "35 / Mon",
          "35 / Tue",
          "35 / Wed",
          "35 / Thu",
          "35 / Fri",
          "36 / Mon",
          "36 / Tue",
          "36 / Wed",
          "36 / Thu",
          "36 / Fri",
          "37 / Mon",
          "37 / Tue",
          "37 / Wed",
          "37 / Thu",
          "37 / Fri",
          "38 / Mon",
          "38 / Tue",
          "38 / Wed",
          "38 / Thu",
          "38 / Fri",
          "39 / Mon",
          "39 / Tue",
          "39 / Wed",
          "39 / Thu",
          "39 / Fri",
          "40 / Mon",
          "40 / Tue",
          "40 / Wed",
          "40 / Thu",
          "40 / Fri",
          "41 / Mon",
          "41 / Tue",
          "41 / Wed",
          "41 / Thu",
          "41 / Fri",
          "42 / Mon",
          "42 / Tue",
          "42 / Wed",
          "42 / Thu",
          "42 / Fri",
          "43 / Mon",
          "43 / Tue"
         ],
         "xaxis": "x",
         "y": [
          38098,
          25883,
          21549,
          20644,
          19524,
          30437,
          19157,
          17065,
          18827,
          18536,
          32295,
          20798,
          18617,
          19369,
          19004,
          34224,
          22693,
          20294,
          21192,
          20484,
          43089,
          27267,
          22554,
          21496,
          20574,
          36914,
          23243,
          21702,
          22255,
          20204,
          37645,
          24070,
          22075,
          22439,
          20795,
          36753,
          24331,
          22129,
          21901,
          19923,
          47311,
          27985,
          24255,
          22592,
          18833,
          36545,
          24383,
          19677,
          19548,
          18810,
          33121,
          21261,
          18093,
          17981,
          17205,
          30615,
          18746,
          17166,
          17542,
          17128,
          29466,
          20144,
          19542,
          21978,
          19610,
          28983,
          18541,
          16712,
          17063,
          17219,
          16311,
          10231,
          5266,
          350,
          328,
          1998,
          30185,
          20706,
          18136,
          17720,
          25881,
          17135,
          16272,
          17598,
          17872,
          25377,
          18865,
          14998,
          15520,
          15607,
          22515,
          16013,
          13073,
          14388,
          14447,
          19589,
          479,
          18219,
          17119,
          16806,
          24560,
          17003,
          16859,
          1109,
          12723,
          28007,
          22479,
          17476,
          16656,
          15710,
          2160,
          22316,
          16590,
          14315,
          14993,
          22267,
          15402,
          14963,
          14677,
          14648,
          22547,
          15704,
          14630,
          14822,
          13732,
          21268,
          15693,
          15069,
          16634,
          13745,
          18814,
          12805,
          10470,
          11327,
          10468,
          16121,
          10760,
          9460,
          9737,
          9610,
          15445,
          10035,
          9015,
          8602,
          8861,
          15322,
          10644,
          9735,
          9940,
          10257,
          20657,
          13911,
          11636,
          10679,
          9950,
          21104,
          14186,
          12686,
          11995,
          11446,
          22540,
          15590,
          13529,
          12757,
          12863,
          21860,
          14737,
          13154,
          13427,
          12937,
          23192,
          17499,
          17514,
          15851,
          14501,
          23453,
          15442,
          13558,
          14187,
          13818,
          23281,
          15746,
          14493,
          15305,
          14914,
          23863,
          16147,
          13862,
          15109,
          14583,
          24387,
          16731,
          16602,
          18750,
          19466,
          25821,
          16533,
          14916,
          13908,
          14258,
          23941,
          15790,
          14221,
          14450,
          14223,
          27156,
          16922,
          15200,
          15422,
          15531,
          25515,
          16618
         ],
         "yaxis": "y"
        }
       ],
       "layout": {
        "annotations": [
         {
          "align": "center",
          "showarrow": false,
          "text": "NB! Dette plottet er ikke offisiell statistikk og må ikke deles utenfor NAV.",
          "x": 0.5,
          "xref": "paper",
          "y": 1.12,
          "yref": "paper"
         }
        ],
        "autosize": true,
        "dragmode": "zoom",
        "hovermode": "x unified",
        "legend": {
         "title": {
          "text": "År"
         },
         "tracegroupgap": 0,
         "traceorder": "reversed"
        },
        "margin": {
         "b": 100,
         "t": 100
        },
        "separators": ", ",
        "template": {
         "data": {
          "bar": [
           {
            "error_x": {
             "color": "#2a3f5f"
            },
            "error_y": {
             "color": "#2a3f5f"
            },
            "marker": {
             "line": {
              "color": "white",
              "width": 0.5
             },
             "pattern": {
              "fillmode": "overlay",
              "size": 10,
              "solidity": 0.2
             }
            },
            "type": "bar"
           }
          ],
          "barpolar": [
           {
            "marker": {
             "line": {
              "color": "white",
              "width": 0.5
             },
             "pattern": {
              "fillmode": "overlay",
              "size": 10,
              "solidity": 0.2
             }
            },
            "type": "barpolar"
           }
          ],
          "carpet": [
           {
            "aaxis": {
             "endlinecolor": "#2a3f5f",
             "gridcolor": "#C8D4E3",
             "linecolor": "#C8D4E3",
             "minorgridcolor": "#C8D4E3",
             "startlinecolor": "#2a3f5f"
            },
            "baxis": {
             "endlinecolor": "#2a3f5f",
             "gridcolor": "#C8D4E3",
             "linecolor": "#C8D4E3",
             "minorgridcolor": "#C8D4E3",
             "startlinecolor": "#2a3f5f"
            },
            "type": "carpet"
           }
          ],
          "choropleth": [
           {
            "colorbar": {
             "outlinewidth": 0,
             "ticks": ""
            },
            "type": "choropleth"
           }
          ],
          "contour": [
           {
            "colorbar": {
             "outlinewidth": 0,
             "ticks": ""
            },
            "colorscale": [
             [
              0,
              "#0d0887"
             ],
             [
              0.1111111111111111,
              "#46039f"
             ],
             [
              0.2222222222222222,
              "#7201a8"
             ],
             [
              0.3333333333333333,
              "#9c179e"
             ],
             [
              0.4444444444444444,
              "#bd3786"
             ],
             [
              0.5555555555555556,
              "#d8576b"
             ],
             [
              0.6666666666666666,
              "#ed7953"
             ],
             [
              0.7777777777777778,
              "#fb9f3a"
             ],
             [
              0.8888888888888888,
              "#fdca26"
             ],
             [
              1,
              "#f0f921"
             ]
            ],
            "type": "contour"
           }
          ],
          "contourcarpet": [
           {
            "colorbar": {
             "outlinewidth": 0,
             "ticks": ""
            },
            "type": "contourcarpet"
           }
          ],
          "heatmap": [
           {
            "colorbar": {
             "outlinewidth": 0,
             "ticks": ""
            },
            "colorscale": [
             [
              0,
              "#0d0887"
             ],
             [
              0.1111111111111111,
              "#46039f"
             ],
             [
              0.2222222222222222,
              "#7201a8"
             ],
             [
              0.3333333333333333,
              "#9c179e"
             ],
             [
              0.4444444444444444,
              "#bd3786"
             ],
             [
              0.5555555555555556,
              "#d8576b"
             ],
             [
              0.6666666666666666,
              "#ed7953"
             ],
             [
              0.7777777777777778,
              "#fb9f3a"
             ],
             [
              0.8888888888888888,
              "#fdca26"
             ],
             [
              1,
              "#f0f921"
             ]
            ],
            "type": "heatmap"
           }
          ],
          "heatmapgl": [
           {
            "colorbar": {
             "outlinewidth": 0,
             "ticks": ""
            },
            "colorscale": [
             [
              0,
              "#0d0887"
             ],
             [
              0.1111111111111111,
              "#46039f"
             ],
             [
              0.2222222222222222,
              "#7201a8"
             ],
             [
              0.3333333333333333,
              "#9c179e"
             ],
             [
              0.4444444444444444,
              "#bd3786"
             ],
             [
              0.5555555555555556,
              "#d8576b"
             ],
             [
              0.6666666666666666,
              "#ed7953"
             ],
             [
              0.7777777777777778,
              "#fb9f3a"
             ],
             [
              0.8888888888888888,
              "#fdca26"
             ],
             [
              1,
              "#f0f921"
             ]
            ],
            "type": "heatmapgl"
           }
          ],
          "histogram": [
           {
            "marker": {
             "pattern": {
              "fillmode": "overlay",
              "size": 10,
              "solidity": 0.2
             }
            },
            "type": "histogram"
           }
          ],
          "histogram2d": [
           {
            "colorbar": {
             "outlinewidth": 0,
             "ticks": ""
            },
            "colorscale": [
             [
              0,
              "#0d0887"
             ],
             [
              0.1111111111111111,
              "#46039f"
             ],
             [
              0.2222222222222222,
              "#7201a8"
             ],
             [
              0.3333333333333333,
              "#9c179e"
             ],
             [
              0.4444444444444444,
              "#bd3786"
             ],
             [
              0.5555555555555556,
              "#d8576b"
             ],
             [
              0.6666666666666666,
              "#ed7953"
             ],
             [
              0.7777777777777778,
              "#fb9f3a"
             ],
             [
              0.8888888888888888,
              "#fdca26"
             ],
             [
              1,
              "#f0f921"
             ]
            ],
            "type": "histogram2d"
           }
          ],
          "histogram2dcontour": [
           {
            "colorbar": {
             "outlinewidth": 0,
             "ticks": ""
            },
            "colorscale": [
             [
              0,
              "#0d0887"
             ],
             [
              0.1111111111111111,
              "#46039f"
             ],
             [
              0.2222222222222222,
              "#7201a8"
             ],
             [
              0.3333333333333333,
              "#9c179e"
             ],
             [
              0.4444444444444444,
              "#bd3786"
             ],
             [
              0.5555555555555556,
              "#d8576b"
             ],
             [
              0.6666666666666666,
              "#ed7953"
             ],
             [
              0.7777777777777778,
              "#fb9f3a"
             ],
             [
              0.8888888888888888,
              "#fdca26"
             ],
             [
              1,
              "#f0f921"
             ]
            ],
            "type": "histogram2dcontour"
           }
          ],
          "mesh3d": [
           {
            "colorbar": {
             "outlinewidth": 0,
             "ticks": ""
            },
            "type": "mesh3d"
           }
          ],
          "parcoords": [
           {
            "line": {
             "colorbar": {
              "outlinewidth": 0,
              "ticks": ""
             }
            },
            "type": "parcoords"
           }
          ],
          "pie": [
           {
            "automargin": true,
            "type": "pie"
           }
          ],
          "scatter": [
           {
            "fillpattern": {
             "fillmode": "overlay",
             "size": 10,
             "solidity": 0.2
            },
            "type": "scatter"
           }
          ],
          "scatter3d": [
           {
            "line": {
             "colorbar": {
              "outlinewidth": 0,
              "ticks": ""
             }
            },
            "marker": {
             "colorbar": {
              "outlinewidth": 0,
              "ticks": ""
             }
            },
            "type": "scatter3d"
           }
          ],
          "scattercarpet": [
           {
            "marker": {
             "colorbar": {
              "outlinewidth": 0,
              "ticks": ""
             }
            },
            "type": "scattercarpet"
           }
          ],
          "scattergeo": [
           {
            "marker": {
             "colorbar": {
              "outlinewidth": 0,
              "ticks": ""
             }
            },
            "type": "scattergeo"
           }
          ],
          "scattergl": [
           {
            "marker": {
             "colorbar": {
              "outlinewidth": 0,
              "ticks": ""
             }
            },
            "type": "scattergl"
           }
          ],
          "scattermapbox": [
           {
            "marker": {
             "colorbar": {
              "outlinewidth": 0,
              "ticks": ""
             }
            },
            "type": "scattermapbox"
           }
          ],
          "scatterpolar": [
           {
            "marker": {
             "colorbar": {
              "outlinewidth": 0,
              "ticks": ""
             }
            },
            "type": "scatterpolar"
           }
          ],
          "scatterpolargl": [
           {
            "marker": {
             "colorbar": {
              "outlinewidth": 0,
              "ticks": ""
             }
            },
            "type": "scatterpolargl"
           }
          ],
          "scatterternary": [
           {
            "marker": {
             "colorbar": {
              "outlinewidth": 0,
              "ticks": ""
             }
            },
            "type": "scatterternary"
           }
          ],
          "surface": [
           {
            "colorbar": {
             "outlinewidth": 0,
             "ticks": ""
            },
            "colorscale": [
             [
              0,
              "#0d0887"
             ],
             [
              0.1111111111111111,
              "#46039f"
             ],
             [
              0.2222222222222222,
              "#7201a8"
             ],
             [
              0.3333333333333333,
              "#9c179e"
             ],
             [
              0.4444444444444444,
              "#bd3786"
             ],
             [
              0.5555555555555556,
              "#d8576b"
             ],
             [
              0.6666666666666666,
              "#ed7953"
             ],
             [
              0.7777777777777778,
              "#fb9f3a"
             ],
             [
              0.8888888888888888,
              "#fdca26"
             ],
             [
              1,
              "#f0f921"
             ]
            ],
            "type": "surface"
           }
          ],
          "table": [
           {
            "cells": {
             "fill": {
              "color": "#EBF0F8"
             },
             "line": {
              "color": "white"
             }
            },
            "header": {
             "fill": {
              "color": "#C8D4E3"
             },
             "line": {
              "color": "white"
             }
            },
            "type": "table"
           }
          ]
         },
         "layout": {
          "annotationdefaults": {
           "arrowcolor": "#2a3f5f",
           "arrowhead": 0,
           "arrowwidth": 1
          },
          "autotypenumbers": "strict",
          "coloraxis": {
           "colorbar": {
            "outlinewidth": 0,
            "ticks": ""
           }
          },
          "colorscale": {
           "diverging": [
            [
             0,
             "#8e0152"
            ],
            [
             0.1,
             "#c51b7d"
            ],
            [
             0.2,
             "#de77ae"
            ],
            [
             0.3,
             "#f1b6da"
            ],
            [
             0.4,
             "#fde0ef"
            ],
            [
             0.5,
             "#f7f7f7"
            ],
            [
             0.6,
             "#e6f5d0"
            ],
            [
             0.7,
             "#b8e186"
            ],
            [
             0.8,
             "#7fbc41"
            ],
            [
             0.9,
             "#4d9221"
            ],
            [
             1,
             "#276419"
            ]
           ],
           "sequential": [
            [
             0,
             "#0d0887"
            ],
            [
             0.1111111111111111,
             "#46039f"
            ],
            [
             0.2222222222222222,
             "#7201a8"
            ],
            [
             0.3333333333333333,
             "#9c179e"
            ],
            [
             0.4444444444444444,
             "#bd3786"
            ],
            [
             0.5555555555555556,
             "#d8576b"
            ],
            [
             0.6666666666666666,
             "#ed7953"
            ],
            [
             0.7777777777777778,
             "#fb9f3a"
            ],
            [
             0.8888888888888888,
             "#fdca26"
            ],
            [
             1,
             "#f0f921"
            ]
           ],
           "sequentialminus": [
            [
             0,
             "#0d0887"
            ],
            [
             0.1111111111111111,
             "#46039f"
            ],
            [
             0.2222222222222222,
             "#7201a8"
            ],
            [
             0.3333333333333333,
             "#9c179e"
            ],
            [
             0.4444444444444444,
             "#bd3786"
            ],
            [
             0.5555555555555556,
             "#d8576b"
            ],
            [
             0.6666666666666666,
             "#ed7953"
            ],
            [
             0.7777777777777778,
             "#fb9f3a"
            ],
            [
             0.8888888888888888,
             "#fdca26"
            ],
            [
             1,
             "#f0f921"
            ]
           ]
          },
          "colorway": [
           "#636efa",
           "#EF553B",
           "#00cc96",
           "#ab63fa",
           "#FFA15A",
           "#19d3f3",
           "#FF6692",
           "#B6E880",
           "#FF97FF",
           "#FECB52"
          ],
          "font": {
           "color": "#2a3f5f"
          },
          "geo": {
           "bgcolor": "white",
           "lakecolor": "white",
           "landcolor": "white",
           "showlakes": true,
           "showland": true,
           "subunitcolor": "#C8D4E3"
          },
          "hoverlabel": {
           "align": "left"
          },
          "hovermode": "closest",
          "mapbox": {
           "style": "light"
          },
          "paper_bgcolor": "white",
          "plot_bgcolor": "white",
          "polar": {
           "angularaxis": {
            "gridcolor": "#EBF0F8",
            "linecolor": "#EBF0F8",
            "ticks": ""
           },
           "bgcolor": "white",
           "radialaxis": {
            "gridcolor": "#EBF0F8",
            "linecolor": "#EBF0F8",
            "ticks": ""
           }
          },
          "scene": {
           "xaxis": {
            "backgroundcolor": "white",
            "gridcolor": "#DFE8F3",
            "gridwidth": 2,
            "linecolor": "#EBF0F8",
            "showbackground": true,
            "ticks": "",
            "zerolinecolor": "#EBF0F8"
           },
           "yaxis": {
            "backgroundcolor": "white",
            "gridcolor": "#DFE8F3",
            "gridwidth": 2,
            "linecolor": "#EBF0F8",
            "showbackground": true,
            "ticks": "",
            "zerolinecolor": "#EBF0F8"
           },
           "zaxis": {
            "backgroundcolor": "white",
            "gridcolor": "#DFE8F3",
            "gridwidth": 2,
            "linecolor": "#EBF0F8",
            "showbackground": true,
            "ticks": "",
            "zerolinecolor": "#EBF0F8"
           }
          },
          "shapedefaults": {
           "line": {
            "color": "#2a3f5f"
           }
          },
          "ternary": {
           "aaxis": {
            "gridcolor": "#DFE8F3",
            "linecolor": "#A2B1C6",
            "ticks": ""
           },
           "baxis": {
            "gridcolor": "#DFE8F3",
            "linecolor": "#A2B1C6",
            "ticks": ""
           },
           "bgcolor": "white",
           "caxis": {
            "gridcolor": "#DFE8F3",
            "linecolor": "#A2B1C6",
            "ticks": ""
           }
          },
          "title": {
           "x": 0.05
          },
          "xaxis": {
           "automargin": true,
           "gridcolor": "#EBF0F8",
           "linecolor": "#EBF0F8",
           "ticks": "",
           "title": {
            "standoff": 15
           },
           "zerolinecolor": "#EBF0F8",
           "zerolinewidth": 2
          },
          "yaxis": {
           "automargin": true,
           "gridcolor": "#EBF0F8",
           "linecolor": "#EBF0F8",
           "ticks": "",
           "title": {
            "standoff": 15
           },
           "zerolinecolor": "#EBF0F8",
           "zerolinewidth": 2
          }
         }
        },
        "xaxis": {
         "anchor": "y",
         "autorange": true,
         "domain": [
          0,
          1
         ],
         "range": [
          0,
          264
         ],
         "rangeslider": {
          "autorange": true,
          "range": [
           0,
           264
          ],
          "yaxis": {
           "_template": null,
           "rangemode": "match"
          }
         },
         "title": {
          "text": ""
         },
         "type": "category"
        },
        "yaxis": {
         "anchor": "x",
         "autorange": true,
         "domain": [
          0,
          1
         ],
         "range": [
          -2513,
          50407
         ],
         "tickformat": ",d",
         "title": {
          "text": ""
         },
         "type": "linear"
        }
       }
      },
      "image/png": "[encoded data removed]",
      "text/html": [
       "<div>                            <div id=\"5384294d-e614-44c8-a6cc-7c258c2f97be\" class=\"plotly-graph-div\" style=\"height:600px; width:100%;\"></div>            <script type=\"text/javascript\">                require([\"plotly\"], function(Plotly) {                    window.PLOTLYENV=window.PLOTLYENV || {};                                    if (document.getElementById(\"5384294d-e614-44c8-a6cc-7c258c2f97be\")) {                    Plotly.newPlot(                        \"5384294d-e614-44c8-a6cc-7c258c2f97be\",                        [{\"hovertemplate\":\"%{hovertext}<br />Antall: %{y}<extra></extra>\",\"hovertext\":[\"2019\",\"2019\",\"2019\",\"2019\",\"2019\",\"2019\",\"2019\",\"2019\",\"2019\",\"2019\",\"2019\",\"2019\",\"2019\",\"2019\",\"2019\",\"2019\",\"2019\",\"2019\",\"2019\",\"2019\",\"2019\",\"2019\",\"2019\",\"2019\",\"2019\",\"2019\",\"2019\",\"2019\",\"2019\",\"2019\",\"2019\",\"2019\",\"2019\",\"2019\",\"2019\",\"2019\",\"2019\",\"2019\",\"2019\",\"2019\",\"2019\",\"2019\",\"2019\",\"2019\",\"2019\",\"2019\",\"2019\",\"2019\",\"2019\",\"2019\",\"2019\",\"2019\",\"2019\",\"2019\",\"2019\",\"2019\",\"2019\",\"2019\",\"2019\",\"2019\",\"2019\",\"2019\",\"2019\",\"2019\",\"2019\",\"2019\",\"2019\",\"2019\",\"2019\",\"2019\",\"2019\",\"2019\",\"2019\",\"2019\",\"2019\",\"2019\",\"2019\",\"2019\",\"2019\",\"2019\",\"2019\",\"2019\",\"2019\",\"2019\",\"2019\",\"2019\",\"2019\",\"2019\",\"2019\",\"2019\",\"2019\",\"2019\",\"2019\",\"2019\",\"2019\",\"2019\",\"2019\",\"2019\",\"2019\",\"2019\",\"2019\",\"2019\",\"2019\",\"2019\",\"2019\",\"2019\",\"2019\",\"2019\",\"2019\",\"2019\",\"2019\",\"2019\",\"2019\",\"2019\",\"2019\",\"2019\",\"2019\",\"2019\",\"2019\",\"2019\",\"2019\",\"2019\",\"2019\",\"2019\",\"2019\",\"2019\",\"2019\",\"2019\",\"2019\",\"2019\",\"2019\",\"2019\",\"2019\",\"2019\",\"2019\",\"2019\",\"2019\",\"2019\",\"2019\",\"2019\",\"2019\",\"2019\",\"2019\",\"2019\",\"2019\",\"2019\",\"2019\",\"2019\",\"2019\",\"2019\",\"2019\",\"2019\",\"2019\",\"2019\",\"2019\",\"2019\",\"2019\",\"2019\",\"2019\",\"2019\",\"2019\",\"2019\",\"2019\",\"2019\",\"2019\",\"2019\",\"2019\",\"2019\",\"2019\",\"2019\",\"2019\",\"2019\",\"2019\",\"2019\",\"2019\",\"2019\",\"2019\",\"2019\",\"2019\",\"2019\",\"2019\",\"2019\",\"2019\",\"2019\",\"2019\",\"2019\",\"2019\",\"2019\",\"2019\",\"2019\",\"2019\",\"2019\",\"2019\",\"2019\",\"2019\",\"2019\",\"2019\",\"2019\",\"2019\",\"2019\",\"2019\",\"2019\",\"2019\",\"2019\",\"2019\",\"2019\",\"2019\",\"2019\",\"2019\",\"2019\",\"2019\",\"2019\",\"2019\",\"2019\",\"2019\",\"2019\",\"2019\",\"2019\",\"2019\",\"2019\",\"2019\",\"2019\",\"2019\",\"2019\",\"2019\",\"2019\",\"2019\",\"2019\",\"2019\",\"2019\",\"2019\",\"2019\",\"2019\",\"2019\",\"2019\",\"2019\",\"2019\",\"2019\",\"2019\",\"2019\",\"2019\",\"2019\",\"2019\",\"2019\",\"2019\",\"2019\",\"2019\",\"2019\",\"2019\",\"2019\",\"2019\",\"2019\",\"2019\",\"2019\",\"2019\",\"2019\",\"2019\",\"2019\",\"2019\",\"2019\"],\"legendgroup\":\"2019\",\"line\":{\"color\":\"#66CBEC\",\"dash\":\"solid\",\"shape\":\"spline\"},\"marker\":{\"symbol\":\"circle\"},\"mode\":\"lines\",\"name\":\"2019\",\"orientation\":\"v\",\"showlegend\":true,\"x\":[\"01 / Mon\",\"01 / Tue\",\"01 / Wed\",\"01 / Thu\",\"01 / Fri\",\"02 / Mon\",\"02 / Tue\",\"02 / Wed\",\"02 / Thu\",\"02 / Fri\",\"03 / Mon\",\"03 / Tue\",\"03 / Wed\",\"03 / Thu\",\"03 / Fri\",\"04 / Mon\",\"04 / Tue\",\"04 / Wed\",\"04 / Thu\",\"04 / Fri\",\"05 / Mon\",\"05 / Tue\",\"05 / Wed\",\"05 / Thu\",\"05 / Fri\",\"06 / Mon\",\"06 / Tue\",\"06 / Wed\",\"06 / Thu\",\"06 / Fri\",\"07 / Mon\",\"07 / Tue\",\"07 / Wed\",\"07 / Thu\",\"07 / Fri\",\"08 / Mon\",\"08 / Tue\",\"08 / Wed\",\"08 / Thu\",\"08 / Fri\",\"09 / Mon\",\"09 / Tue\",\"09 / Wed\",\"09 / Thu\",\"09 / Fri\",\"10 / Mon\",\"10 / Tue\",\"10 / Wed\",\"10 / Thu\",\"10 / Fri\",\"11 / Mon\",\"11 / Tue\",\"11 / Wed\",\"11 / Thu\",\"11 / Fri\",\"12 / Mon\",\"12 / Tue\",\"12 / Wed\",\"12 / Thu\",\"12 / Fri\",\"13 / Mon\",\"13 / Tue\",\"13 / Wed\",\"13 / Thu\",\"13 / Fri\",\"14 / Mon\",\"14 / Tue\",\"14 / Wed\",\"14 / Thu\",\"14 / Fri\",\"15 / Mon\",\"15 / Tue\",\"15 / Wed\",\"15 / Thu\",\"15 / Fri\",\"16 / Mon\",\"16 / Tue\",\"16 / Wed\",\"16 / Thu\",\"16 / Fri\",\"17 / Mon\",\"17 / Tue\",\"17 / Wed\",\"17 / Thu\",\"17 / Fri\",\"18 / Mon\",\"18 / Tue\",\"18 / Wed\",\"18 / Thu\",\"18 / Fri\",\"19 / Mon\",\"19 / Tue\",\"19 / Wed\",\"19 / Thu\",\"19 / Fri\",\"20 / Mon\",\"20 / Tue\",\"20 / Wed\",\"20 / Thu\",\"20 / Fri\",\"21 / Mon\",\"21 / Tue\",\"21 / Wed\",\"21 / Thu\",\"21 / Fri\",\"22 / Mon\",\"22 / Tue\",\"22 / Wed\",\"22 / Thu\",\"22 / Fri\",\"23 / Mon\",\"23 / Tue\",\"23 / Wed\",\"23 / Thu\",\"23 / Fri\",\"24 / Mon\",\"24 / Tue\",\"24 / Wed\",\"24 / Thu\",\"24 / Fri\",\"25 / Mon\",\"25 / Tue\",\"25 / Wed\",\"25 / Thu\",\"25 / Fri\",\"26 / Mon\",\"26 / Tue\",\"26 / Wed\",\"26 / Thu\",\"26 / Fri\",\"27 / Mon\",\"27 / Tue\",\"27 / Wed\",\"27 / Thu\",\"27 / Fri\",\"28 / Mon\",\"28 / Tue\",\"28 / Wed\",\"28 / Thu\",\"28 / Fri\",\"29 / Mon\",\"29 / Tue\",\"29 / Wed\",\"29 / Thu\",\"29 / Fri\",\"30 / Mon\",\"30 / Tue\",\"30 / Wed\",\"30 / Thu\",\"30 / Fri\",\"31 / Mon\",\"31 / Tue\",\"31 / Wed\",\"31 / Thu\",\"31 / Fri\",\"32 / Mon\",\"32 / Tue\",\"32 / Wed\",\"32 / Thu\",\"32 / Fri\",\"33 / Mon\",\"33 / Tue\",\"33 / Wed\",\"33 / Thu\",\"33 / Fri\",\"34 / Mon\",\"34 / Tue\",\"34 / Wed\",\"34 / Thu\",\"34 / Fri\",\"35 / Mon\",\"35 / Tue\",\"35 / Wed\",\"35 / Thu\",\"35 / Fri\",\"36 / Mon\",\"36 / Tue\",\"36 / Wed\",\"36 / Thu\",\"36 / Fri\",\"37 / Mon\",\"37 / Tue\",\"37 / Wed\",\"37 / Thu\",\"37 / Fri\",\"38 / Mon\",\"38 / Tue\",\"38 / Wed\",\"38 / Thu\",\"38 / Fri\",\"39 / Mon\",\"39 / Tue\",\"39 / Wed\",\"39 / Thu\",\"39 / Fri\",\"40 / Mon\",\"40 / Tue\",\"40 / Wed\",\"40 / Thu\",\"40 / Fri\",\"41 / Mon\",\"41 / Tue\",\"41 / Wed\",\"41 / Thu\",\"41 / Fri\",\"42 / Mon\",\"42 / Tue\",\"42 / Wed\",\"42 / Thu\",\"42 / Fri\",\"43 / Mon\",\"43 / Tue\",\"43 / Wed\",\"43 / Thu\",\"43 / Fri\",\"44 / Mon\",\"44 / Tue\",\"44 / Wed\",\"44 / Thu\",\"44 / Fri\",\"45 / Mon\",\"45 / Tue\",\"45 / Wed\",\"45 / Thu\",\"45 / Fri\",\"46 / Mon\",\"46 / Tue\",\"46 / Wed\",\"46 / Thu\",\"46 / Fri\",\"47 / Mon\",\"47 / Tue\",\"47 / Wed\",\"47 / Thu\",\"47 / Fri\",\"48 / Mon\",\"48 / Tue\",\"48 / Wed\",\"48 / Thu\",\"48 / Fri\",\"49 / Mon\",\"49 / Tue\",\"49 / Wed\",\"49 / Thu\",\"49 / Fri\",\"50 / Mon\",\"50 / Tue\",\"50 / Wed\",\"50 / Thu\",\"50 / Fri\",\"51 / Mon\",\"51 / Tue\",\"51 / Wed\",\"51 / Thu\",\"51 / Fri\",\"52 / Mon\",\"52 / Tue\",\"52 / Wed\",\"52 / Thu\",\"52 / Fri\"],\"xaxis\":\"x\",\"y\":[2066,433,22783,22446,19757,25404,15891,14249,13778,13570,19963,13185,12551,12975,13308,21010,13305,12127,12579,12101,21402,15450,16062,19651,17325,24792,16225,14688,14816,14744,22819,15078,13711,14774,15326,21345,13898,12451,12339,11968,22014,15315,15425,17929,16051,24467,15871,13353,13989,13784,21215,13859,12642,13651,14031,21408,13317,12059,12111,12529,20677,13902,13382,15296,16312,24299,13797,12998,13001,13127,19493,12940,12162,12700,13488,10903,6788,3452,428,165,653,20942,16694,14896,14465,21713,19007,2086,14949,14131,19438,12973,11279,11297,11618,17581,12449,11978,12148,1058,18655,13263,11787,12020,11878,19664,15305,16188,1557,11410,23980,14945,12217,12307,12416,1807,16437,12977,12059,11941,17651,11875,11014,11637,11631,15326,11182,10917,11764,12925,15677,9891,8777,8313,8437,11021,6982,6639,6785,6682,9918,6781,6083,6017,6197,10248,7100,6376,5927,5951,11993,8925,9339,8957,7593,15586,10110,8869,8512,8317,16243,11395,10143,10023,9781,17724,11861,10407,10241,10329,16898,11711,11503,12040,13947,20712,13038,11514,11414,11563,18416,12090,10982,11985,12214,19919,12865,11112,11614,11446,19434,13124,11790,12947,13854,23186,15616,11851,11717,11130,19452,13394,11383,11196,10932,20947,13587,12033,12459,12868,18998,12814,11229,11850,12181,21303,14513,14522,17361,14847,21145,13667,11926,12870,12731,20796,13576,12813,13146,13070,21457,14118,12311,12776,13031,21400,14673,13876,16309,17798,25397,16053,13595,14051,14193,22257,14658,13091,13528,14063,21550,14253,12675,13573,13270,8356,351,169,243,6237],\"yaxis\":\"y\",\"type\":\"scatter\"},{\"hovertemplate\":\"%{hovertext}<br />Antall: %{y}<extra></extra>\",\"hovertext\":[\"2020\",\"2020\",\"2020\",\"2020\",\"2020\",\"2020\",\"2020\",\"2020\",\"2020\",\"2020\",\"2020\",\"2020\",\"2020\",\"2020\",\"2020\",\"2020\",\"2020\",\"2020\",\"2020\",\"2020\",\"2020\",\"2020\",\"2020\",\"2020\",\"2020\",\"2020\",\"2020\",\"2020\",\"2020\",\"2020\",\"2020\",\"2020\",\"2020\",\"2020\",\"2020\",\"2020\",\"2020\",\"2020\",\"2020\",\"2020\",\"2020\",\"2020\",\"2020\",\"2020\",\"2020\",\"2020\",\"2020\",\"2020\",\"2020\",\"2020\",\"2020\",\"2020\",\"2020\",\"2020\",\"2020\",\"2020\",\"2020\",\"2020\",\"2020\",\"2020\",\"2020\",\"2020\",\"2020\",\"2020\",\"2020\",\"2020\",\"2020\",\"2020\",\"2020\",\"2020\",\"2020\",\"2020\",\"2020\",\"2020\",\"2020\",\"2020\",\"2020\",\"2020\",\"2020\",\"2020\",\"2020\",\"2020\",\"2020\",\"2020\",\"2020\",\"2020\",\"2020\",\"2020\",\"2020\",\"2020\",\"2020\",\"2020\",\"2020\",\"2020\",\"2020\",\"2020\",\"2020\",\"2020\",\"2020\",\"2020\",\"2020\",\"2020\",\"2020\",\"2020\",\"2020\",\"2020\",\"2020\",\"2020\",\"2020\",\"2020\",\"2020\",\"2020\",\"2020\",\"2020\",\"2020\",\"2020\",\"2020\",\"2020\",\"2020\",\"2020\",\"2020\",\"2020\",\"2020\",\"2020\",\"2020\",\"2020\",\"2020\",\"2020\",\"2020\",\"2020\",\"2020\",\"2020\",\"2020\",\"2020\",\"2020\",\"2020\",\"2020\",\"2020\",\"2020\",\"2020\",\"2020\",\"2020\",\"2020\",\"2020\",\"2020\",\"2020\",\"2020\",\"2020\",\"2020\",\"2020\",\"2020\",\"2020\",\"2020\",\"2020\",\"2020\",\"2020\",\"2020\",\"2020\",\"2020\",\"2020\",\"2020\",\"2020\",\"2020\",\"2020\",\"2020\",\"2020\",\"2020\",\"2020\",\"2020\",\"2020\",\"2020\",\"2020\",\"2020\",\"2020\",\"2020\",\"2020\",\"2020\",\"2020\",\"2020\",\"2020\",\"2020\",\"2020\",\"2020\",\"2020\",\"2020\",\"2020\",\"2020\",\"2020\",\"2020\",\"2020\",\"2020\",\"2020\",\"2020\",\"2020\",\"2020\",\"2020\",\"2020\",\"2020\",\"2020\",\"2020\",\"2020\",\"2020\",\"2020\",\"2020\",\"2020\",\"2020\",\"2020\",\"2020\",\"2020\",\"2020\",\"2020\",\"2020\",\"2020\",\"2020\",\"2020\",\"2020\",\"2020\",\"2020\",\"2020\",\"2020\",\"2020\",\"2020\",\"2020\",\"2020\",\"2020\",\"2020\",\"2020\",\"2020\",\"2020\",\"2020\",\"2020\",\"2020\",\"2020\",\"2020\",\"2020\",\"2020\",\"2020\",\"2020\",\"2020\",\"2020\",\"2020\",\"2020\",\"2020\",\"2020\",\"2020\",\"2020\",\"2020\",\"2020\",\"2020\",\"2020\",\"2020\",\"2020\",\"2020\",\"2020\",\"2020\",\"2020\",\"2020\",\"2020\",\"2020\",\"2020\",\"2020\",\"2020\",\"2020\",\"2020\",\"2020\"],\"legendgroup\":\"2020\",\"line\":{\"color\":\"#0067C5\",\"dash\":\"solid\",\"shape\":\"spline\"},\"marker\":{\"symbol\":\"circle\"},\"mode\":\"lines\",\"name\":\"2020\",\"orientation\":\"v\",\"showlegend\":true,\"x\":[\"01 / Mon\",\"01 / Tue\",\"01 / Wed\",\"01 / Thu\",\"01 / Fri\",\"02 / Mon\",\"02 / Tue\",\"02 / Wed\",\"02 / Thu\",\"02 / Fri\",\"03 / Mon\",\"03 / Tue\",\"03 / Wed\",\"03 / Thu\",\"03 / Fri\",\"04 / Mon\",\"04 / Tue\",\"04 / Wed\",\"04 / Thu\",\"04 / Fri\",\"05 / Mon\",\"05 / Tue\",\"05 / Wed\",\"05 / Thu\",\"05 / Fri\",\"06 / Mon\",\"06 / Tue\",\"06 / Wed\",\"06 / Thu\",\"06 / Fri\",\"07 / Mon\",\"07 / Tue\",\"07 / Wed\",\"07 / Thu\",\"07 / Fri\",\"08 / Mon\",\"08 / Tue\",\"08 / Wed\",\"08 / Thu\",\"08 / Fri\",\"09 / Mon\",\"09 / Tue\",\"09 / Wed\",\"09 / Thu\",\"09 / Fri\",\"10 / Mon\",\"10 / Tue\",\"10 / Wed\",\"10 / Thu\",\"10 / Fri\",\"11 / Mon\",\"11 / Tue\",\"11 / Wed\",\"11 / Thu\",\"11 / Fri\",\"12 / Mon\",\"12 / Tue\",\"12 / Wed\",\"12 / Thu\",\"12 / Fri\",\"13 / Mon\",\"13 / Tue\",\"13 / Wed\",\"13 / Thu\",\"13 / Fri\",\"14 / Mon\",\"14 / Tue\",\"14 / Wed\",\"14 / Thu\",\"14 / Fri\",\"15 / Mon\",\"15 / Tue\",\"15 / Wed\",\"15 / Thu\",\"15 / Fri\",\"16 / Mon\",\"16 / Tue\",\"16 / Wed\",\"16 / Thu\",\"16 / Fri\",\"17 / Mon\",\"17 / Tue\",\"17 / Wed\",\"17 / Thu\",\"17 / Fri\",\"18 / Mon\",\"18 / Tue\",\"18 / Wed\",\"18 / Thu\",\"18 / Fri\",\"19 / Mon\",\"19 / Tue\",\"19 / Wed\",\"19 / Thu\",\"19 / Fri\",\"20 / Mon\",\"20 / Tue\",\"20 / Wed\",\"20 / Thu\",\"20 / Fri\",\"21 / Mon\",\"21 / Tue\",\"21 / Wed\",\"21 / Thu\",\"21 / Fri\",\"22 / Mon\",\"22 / Tue\",\"22 / Wed\",\"22 / Thu\",\"22 / Fri\",\"23 / Mon\",\"23 / Tue\",\"23 / Wed\",\"23 / Thu\",\"23 / Fri\",\"24 / Mon\",\"24 / Tue\",\"24 / Wed\",\"24 / Thu\",\"24 / Fri\",\"25 / Mon\",\"25 / Tue\",\"25 / Wed\",\"25 / Thu\",\"25 / Fri\",\"26 / Mon\",\"26 / Tue\",\"26 / Wed\",\"26 / Thu\",\"26 / Fri\",\"27 / Mon\",\"27 / Tue\",\"27 / Wed\",\"27 / Thu\",\"27 / Fri\",\"28 / Mon\",\"28 / Tue\",\"28 / Wed\",\"28 / Thu\",\"28 / Fri\",\"29 / Mon\",\"29 / Tue\",\"29 / Wed\",\"29 / Thu\",\"29 / Fri\",\"30 / Mon\",\"30 / Tue\",\"30 / Wed\",\"30 / Thu\",\"30 / Fri\",\"31 / Mon\",\"31 / Tue\",\"31 / Wed\",\"31 / Thu\",\"31 / Fri\",\"32 / Mon\",\"32 / Tue\",\"32 / Wed\",\"32 / Thu\",\"32 / Fri\",\"33 / Mon\",\"33 / Tue\",\"33 / Wed\",\"33 / Thu\",\"33 / Fri\",\"34 / Mon\",\"34 / Tue\",\"34 / Wed\",\"34 / Thu\",\"34 / Fri\",\"35 / Mon\",\"35 / Tue\",\"35 / Wed\",\"35 / Thu\",\"35 / Fri\",\"36 / Mon\",\"36 / Tue\",\"36 / Wed\",\"36 / Thu\",\"36 / Fri\",\"37 / Mon\",\"37 / Tue\",\"37 / Wed\",\"37 / Thu\",\"37 / Fri\",\"38 / Mon\",\"38 / Tue\",\"38 / Wed\",\"38 / Thu\",\"38 / Fri\",\"39 / Mon\",\"39 / Tue\",\"39 / Wed\",\"39 / Thu\",\"39 / Fri\",\"40 / Mon\",\"40 / Tue\",\"40 / Wed\",\"40 / Thu\",\"40 / Fri\",\"41 / Mon\",\"41 / Tue\",\"41 / Wed\",\"41 / Thu\",\"41 / Fri\",\"42 / Mon\",\"42 / Tue\",\"42 / Wed\",\"42 / Thu\",\"42 / Fri\",\"43 / Mon\",\"43 / Tue\",\"43 / Wed\",\"43 / Thu\",\"43 / Fri\",\"44 / Mon\",\"44 / Tue\",\"44 / Wed\",\"44 / Thu\",\"44 / Fri\",\"45 / Mon\",\"45 / Tue\",\"45 / Wed\",\"45 / Thu\",\"45 / Fri\",\"46 / Mon\",\"46 / Tue\",\"46 / Wed\",\"46 / Thu\",\"46 / Fri\",\"47 / Mon\",\"47 / Tue\",\"47 / Wed\",\"47 / Thu\",\"47 / Fri\",\"48 / Mon\",\"48 / Tue\",\"48 / Wed\",\"48 / Thu\",\"48 / Fri\",\"49 / Mon\",\"49 / Tue\",\"49 / Wed\",\"49 / Thu\",\"49 / Fri\",\"50 / Mon\",\"50 / Tue\",\"50 / Wed\",\"50 / Thu\",\"50 / Fri\",\"51 / Mon\",\"51 / Tue\",\"51 / Wed\",\"51 / Thu\",\"51 / Fri\",\"52 / Mon\",\"52 / Tue\",\"52 / Wed\",\"52 / Thu\",\"52 / Fri\",\"53 / Mon\",\"53 / Tue\",\"53 / Wed\",\"53 / Thu\",\"53 / Fri\"],\"xaxis\":\"x\",\"y\":[9863,1070,397,22595,20729,30155,18791,15307,15018,14592,20522,13328,12973,13476,14267,22039,13716,11789,12442,12573,20996,14647,14226,17226,18554,26241,16056,13952,14388,14440,23466,14808,13236,14521,15374,20295,13781,11642,12102,11947,22295,14861,14136,16566,18095,28325,17882,15231,15325,15326,25454,17854,17293,22982,31429,47761,27070,21135,19303,18921,31583,17175,15321,16711,18597,30915,21155,15531,15051,16206,16029,9590,5664,370,306,1512,27511,18236,15222,15885,19545,11798,9979,10984,12160,18870,14740,16213,21453,644,23351,13383,10701,11469,12289,17110,11871,10348,12424,13451,18139,12701,12859,460,9624,20175,13347,13083,16289,17841,1245,20542,13227,12352,13257,17192,11172,9559,10981,11593,18057,12668,10787,11524,12398,11267,14484,10869,11846,11940,16412,13928,11125,9958,9511,12729,7904,7070,7071,7362,10346,7305,6715,6915,7164,11067,7261,6331,6369,6617,11806,8215,7976,8897,9228,16861,10987,9660,9108,9077,17445,11800,9960,10228,10456,19690,13129,11352,11571,11991,19163,12899,11990,13174,13588,26239,16327,13236,13139,13031,21324,13595,12145,12787,13026,21907,14049,12457,12648,13337,21254,14114,12635,13664,13774,21453,16148,17224,15214,13722,22016,13969,12469,12272,12066,22905,14059,12574,14076,14531,21799,14142,12878,13785,14366,22730,15073,14801,17645,19052,27182,16157,14044,14188,16320,24159,14937,13846,15116,15373,24716,14836,13432,14336,15278,23111,14974,13901,16225,17604,30207,18006,14364,14870,15791,22490,14778,13087,14225,15211,22998,15137,13444,14272,14828,18901,11847,7375,409,133,11078,8407,7833,1892,248],\"yaxis\":\"y\",\"type\":\"scatter\"},{\"hovertemplate\":\"%{hovertext}<br />Antall: %{y}<extra></extra>\",\"hovertext\":[\"2021\",\"2021\",\"2021\",\"2021\",\"2021\",\"2021\",\"2021\",\"2021\",\"2021\",\"2021\",\"2021\",\"2021\",\"2021\",\"2021\",\"2021\",\"2021\",\"2021\",\"2021\",\"2021\",\"2021\",\"2021\",\"2021\",\"2021\",\"2021\",\"2021\",\"2021\",\"2021\",\"2021\",\"2021\",\"2021\",\"2021\",\"2021\",\"2021\",\"2021\",\"2021\",\"2021\",\"2021\",\"2021\",\"2021\",\"2021\",\"2021\",\"2021\",\"2021\",\"2021\",\"2021\",\"2021\",\"2021\",\"2021\",\"2021\",\"2021\",\"2021\",\"2021\",\"2021\",\"2021\",\"2021\",\"2021\",\"2021\",\"2021\",\"2021\",\"2021\",\"2021\",\"2021\",\"2021\",\"2021\",\"2021\",\"2021\",\"2021\",\"2021\",\"2021\",\"2021\",\"2021\",\"2021\",\"2021\",\"2021\",\"2021\",\"2021\",\"2021\",\"2021\",\"2021\",\"2021\",\"2021\",\"2021\",\"2021\",\"2021\",\"2021\",\"2021\",\"2021\",\"2021\",\"2021\",\"2021\",\"2021\",\"2021\",\"2021\",\"2021\",\"2021\",\"2021\",\"2021\",\"2021\",\"2021\",\"2021\",\"2021\",\"2021\",\"2021\",\"2021\",\"2021\",\"2021\",\"2021\",\"2021\",\"2021\",\"2021\",\"2021\",\"2021\",\"2021\",\"2021\",\"2021\",\"2021\",\"2021\",\"2021\",\"2021\",\"2021\",\"2021\",\"2021\",\"2021\",\"2021\",\"2021\",\"2021\",\"2021\",\"2021\",\"2021\",\"2021\",\"2021\",\"2021\",\"2021\",\"2021\",\"2021\",\"2021\",\"2021\",\"2021\",\"2021\",\"2021\",\"2021\",\"2021\",\"2021\",\"2021\",\"2021\",\"2021\",\"2021\",\"2021\",\"2021\",\"2021\",\"2021\",\"2021\",\"2021\",\"2021\",\"2021\",\"2021\",\"2021\",\"2021\",\"2021\",\"2021\",\"2021\",\"2021\",\"2021\",\"2021\",\"2021\",\"2021\",\"2021\",\"2021\",\"2021\",\"2021\",\"2021\",\"2021\",\"2021\",\"2021\",\"2021\",\"2021\",\"2021\",\"2021\",\"2021\",\"2021\",\"2021\",\"2021\",\"2021\",\"2021\",\"2021\",\"2021\",\"2021\",\"2021\",\"2021\",\"2021\",\"2021\",\"2021\",\"2021\",\"2021\",\"2021\",\"2021\",\"2021\",\"2021\",\"2021\",\"2021\",\"2021\",\"2021\",\"2021\",\"2021\",\"2021\",\"2021\",\"2021\",\"2021\",\"2021\",\"2021\",\"2021\",\"2021\",\"2021\",\"2021\",\"2021\",\"2021\",\"2021\",\"2021\",\"2021\",\"2021\",\"2021\",\"2021\",\"2021\",\"2021\",\"2021\",\"2021\",\"2021\",\"2021\",\"2021\",\"2021\",\"2021\",\"2021\",\"2021\",\"2021\",\"2021\",\"2021\",\"2021\",\"2021\",\"2021\",\"2021\",\"2021\",\"2021\",\"2021\",\"2021\",\"2021\",\"2021\",\"2021\",\"2021\",\"2021\",\"2021\",\"2021\",\"2021\",\"2021\",\"2021\",\"2021\",\"2021\",\"2021\",\"2021\",\"2021\",\"2021\"],\"legendgroup\":\"2021\",\"line\":{\"color\":\"#FF9100\",\"dash\":\"solid\",\"shape\":\"spline\"},\"marker\":{\"symbol\":\"circle\"},\"mode\":\"lines\",\"name\":\"2021\",\"orientation\":\"v\",\"showlegend\":true,\"x\":[\"01 / Mon\",\"01 / Tue\",\"01 / Wed\",\"01 / Thu\",\"01 / Fri\",\"02 / Mon\",\"02 / Tue\",\"02 / Wed\",\"02 / Thu\",\"02 / Fri\",\"03 / Mon\",\"03 / Tue\",\"03 / Wed\",\"03 / Thu\",\"03 / Fri\",\"04 / Mon\",\"04 / Tue\",\"04 / Wed\",\"04 / Thu\",\"04 / Fri\",\"05 / Mon\",\"05 / Tue\",\"05 / Wed\",\"05 / Thu\",\"05 / Fri\",\"06 / Mon\",\"06 / Tue\",\"06 / Wed\",\"06 / Thu\",\"06 / Fri\",\"07 / Mon\",\"07 / Tue\",\"07 / Wed\",\"07 / Thu\",\"07 / Fri\",\"08 / Mon\",\"08 / Tue\",\"08 / Wed\",\"08 / Thu\",\"08 / Fri\",\"09 / Mon\",\"09 / Tue\",\"09 / Wed\",\"09 / Thu\",\"09 / Fri\",\"10 / Mon\",\"10 / Tue\",\"10 / Wed\",\"10 / Thu\",\"10 / Fri\",\"11 / Mon\",\"11 / Tue\",\"11 / Wed\",\"11 / Thu\",\"11 / Fri\",\"12 / Mon\",\"12 / Tue\",\"12 / Wed\",\"12 / Thu\",\"12 / Fri\",\"13 / Mon\",\"13 / Tue\",\"13 / Wed\",\"13 / Thu\",\"13 / Fri\",\"14 / Mon\",\"14 / Tue\",\"14 / Wed\",\"14 / Thu\",\"14 / Fri\",\"15 / Mon\",\"15 / Tue\",\"15 / Wed\",\"15 / Thu\",\"15 / Fri\",\"16 / Mon\",\"16 / Tue\",\"16 / Wed\",\"16 / Thu\",\"16 / Fri\",\"17 / Mon\",\"17 / Tue\",\"17 / Wed\",\"17 / Thu\",\"17 / Fri\",\"18 / Mon\",\"18 / Tue\",\"18 / Wed\",\"18 / Thu\",\"18 / Fri\",\"19 / Mon\",\"19 / Tue\",\"19 / Wed\",\"19 / Thu\",\"19 / Fri\",\"20 / Mon\",\"20 / Tue\",\"20 / Wed\",\"20 / Thu\",\"20 / Fri\",\"21 / Mon\",\"21 / Tue\",\"21 / Wed\",\"21 / Thu\",\"21 / Fri\",\"22 / Mon\",\"22 / Tue\",\"22 / Wed\",\"22 / Thu\",\"22 / Fri\",\"23 / Mon\",\"23 / Tue\",\"23 / Wed\",\"23 / Thu\",\"23 / Fri\",\"24 / Mon\",\"24 / Tue\",\"24 / Wed\",\"24 / Thu\",\"24 / Fri\",\"25 / Mon\",\"25 / Tue\",\"25 / Wed\",\"25 / Thu\",\"25 / Fri\",\"26 / Mon\",\"26 / Tue\",\"26 / Wed\",\"26 / Thu\",\"26 / Fri\",\"27 / Mon\",\"27 / Tue\",\"27 / Wed\",\"27 / Thu\",\"27 / Fri\",\"28 / Mon\",\"28 / Tue\",\"28 / Wed\",\"28 / Thu\",\"28 / Fri\",\"29 / Mon\",\"29 / Tue\",\"29 / Wed\",\"29 / Thu\",\"29 / Fri\",\"30 / Mon\",\"30 / Tue\",\"30 / Wed\",\"30 / Thu\",\"30 / Fri\",\"31 / Mon\",\"31 / Tue\",\"31 / Wed\",\"31 / Thu\",\"31 / Fri\",\"32 / Mon\",\"32 / Tue\",\"32 / Wed\",\"32 / Thu\",\"32 / Fri\",\"33 / Mon\",\"33 / Tue\",\"33 / Wed\",\"33 / Thu\",\"33 / Fri\",\"34 / Mon\",\"34 / Tue\",\"34 / Wed\",\"34 / Thu\",\"34 / Fri\",\"35 / Mon\",\"35 / Tue\",\"35 / Wed\",\"35 / Thu\",\"35 / Fri\",\"36 / Mon\",\"36 / Tue\",\"36 / Wed\",\"36 / Thu\",\"36 / Fri\",\"37 / Mon\",\"37 / Tue\",\"37 / Wed\",\"37 / Thu\",\"37 / Fri\",\"38 / Mon\",\"38 / Tue\",\"38 / Wed\",\"38 / Thu\",\"38 / Fri\",\"39 / Mon\",\"39 / Tue\",\"39 / Wed\",\"39 / Thu\",\"39 / Fri\",\"40 / Mon\",\"40 / Tue\",\"40 / Wed\",\"40 / Thu\",\"40 / Fri\",\"41 / Mon\",\"41 / Tue\",\"41 / Wed\",\"41 / Thu\",\"41 / Fri\",\"42 / Mon\",\"42 / Tue\",\"42 / Wed\",\"42 / Thu\",\"42 / Fri\",\"43 / Mon\",\"43 / Tue\",\"43 / Wed\",\"43 / Thu\",\"43 / Fri\",\"44 / Mon\",\"44 / Tue\",\"44 / Wed\",\"44 / Thu\",\"44 / Fri\",\"45 / Mon\",\"45 / Tue\",\"45 / Wed\",\"45 / Thu\",\"45 / Fri\",\"46 / Mon\",\"46 / Tue\",\"46 / Wed\",\"46 / Thu\",\"46 / Fri\",\"47 / Mon\",\"47 / Tue\",\"47 / Wed\",\"47 / Thu\",\"47 / Fri\",\"48 / Mon\",\"48 / Tue\",\"48 / Wed\",\"48 / Thu\",\"48 / Fri\",\"49 / Mon\",\"49 / Tue\",\"49 / Wed\",\"49 / Thu\",\"49 / Fri\",\"50 / Mon\",\"50 / Tue\",\"50 / Wed\",\"50 / Thu\",\"50 / Fri\",\"51 / Mon\",\"51 / Tue\",\"51 / Wed\",\"51 / Thu\",\"51 / Fri\",\"52 / Mon\",\"52 / Tue\",\"52 / Wed\",\"52 / Thu\",\"52 / Fri\"],\"xaxis\":\"x\",\"y\":[37958,23034,18353,17756,17487,23425,14470,13124,14653,15390,24420,14879,13387,13805,14450,23162,14982,14087,17100,18777,28912,16772,15047,15640,16523,24064,14725,13295,14529,16328,24586,15089,14010,14935,16997,21052,14513,14094,15573,17368,30228,17755,14881,14756,14302,26259,15497,14012,16135,17124,25579,16394,14248,15307,16050,23872,15085,14644,16412,18018,15476,11679,7370,390,290,2048,29571,19903,17528,18353,23027,14430,13506,14564,15450,20853,14076,12913,13714,15425,21438,14536,14070,17489,19229,23927,15265,13874,14834,16338,21863,14894,14369,1882,10416,1754,22187,16046,15823,16384,2173,21000,16007,16593,17325,27214,17644,13436,14216,14795,19415,13218,12070,12892,13262,19458,13634,12663,13361,14342,18592,12854,12142,12545,13214,18335,13697,15143,13161,12014,14292,9697,8834,8491,9951,11516,8090,7709,8102,8451,11344,7802,7134,6988,7421,11511,8552,7810,8910,10210,17078,11298,9605,9442,9594,18416,12597,10766,10664,11089,20640,13780,12457,12352,12434,19736,13792,12417,13740,14062,23625,18551,15781,15937,14190,23147,14758,13846,14973,14374,22345,15266,14609,15597,14484,23884,15610,14338,14760,14441,24245,17429,17373,21126,17903,23207,15824,14047,13781,14003,23712,15316,14438,14433,14056,26458,16800,16011,16241,15511,26138,17802,17355,19762,19864,30730,18960,16839,17125,16701,28609,18476,16933,17726,16612,30168,18763,17491,16961,17056,29507,19151,17479,18856,17869,33657,25774,21056,19710,18800,31682,20122,17496,18365,18058,31372,19898,18740,18055,18168,27103,15907,14067,8863,1177,11972,8867,9166,8615,1992],\"yaxis\":\"y\",\"type\":\"scatter\"},{\"hovertemplate\":\"%{hovertext}<br />Antall: %{y}<extra></extra>\",\"hovertext\":[\"2022\",\"2022\",\"2022\",\"2022\",\"2022\",\"2022\",\"2022\",\"2022\",\"2022\",\"2022\",\"2022\",\"2022\",\"2022\",\"2022\",\"2022\",\"2022\",\"2022\",\"2022\",\"2022\",\"2022\",\"2022\",\"2022\",\"2022\",\"2022\",\"2022\",\"2022\",\"2022\",\"2022\",\"2022\",\"2022\",\"2022\",\"2022\",\"2022\",\"2022\",\"2022\",\"2022\",\"2022\",\"2022\",\"2022\",\"2022\",\"2022\",\"2022\",\"2022\",\"2022\",\"2022\",\"2022\",\"2022\",\"2022\",\"2022\",\"2022\",\"2022\",\"2022\",\"2022\",\"2022\",\"2022\",\"2022\",\"2022\",\"2022\",\"2022\",\"2022\",\"2022\",\"2022\",\"2022\",\"2022\",\"2022\",\"2022\",\"2022\",\"2022\",\"2022\",\"2022\",\"2022\",\"2022\",\"2022\",\"2022\",\"2022\",\"2022\",\"2022\",\"2022\",\"2022\",\"2022\",\"2022\",\"2022\",\"2022\",\"2022\",\"2022\",\"2022\",\"2022\",\"2022\",\"2022\",\"2022\",\"2022\",\"2022\",\"2022\",\"2022\",\"2022\",\"2022\",\"2022\",\"2022\",\"2022\",\"2022\",\"2022\",\"2022\",\"2022\",\"2022\",\"2022\",\"2022\",\"2022\",\"2022\",\"2022\",\"2022\",\"2022\",\"2022\",\"2022\",\"2022\",\"2022\",\"2022\",\"2022\",\"2022\",\"2022\",\"2022\",\"2022\",\"2022\",\"2022\",\"2022\",\"2022\",\"2022\",\"2022\",\"2022\",\"2022\",\"2022\",\"2022\",\"2022\",\"2022\",\"2022\",\"2022\",\"2022\",\"2022\",\"2022\",\"2022\",\"2022\",\"2022\",\"2022\",\"2022\",\"2022\",\"2022\",\"2022\",\"2022\",\"2022\",\"2022\",\"2022\",\"2022\",\"2022\",\"2022\",\"2022\",\"2022\",\"2022\",\"2022\",\"2022\",\"2022\",\"2022\",\"2022\",\"2022\",\"2022\",\"2022\",\"2022\",\"2022\",\"2022\",\"2022\",\"2022\",\"2022\",\"2022\",\"2022\",\"2022\",\"2022\",\"2022\",\"2022\",\"2022\",\"2022\",\"2022\",\"2022\",\"2022\",\"2022\",\"2022\",\"2022\",\"2022\",\"2022\",\"2022\",\"2022\",\"2022\",\"2022\",\"2022\",\"2022\",\"2022\",\"2022\",\"2022\",\"2022\",\"2022\",\"2022\",\"2022\",\"2022\",\"2022\",\"2022\",\"2022\",\"2022\",\"2022\",\"2022\",\"2022\",\"2022\",\"2022\",\"2022\",\"2022\",\"2022\"],\"legendgroup\":\"2022\",\"line\":{\"color\":\"#BA3A26\",\"dash\":\"solid\",\"shape\":\"spline\"},\"marker\":{\"symbol\":\"circle\"},\"mode\":\"lines\",\"name\":\"2022\",\"orientation\":\"v\",\"showlegend\":true,\"x\":[\"01 / Mon\",\"01 / Tue\",\"01 / Wed\",\"01 / Thu\",\"01 / Fri\",\"02 / Mon\",\"02 / Tue\",\"02 / Wed\",\"02 / Thu\",\"02 / Fri\",\"03 / Mon\",\"03 / Tue\",\"03 / Wed\",\"03 / Thu\",\"03 / Fri\",\"04 / Mon\",\"04 / Tue\",\"04 / Wed\",\"04 / Thu\",\"04 / Fri\",\"05 / Mon\",\"05 / Tue\",\"05 / Wed\",\"05 / Thu\",\"05 / Fri\",\"06 / Mon\",\"06 / Tue\",\"06 / Wed\",\"06 / Thu\",\"06 / Fri\",\"07 / Mon\",\"07 / Tue\",\"07 / Wed\",\"07 / Thu\",\"07 / Fri\",\"08 / Mon\",\"08 / Tue\",\"08 / Wed\",\"08 / Thu\",\"08 / Fri\",\"09 / Mon\",\"09 / Tue\",\"09 / Wed\",\"09 / Thu\",\"09 / Fri\",\"10 / Mon\",\"10 / Tue\",\"10 / Wed\",\"10 / Thu\",\"10 / Fri\",\"11 / Mon\",\"11 / Tue\",\"11 / Wed\",\"11 / Thu\",\"11 / Fri\",\"12 / Mon\",\"12 / Tue\",\"12 / Wed\",\"12 / Thu\",\"12 / Fri\",\"13 / Mon\",\"13 / Tue\",\"13 / Wed\",\"13 / Thu\",\"13 / Fri\",\"14 / Mon\",\"14 / Tue\",\"14 / Wed\",\"14 / Thu\",\"14 / Fri\",\"15 / Mon\",\"15 / Tue\",\"15 / Wed\",\"15 / Thu\",\"15 / Fri\",\"16 / Mon\",\"16 / Tue\",\"16 / Wed\",\"16 / Thu\",\"16 / Fri\",\"17 / Mon\",\"17 / Tue\",\"17 / Wed\",\"17 / Thu\",\"17 / Fri\",\"18 / Mon\",\"18 / Tue\",\"18 / Wed\",\"18 / Thu\",\"18 / Fri\",\"19 / Mon\",\"19 / Tue\",\"19 / Wed\",\"19 / Thu\",\"19 / Fri\",\"20 / Mon\",\"20 / Tue\",\"20 / Wed\",\"20 / Thu\",\"20 / Fri\",\"21 / Mon\",\"21 / Tue\",\"21 / Wed\",\"21 / Thu\",\"21 / Fri\",\"22 / Mon\",\"22 / Tue\",\"22 / Wed\",\"22 / Thu\",\"22 / Fri\",\"23 / Mon\",\"23 / Tue\",\"23 / Wed\",\"23 / Thu\",\"23 / Fri\",\"24 / Mon\",\"24 / Tue\",\"24 / Wed\",\"24 / Thu\",\"24 / Fri\",\"25 / Mon\",\"25 / Tue\",\"25 / Wed\",\"25 / Thu\",\"25 / Fri\",\"26 / Mon\",\"26 / Tue\",\"26 / Wed\",\"26 / Thu\",\"26 / Fri\",\"27 / Mon\",\"27 / Tue\",\"27 / Wed\",\"27 / Thu\",\"27 / Fri\",\"28 / Mon\",\"28 / Tue\",\"28 / Wed\",\"28 / Thu\",\"28 / Fri\",\"29 / Mon\",\"29 / Tue\",\"29 / Wed\",\"29 / Thu\",\"29 / Fri\",\"30 / Mon\",\"30 / Tue\",\"30 / Wed\",\"30 / Thu\",\"30 / Fri\",\"31 / Mon\",\"31 / Tue\",\"31 / Wed\",\"31 / Thu\",\"31 / Fri\",\"32 / Mon\",\"32 / Tue\",\"32 / Wed\",\"32 / Thu\",\"32 / Fri\",\"33 / Mon\",\"33 / Tue\",\"33 / Wed\",\"33 / Thu\",\"33 / Fri\",\"34 / Mon\",\"34 / Tue\",\"34 / Wed\",\"34 / Thu\",\"34 / Fri\",\"35 / Mon\",\"35 / Tue\",\"35 / Wed\",\"35 / Thu\",\"35 / Fri\",\"36 / Mon\",\"36 / Tue\",\"36 / Wed\",\"36 / Thu\",\"36 / Fri\",\"37 / Mon\",\"37 / Tue\",\"37 / Wed\",\"37 / Thu\",\"37 / Fri\",\"38 / Mon\",\"38 / Tue\",\"38 / Wed\",\"38 / Thu\",\"38 / Fri\",\"39 / Mon\",\"39 / Tue\",\"39 / Wed\",\"39 / Thu\",\"39 / Fri\",\"40 / Mon\",\"40 / Tue\",\"40 / Wed\",\"40 / Thu\",\"40 / Fri\",\"41 / Mon\",\"41 / Tue\",\"41 / Wed\",\"41 / Thu\",\"41 / Fri\",\"42 / Mon\",\"42 / Tue\",\"42 / Wed\",\"42 / Thu\",\"42 / Fri\",\"43 / Mon\",\"43 / Tue\"],\"xaxis\":\"x\",\"y\":[38098,25883,21549,20644,19524,30437,19157,17065,18827,18536,32295,20798,18617,19369,19004,34224,22693,20294,21192,20484,43089,27267,22554,21496,20574,36914,23243,21702,22255,20204,37645,24070,22075,22439,20795,36753,24331,22129,21901,19923,47311,27985,24255,22592,18833,36545,24383,19677,19548,18810,33121,21261,18093,17981,17205,30615,18746,17166,17542,17128,29466,20144,19542,21978,19610,28983,18541,16712,17063,17219,16311,10231,5266,350,328,1998,30185,20706,18136,17720,25881,17135,16272,17598,17872,25377,18865,14998,15520,15607,22515,16013,13073,14388,14447,19589,479,18219,17119,16806,24560,17003,16859,1109,12723,28007,22479,17476,16656,15710,2160,22316,16590,14315,14993,22267,15402,14963,14677,14648,22547,15704,14630,14822,13732,21268,15693,15069,16634,13745,18814,12805,10470,11327,10468,16121,10760,9460,9737,9610,15445,10035,9015,8602,8861,15322,10644,9735,9940,10257,20657,13911,11636,10679,9950,21104,14186,12686,11995,11446,22540,15590,13529,12757,12863,21860,14737,13154,13427,12937,23192,17499,17514,15851,14501,23453,15442,13558,14187,13818,23281,15746,14493,15305,14914,23863,16147,13862,15109,14583,24387,16731,16602,18750,19466,25821,16533,14916,13908,14258,23941,15790,14221,14450,14223,27156,16922,15200,15422,15531,25515,16618],\"yaxis\":\"y\",\"type\":\"scatter\"}],                        {\"template\":{\"data\":{\"barpolar\":[{\"marker\":{\"line\":{\"color\":\"white\",\"width\":0.5},\"pattern\":{\"fillmode\":\"overlay\",\"size\":10,\"solidity\":0.2}},\"type\":\"barpolar\"}],\"bar\":[{\"error_x\":{\"color\":\"#2a3f5f\"},\"error_y\":{\"color\":\"#2a3f5f\"},\"marker\":{\"line\":{\"color\":\"white\",\"width\":0.5},\"pattern\":{\"fillmode\":\"overlay\",\"size\":10,\"solidity\":0.2}},\"type\":\"bar\"}],\"carpet\":[{\"aaxis\":{\"endlinecolor\":\"#2a3f5f\",\"gridcolor\":\"#C8D4E3\",\"linecolor\":\"#C8D4E3\",\"minorgridcolor\":\"#C8D4E3\",\"startlinecolor\":\"#2a3f5f\"},\"baxis\":{\"endlinecolor\":\"#2a3f5f\",\"gridcolor\":\"#C8D4E3\",\"linecolor\":\"#C8D4E3\",\"minorgridcolor\":\"#C8D4E3\",\"startlinecolor\":\"#2a3f5f\"},\"type\":\"carpet\"}],\"choropleth\":[{\"colorbar\":{\"outlinewidth\":0,\"ticks\":\"\"},\"type\":\"choropleth\"}],\"contourcarpet\":[{\"colorbar\":{\"outlinewidth\":0,\"ticks\":\"\"},\"type\":\"contourcarpet\"}],\"contour\":[{\"colorbar\":{\"outlinewidth\":0,\"ticks\":\"\"},\"colorscale\":[[0.0,\"#0d0887\"],[0.1111111111111111,\"#46039f\"],[0.2222222222222222,\"#7201a8\"],[0.3333333333333333,\"#9c179e\"],[0.4444444444444444,\"#bd3786\"],[0.5555555555555556,\"#d8576b\"],[0.6666666666666666,\"#ed7953\"],[0.7777777777777778,\"#fb9f3a\"],[0.8888888888888888,\"#fdca26\"],[1.0,\"#f0f921\"]],\"type\":\"contour\"}],\"heatmapgl\":[{\"colorbar\":{\"outlinewidth\":0,\"ticks\":\"\"},\"colorscale\":[[0.0,\"#0d0887\"],[0.1111111111111111,\"#46039f\"],[0.2222222222222222,\"#7201a8\"],[0.3333333333333333,\"#9c179e\"],[0.4444444444444444,\"#bd3786\"],[0.5555555555555556,\"#d8576b\"],[0.6666666666666666,\"#ed7953\"],[0.7777777777777778,\"#fb9f3a\"],[0.8888888888888888,\"#fdca26\"],[1.0,\"#f0f921\"]],\"type\":\"heatmapgl\"}],\"heatmap\":[{\"colorbar\":{\"outlinewidth\":0,\"ticks\":\"\"},\"colorscale\":[[0.0,\"#0d0887\"],[0.1111111111111111,\"#46039f\"],[0.2222222222222222,\"#7201a8\"],[0.3333333333333333,\"#9c179e\"],[0.4444444444444444,\"#bd3786\"],[0.5555555555555556,\"#d8576b\"],[0.6666666666666666,\"#ed7953\"],[0.7777777777777778,\"#fb9f3a\"],[0.8888888888888888,\"#fdca26\"],[1.0,\"#f0f921\"]],\"type\":\"heatmap\"}],\"histogram2dcontour\":[{\"colorbar\":{\"outlinewidth\":0,\"ticks\":\"\"},\"colorscale\":[[0.0,\"#0d0887\"],[0.1111111111111111,\"#46039f\"],[0.2222222222222222,\"#7201a8\"],[0.3333333333333333,\"#9c179e\"],[0.4444444444444444,\"#bd3786\"],[0.5555555555555556,\"#d8576b\"],[0.6666666666666666,\"#ed7953\"],[0.7777777777777778,\"#fb9f3a\"],[0.8888888888888888,\"#fdca26\"],[1.0,\"#f0f921\"]],\"type\":\"histogram2dcontour\"}],\"histogram2d\":[{\"colorbar\":{\"outlinewidth\":0,\"ticks\":\"\"},\"colorscale\":[[0.0,\"#0d0887\"],[0.1111111111111111,\"#46039f\"],[0.2222222222222222,\"#7201a8\"],[0.3333333333333333,\"#9c179e\"],[0.4444444444444444,\"#bd3786\"],[0.5555555555555556,\"#d8576b\"],[0.6666666666666666,\"#ed7953\"],[0.7777777777777778,\"#fb9f3a\"],[0.8888888888888888,\"#fdca26\"],[1.0,\"#f0f921\"]],\"type\":\"histogram2d\"}],\"histogram\":[{\"marker\":{\"pattern\":{\"fillmode\":\"overlay\",\"size\":10,\"solidity\":0.2}},\"type\":\"histogram\"}],\"mesh3d\":[{\"colorbar\":{\"outlinewidth\":0,\"ticks\":\"\"},\"type\":\"mesh3d\"}],\"parcoords\":[{\"line\":{\"colorbar\":{\"outlinewidth\":0,\"ticks\":\"\"}},\"type\":\"parcoords\"}],\"pie\":[{\"automargin\":true,\"type\":\"pie\"}],\"scatter3d\":[{\"line\":{\"colorbar\":{\"outlinewidth\":0,\"ticks\":\"\"}},\"marker\":{\"colorbar\":{\"outlinewidth\":0,\"ticks\":\"\"}},\"type\":\"scatter3d\"}],\"scattercarpet\":[{\"marker\":{\"colorbar\":{\"outlinewidth\":0,\"ticks\":\"\"}},\"type\":\"scattercarpet\"}],\"scattergeo\":[{\"marker\":{\"colorbar\":{\"outlinewidth\":0,\"ticks\":\"\"}},\"type\":\"scattergeo\"}],\"scattergl\":[{\"marker\":{\"colorbar\":{\"outlinewidth\":0,\"ticks\":\"\"}},\"type\":\"scattergl\"}],\"scattermapbox\":[{\"marker\":{\"colorbar\":{\"outlinewidth\":0,\"ticks\":\"\"}},\"type\":\"scattermapbox\"}],\"scatterpolargl\":[{\"marker\":{\"colorbar\":{\"outlinewidth\":0,\"ticks\":\"\"}},\"type\":\"scatterpolargl\"}],\"scatterpolar\":[{\"marker\":{\"colorbar\":{\"outlinewidth\":0,\"ticks\":\"\"}},\"type\":\"scatterpolar\"}],\"scatter\":[{\"fillpattern\":{\"fillmode\":\"overlay\",\"size\":10,\"solidity\":0.2},\"type\":\"scatter\"}],\"scatterternary\":[{\"marker\":{\"colorbar\":{\"outlinewidth\":0,\"ticks\":\"\"}},\"type\":\"scatterternary\"}],\"surface\":[{\"colorbar\":{\"outlinewidth\":0,\"ticks\":\"\"},\"colorscale\":[[0.0,\"#0d0887\"],[0.1111111111111111,\"#46039f\"],[0.2222222222222222,\"#7201a8\"],[0.3333333333333333,\"#9c179e\"],[0.4444444444444444,\"#bd3786\"],[0.5555555555555556,\"#d8576b\"],[0.6666666666666666,\"#ed7953\"],[0.7777777777777778,\"#fb9f3a\"],[0.8888888888888888,\"#fdca26\"],[1.0,\"#f0f921\"]],\"type\":\"surface\"}],\"table\":[{\"cells\":{\"fill\":{\"color\":\"#EBF0F8\"},\"line\":{\"color\":\"white\"}},\"header\":{\"fill\":{\"color\":\"#C8D4E3\"},\"line\":{\"color\":\"white\"}},\"type\":\"table\"}]},\"layout\":{\"annotationdefaults\":{\"arrowcolor\":\"#2a3f5f\",\"arrowhead\":0,\"arrowwidth\":1},\"autotypenumbers\":\"strict\",\"coloraxis\":{\"colorbar\":{\"outlinewidth\":0,\"ticks\":\"\"}},\"colorscale\":{\"diverging\":[[0,\"#8e0152\"],[0.1,\"#c51b7d\"],[0.2,\"#de77ae\"],[0.3,\"#f1b6da\"],[0.4,\"#fde0ef\"],[0.5,\"#f7f7f7\"],[0.6,\"#e6f5d0\"],[0.7,\"#b8e186\"],[0.8,\"#7fbc41\"],[0.9,\"#4d9221\"],[1,\"#276419\"]],\"sequential\":[[0.0,\"#0d0887\"],[0.1111111111111111,\"#46039f\"],[0.2222222222222222,\"#7201a8\"],[0.3333333333333333,\"#9c179e\"],[0.4444444444444444,\"#bd3786\"],[0.5555555555555556,\"#d8576b\"],[0.6666666666666666,\"#ed7953\"],[0.7777777777777778,\"#fb9f3a\"],[0.8888888888888888,\"#fdca26\"],[1.0,\"#f0f921\"]],\"sequentialminus\":[[0.0,\"#0d0887\"],[0.1111111111111111,\"#46039f\"],[0.2222222222222222,\"#7201a8\"],[0.3333333333333333,\"#9c179e\"],[0.4444444444444444,\"#bd3786\"],[0.5555555555555556,\"#d8576b\"],[0.6666666666666666,\"#ed7953\"],[0.7777777777777778,\"#fb9f3a\"],[0.8888888888888888,\"#fdca26\"],[1.0,\"#f0f921\"]]},\"colorway\":[\"#636efa\",\"#EF553B\",\"#00cc96\",\"#ab63fa\",\"#FFA15A\",\"#19d3f3\",\"#FF6692\",\"#B6E880\",\"#FF97FF\",\"#FECB52\"],\"font\":{\"color\":\"#2a3f5f\"},\"geo\":{\"bgcolor\":\"white\",\"lakecolor\":\"white\",\"landcolor\":\"white\",\"showlakes\":true,\"showland\":true,\"subunitcolor\":\"#C8D4E3\"},\"hoverlabel\":{\"align\":\"left\"},\"hovermode\":\"closest\",\"mapbox\":{\"style\":\"light\"},\"paper_bgcolor\":\"white\",\"plot_bgcolor\":\"white\",\"polar\":{\"angularaxis\":{\"gridcolor\":\"#EBF0F8\",\"linecolor\":\"#EBF0F8\",\"ticks\":\"\"},\"bgcolor\":\"white\",\"radialaxis\":{\"gridcolor\":\"#EBF0F8\",\"linecolor\":\"#EBF0F8\",\"ticks\":\"\"}},\"scene\":{\"xaxis\":{\"backgroundcolor\":\"white\",\"gridcolor\":\"#DFE8F3\",\"gridwidth\":2,\"linecolor\":\"#EBF0F8\",\"showbackground\":true,\"ticks\":\"\",\"zerolinecolor\":\"#EBF0F8\"},\"yaxis\":{\"backgroundcolor\":\"white\",\"gridcolor\":\"#DFE8F3\",\"gridwidth\":2,\"linecolor\":\"#EBF0F8\",\"showbackground\":true,\"ticks\":\"\",\"zerolinecolor\":\"#EBF0F8\"},\"zaxis\":{\"backgroundcolor\":\"white\",\"gridcolor\":\"#DFE8F3\",\"gridwidth\":2,\"linecolor\":\"#EBF0F8\",\"showbackground\":true,\"ticks\":\"\",\"zerolinecolor\":\"#EBF0F8\"}},\"shapedefaults\":{\"line\":{\"color\":\"#2a3f5f\"}},\"ternary\":{\"aaxis\":{\"gridcolor\":\"#DFE8F3\",\"linecolor\":\"#A2B1C6\",\"ticks\":\"\"},\"baxis\":{\"gridcolor\":\"#DFE8F3\",\"linecolor\":\"#A2B1C6\",\"ticks\":\"\"},\"bgcolor\":\"white\",\"caxis\":{\"gridcolor\":\"#DFE8F3\",\"linecolor\":\"#A2B1C6\",\"ticks\":\"\"}},\"title\":{\"x\":0.05},\"xaxis\":{\"automargin\":true,\"gridcolor\":\"#EBF0F8\",\"linecolor\":\"#EBF0F8\",\"ticks\":\"\",\"title\":{\"standoff\":15},\"zerolinecolor\":\"#EBF0F8\",\"zerolinewidth\":2},\"yaxis\":{\"automargin\":true,\"gridcolor\":\"#EBF0F8\",\"linecolor\":\"#EBF0F8\",\"ticks\":\"\",\"title\":{\"standoff\":15},\"zerolinecolor\":\"#EBF0F8\",\"zerolinewidth\":2}}},\"xaxis\":{\"anchor\":\"y\",\"domain\":[0.0,1.0],\"title\":{\"text\":\"\"},\"rangeslider\":{\"autorange\":true},\"autorange\":true},\"yaxis\":{\"anchor\":\"x\",\"domain\":[0.0,1.0],\"title\":{\"text\":\"\"},\"tickformat\":\",d\"},\"legend\":{\"title\":{\"text\":\"\\u00c5r\"},\"tracegroupgap\":0,\"traceorder\":\"reversed\"},\"margin\":{\"t\":100,\"b\":100},\"separators\":\", \",\"hovermode\":\"x unified\",\"annotations\":[{\"align\":\"center\",\"showarrow\":false,\"text\":\"NB! Dette plottet er ikke offisiell statistikk og m\\u00e5 ikke deles utenfor NAV.\",\"x\":0.5,\"xref\":\"paper\",\"y\":1.12,\"yref\":\"paper\"}],\"dragmode\":\"zoom\",\"height\":600},                        {\"responsive\": true}                    ).then(function(){\n",
       "                            \n",
       "var gd = document.getElementById('5384294d-e614-44c8-a6cc-7c258c2f97be');\n",
       "var x = new MutationObserver(function (mutations, observer) {{\n",
       "        var display = window.getComputedStyle(gd).display;\n",
       "        if (!display || display === 'none') {{\n",
       "            console.log([gd, 'removed!']);\n",
       "            Plotly.purge(gd);\n",
       "            observer.disconnect();\n",
       "        }}\n",
       "}});\n",
       "\n",
       "// Listen for the removal of the full notebook cells\n",
       "var notebookContainer = gd.closest('#notebook-container');\n",
       "if (notebookContainer) {{\n",
       "    x.observe(notebookContainer, {childList: true});\n",
       "}}\n",
       "\n",
       "// Listen for the clearing of the current output cell\n",
       "var outputEl = gd.closest('.output');\n",
       "if (outputEl) {{\n",
       "    x.observe(outputEl, {childList: true});\n",
       "}}\n",
       "\n",
       "                        })                };                });            </script>        </div>"
      ]
     },
     "metadata": {},
     "output_type": "display_data"
    }
   ],
   "source": [
    "### Figur over antall sykmeldinger mottatt over samme periode siste tre årene ###\n",
    "\n",
    "fig_sykmeldinger = px.line(\n",
    "    df_total_grouped, \n",
    "    x='Uke+dag', \n",
    "    y='antall', \n",
    "    color='År',\n",
    "    labels={'antall': '', \n",
    "            'Uke+dag': ''},\n",
    "    hover_name='År', \n",
    "    line_shape='spline',\n",
    "    render_mode = \"svg\",\n",
    "    color_discrete_sequence = nav_kategorisk,\n",
    ")\n",
    "\n",
    "fig_sykmeldinger.update_layout(\n",
    "    yaxis=dict(tickformat=',d'), \n",
    "    separators=', ', \n",
    "    hovermode='x unified'\n",
    ")\n",
    "\n",
    "fig_sykmeldinger.for_each_trace(\n",
    "    lambda trace: trace.update(name=trace.name.replace(\"=\", \": \" )),\n",
    ")\n",
    "\n",
    "n = df_total_grouped['År'].nunique()-1\n",
    "\n",
    "for i in range(-1,n):\n",
    "    fig_sykmeldinger['data'][i]['hovertemplate'] = '%{hovertext}<br />Antall: %{y}<extra></extra>'\n",
    "\n",
    "    \n",
    "    \n",
    "fig_sykmeldinger.add_annotation(\n",
    "    text = annotation_text,\n",
    "    showarrow= False,\n",
    "    align= 'center',\n",
    "    x= 0.5,\n",
    "    y= 1.12,\n",
    "    xref= 'paper',\n",
    "    yref= 'paper'\n",
    ")\n",
    "\n",
    "fig_sykmeldinger.update_layout(\n",
    "    dragmode=\"zoom\",\n",
    "    legend=dict(traceorder=\"reversed\"),\n",
    "    height=600,\n",
    "    template=\"plotly_white\",\n",
    "    margin=dict(\n",
    "        t=100,\n",
    "        b=100\n",
    "    ),\n",
    "    xaxis=dict(\n",
    "        autorange=True,\n",
    "        rangeslider=dict(\n",
    "            autorange=True\n",
    "        )\n",
    "    )\n",
    ")"
   ]
  },
  {
   "cell_type": "code",
   "execution_count": 242,
   "id": "2302282b-b873-4b15-abd3-b5b025cd7838",
   "metadata": {},
   "outputs": [],
   "source": [
    "query_job = client.query(\"\"\"\n",
    "select CAST(so.mottatt_tidspunkt AS DATE) dato,\n",
    "    count(distinct so.id) totalt\n",
    "from `teamsykmelding-prod-2acd.syfosmregister.sykmeldingsopplysninger` so\n",
    "where so.epj_system_navn='Papirsykmelding' \n",
    "group by CAST(so.mottatt_tidspunkt AS DATE)\n",
    "\"\"\")\n",
    "\n",
    "df_papir = query_job.result().to_dataframe()"
   ]
  },
  {
   "cell_type": "code",
   "execution_count": 243,
   "id": "ca066313-497c-4dcf-bd51-25c6f3641621",
   "metadata": {},
   "outputs": [],
   "source": [
    "df_papir = df_papir[df_papir['dato'] != dt.datetime.now().date()]"
   ]
  },
  {
   "cell_type": "code",
   "execution_count": 244,
   "id": "2dfa0399-f1de-440f-ab22-551cfa823d32",
   "metadata": {},
   "outputs": [],
   "source": [
    "df_papir['dato'] = df_papir['dato'].astype('datetime64[ns]')"
   ]
  },
  {
   "cell_type": "code",
   "execution_count": 245,
   "id": "ab0f029c-bba6-4c22-894f-5e05379bd7ad",
   "metadata": {},
   "outputs": [],
   "source": [
    "query_job = client.query(\"\"\"\n",
    "\n",
    "select count(id) antall, CAST(dato_opprettet AS DATE) dato from `teamsykmelding-prod-2acd.smregistrering_backend.manuelloppgave`\n",
    "where ferdigstilt is True\n",
    "group by CAST(dato_opprettet AS DATE)\n",
    "\n",
    "\n",
    "\"\"\")\n",
    "\n",
    "df_registrering = query_job.result().to_dataframe()"
   ]
  },
  {
   "cell_type": "code",
   "execution_count": 246,
   "id": "60a88204-b9b6-4bf1-9814-16fd196aec91",
   "metadata": {},
   "outputs": [],
   "source": [
    "query_job = client.query(\"\"\"\n",
    "\n",
    "select count(id) antall, ferdigstilt, CAST(dato_opprettet AS DATE) dato from `teamsykmelding-prod-2acd.smregistrering_backend.manuelloppgave`\n",
    "group by CAST(dato_opprettet AS DATE), ferdigstilt\n",
    "\n",
    "\"\"\")\n",
    "\n",
    "df_ferdigstilt = query_job.result().to_dataframe()"
   ]
  },
  {
   "cell_type": "code",
   "execution_count": 247,
   "id": "e03c07c8-d5f6-44b2-b4a9-04df218a560c",
   "metadata": {},
   "outputs": [],
   "source": [
    "df_registrering = df_registrering.rename(columns={\"antall\": \"Manuelt registrert\", \n",
    "                                                  \"dato_opprettet\" : \"dato\"})"
   ]
  },
  {
   "cell_type": "code",
   "execution_count": 248,
   "id": "8909bc04-c3c5-4364-b517-3e4f60cd5d2b",
   "metadata": {},
   "outputs": [],
   "source": [
    "df_registrering['dato'] = df_registrering['dato'].astype('datetime64[ns]')"
   ]
  },
  {
   "cell_type": "code",
   "execution_count": 249,
   "id": "aa99666b-c02f-464c-9328-48e1c81de90a",
   "metadata": {},
   "outputs": [],
   "source": [
    "########################################\n",
    "##### Nøkkeltall Papirsykmeldinger #####\n",
    "########################################\n",
    "\n",
    "### Totalt papirsykmeldinger i mottak ###\n",
    "num_papir = df_papir['totalt'].sum() - df_registrering['Manuelt registrert'].sum()\n",
    "\n",
    "### Totalt papirsykmeldinger registrert i ny løsning ###\n",
    "num_reg = df_registrering['Manuelt registrert'].sum()\n",
    "\n",
    "\n",
    "df_papir_tot = df_papir.merge(df_registrering, \n",
    "                              how='left',\n",
    "                              on='dato')\n",
    "\n",
    "df_papir_tot['Manuelt registrert'] = df_papir_tot['Manuelt registrert'].fillna(0)\n",
    "df_papir_tot['Automatisk registrert'] = df_papir_tot['totalt'] - df_papir_tot['Manuelt registrert']\n",
    "\n",
    "df_papir_tot = pd.melt(df_papir_tot, \n",
    "                       id_vars=['dato'], \n",
    "                       value_vars=['totalt', \n",
    "                                   'Manuelt registrert', \n",
    "                                   'Automatisk registrert'], \n",
    "                       var_name='reg', \n",
    "                       value_name='antall')\n",
    "\n",
    "df_papir_tot = df_papir_tot[df_papir_tot['reg'] !='totalt']\n",
    "df_papir_tot = df_papir_tot[df_papir_tot['dato'] != dt.datetime.now().date()]\n",
    "\n",
    "# Gruppering på mnd \n",
    "\n",
    "max_tid = dt.datetime.now().date().strftime('%V / %u')  \n",
    "\n",
    "\n",
    "df_papir_tot['Måned'] = df_papir_tot['dato'].astype('datetime64[ns]').dt.strftime('%Y/%m')\n",
    "df_papir_tot['År'] = df_papir_tot['dato'].astype('datetime64[ns]').dt.strftime('%Y')\n",
    "\n",
    "df_papir_tot['uke+dag_num'] = df_papir_tot['dato'].astype('datetime64[ns]').dt.strftime('%V / %u') \n",
    "df_papir_tot = df_papir_tot[(df_papir_tot['uke+dag_num'] <= max_tid) | (df_papir_tot['År'] == df_papir_tot['År'].max())]\n",
    "\n",
    "\n",
    "df_papir_tot_mnd = df_papir_tot.groupby(['Måned', 'reg']).sum().reset_index()\n",
    "df_papir_tot_mnd = df_papir_tot_mnd[df_papir_tot_mnd['Måned'] != dt.datetime.now().date().strftime('%Y/%m')]\n",
    "\n",
    "df_papir_tot_aar = df_papir_tot.groupby(['År', 'reg']).sum().reset_index()\n",
    "\n",
    "\n",
    "\n",
    "num_papir_auto_nu = df_papir_tot_aar[(df_papir_tot_aar['År'] == df_papir_tot_aar['År'].max()) & (df_papir_tot_aar['reg'] == 'Automatisk registrert')]['antall'].sum()\n",
    "num_papir_manu_nu = df_papir_tot_aar[(df_papir_tot_aar['År'] == df_papir_tot_aar['År'].max()) & (df_papir_tot_aar['reg'] == 'Manuelt registrert')]['antall'].sum()\n",
    "\n",
    "\n",
    "\n",
    "df_papir_aar = df_papir_tot_aar['År'].unique().tolist()\n",
    "papir_forrige_aar = df_papir_aar[-2]\n",
    "num_papir_auto_forrige = df_papir_tot_aar[(df_papir_tot_aar['År'] == papir_forrige_aar) & (df_papir_tot_aar['reg'] == 'Automatisk registrert')]['antall'].sum()\n",
    "num_papir_manu_forrige = df_papir_tot_aar[(df_papir_tot_aar['År'] == papir_forrige_aar) & (df_papir_tot_aar['reg'] == 'Manuelt registrert')]['antall'].sum()"
   ]
  },
  {
   "cell_type": "code",
   "execution_count": 250,
   "id": "b043dd15-e8ed-4896-a2dd-e426e70e8363",
   "metadata": {},
   "outputs": [
    {
     "data": {
      "application/vnd.plotly.v1+json": {
       "config": {
        "plotlyServerURL": "https://plot.ly"
       },
       "data": [
        {
         "domain": {
          "column": 0,
          "row": 1
         },
         "mode": "number",
         "number": {
          "valueformat": ",d"
         },
         "title": {
          "text": "Papirsykmeldinger automatisk registrert"
         },
         "type": "indicator",
         "value": 96387
        },
        {
         "domain": {
          "column": 1,
          "row": 1
         },
         "mode": "number",
         "number": {
          "valueformat": ",d"
         },
         "title": {
          "text": "Papirsykmeldinger manuelt registrert"
         },
         "type": "indicator",
         "value": 70345
        }
       ],
       "layout": {
        "annotations": [
         {
          "align": "center",
          "font": {
           "size": 12
          },
          "showarrow": false,
          "text": "NB! Dette plottet er ikke offisiell statistikk og må ikke deles utenfor NAV.",
          "x": 0.5,
          "xref": "paper",
          "y": 1.3,
          "yref": "paper"
         }
        ],
        "autosize": true,
        "font": {
         "size": 30
        },
        "grid": {
         "columns": 2,
         "pattern": "independent",
         "rows": 2
        },
        "paper_bgcolor": "#CCE1F3",
        "separators": ", ",
        "template": {
         "data": {
          "bar": [
           {
            "error_x": {
             "color": "#2a3f5f"
            },
            "error_y": {
             "color": "#2a3f5f"
            },
            "marker": {
             "line": {
              "color": "#E5ECF6",
              "width": 0.5
             },
             "pattern": {
              "fillmode": "overlay",
              "size": 10,
              "solidity": 0.2
             }
            },
            "type": "bar"
           }
          ],
          "barpolar": [
           {
            "marker": {
             "line": {
              "color": "#E5ECF6",
              "width": 0.5
             },
             "pattern": {
              "fillmode": "overlay",
              "size": 10,
              "solidity": 0.2
             }
            },
            "type": "barpolar"
           }
          ],
          "carpet": [
           {
            "aaxis": {
             "endlinecolor": "#2a3f5f",
             "gridcolor": "white",
             "linecolor": "white",
             "minorgridcolor": "white",
             "startlinecolor": "#2a3f5f"
            },
            "baxis": {
             "endlinecolor": "#2a3f5f",
             "gridcolor": "white",
             "linecolor": "white",
             "minorgridcolor": "white",
             "startlinecolor": "#2a3f5f"
            },
            "type": "carpet"
           }
          ],
          "choropleth": [
           {
            "colorbar": {
             "outlinewidth": 0,
             "ticks": ""
            },
            "type": "choropleth"
           }
          ],
          "contour": [
           {
            "colorbar": {
             "outlinewidth": 0,
             "ticks": ""
            },
            "colorscale": [
             [
              0,
              "#0d0887"
             ],
             [
              0.1111111111111111,
              "#46039f"
             ],
             [
              0.2222222222222222,
              "#7201a8"
             ],
             [
              0.3333333333333333,
              "#9c179e"
             ],
             [
              0.4444444444444444,
              "#bd3786"
             ],
             [
              0.5555555555555556,
              "#d8576b"
             ],
             [
              0.6666666666666666,
              "#ed7953"
             ],
             [
              0.7777777777777778,
              "#fb9f3a"
             ],
             [
              0.8888888888888888,
              "#fdca26"
             ],
             [
              1,
              "#f0f921"
             ]
            ],
            "type": "contour"
           }
          ],
          "contourcarpet": [
           {
            "colorbar": {
             "outlinewidth": 0,
             "ticks": ""
            },
            "type": "contourcarpet"
           }
          ],
          "heatmap": [
           {
            "colorbar": {
             "outlinewidth": 0,
             "ticks": ""
            },
            "colorscale": [
             [
              0,
              "#0d0887"
             ],
             [
              0.1111111111111111,
              "#46039f"
             ],
             [
              0.2222222222222222,
              "#7201a8"
             ],
             [
              0.3333333333333333,
              "#9c179e"
             ],
             [
              0.4444444444444444,
              "#bd3786"
             ],
             [
              0.5555555555555556,
              "#d8576b"
             ],
             [
              0.6666666666666666,
              "#ed7953"
             ],
             [
              0.7777777777777778,
              "#fb9f3a"
             ],
             [
              0.8888888888888888,
              "#fdca26"
             ],
             [
              1,
              "#f0f921"
             ]
            ],
            "type": "heatmap"
           }
          ],
          "heatmapgl": [
           {
            "colorbar": {
             "outlinewidth": 0,
             "ticks": ""
            },
            "colorscale": [
             [
              0,
              "#0d0887"
             ],
             [
              0.1111111111111111,
              "#46039f"
             ],
             [
              0.2222222222222222,
              "#7201a8"
             ],
             [
              0.3333333333333333,
              "#9c179e"
             ],
             [
              0.4444444444444444,
              "#bd3786"
             ],
             [
              0.5555555555555556,
              "#d8576b"
             ],
             [
              0.6666666666666666,
              "#ed7953"
             ],
             [
              0.7777777777777778,
              "#fb9f3a"
             ],
             [
              0.8888888888888888,
              "#fdca26"
             ],
             [
              1,
              "#f0f921"
             ]
            ],
            "type": "heatmapgl"
           }
          ],
          "histogram": [
           {
            "marker": {
             "pattern": {
              "fillmode": "overlay",
              "size": 10,
              "solidity": 0.2
             }
            },
            "type": "histogram"
           }
          ],
          "histogram2d": [
           {
            "colorbar": {
             "outlinewidth": 0,
             "ticks": ""
            },
            "colorscale": [
             [
              0,
              "#0d0887"
             ],
             [
              0.1111111111111111,
              "#46039f"
             ],
             [
              0.2222222222222222,
              "#7201a8"
             ],
             [
              0.3333333333333333,
              "#9c179e"
             ],
             [
              0.4444444444444444,
              "#bd3786"
             ],
             [
              0.5555555555555556,
              "#d8576b"
             ],
             [
              0.6666666666666666,
              "#ed7953"
             ],
             [
              0.7777777777777778,
              "#fb9f3a"
             ],
             [
              0.8888888888888888,
              "#fdca26"
             ],
             [
              1,
              "#f0f921"
             ]
            ],
            "type": "histogram2d"
           }
          ],
          "histogram2dcontour": [
           {
            "colorbar": {
             "outlinewidth": 0,
             "ticks": ""
            },
            "colorscale": [
             [
              0,
              "#0d0887"
             ],
             [
              0.1111111111111111,
              "#46039f"
             ],
             [
              0.2222222222222222,
              "#7201a8"
             ],
             [
              0.3333333333333333,
              "#9c179e"
             ],
             [
              0.4444444444444444,
              "#bd3786"
             ],
             [
              0.5555555555555556,
              "#d8576b"
             ],
             [
              0.6666666666666666,
              "#ed7953"
             ],
             [
              0.7777777777777778,
              "#fb9f3a"
             ],
             [
              0.8888888888888888,
              "#fdca26"
             ],
             [
              1,
              "#f0f921"
             ]
            ],
            "type": "histogram2dcontour"
           }
          ],
          "mesh3d": [
           {
            "colorbar": {
             "outlinewidth": 0,
             "ticks": ""
            },
            "type": "mesh3d"
           }
          ],
          "parcoords": [
           {
            "line": {
             "colorbar": {
              "outlinewidth": 0,
              "ticks": ""
             }
            },
            "type": "parcoords"
           }
          ],
          "pie": [
           {
            "automargin": true,
            "type": "pie"
           }
          ],
          "scatter": [
           {
            "fillpattern": {
             "fillmode": "overlay",
             "size": 10,
             "solidity": 0.2
            },
            "type": "scatter"
           }
          ],
          "scatter3d": [
           {
            "line": {
             "colorbar": {
              "outlinewidth": 0,
              "ticks": ""
             }
            },
            "marker": {
             "colorbar": {
              "outlinewidth": 0,
              "ticks": ""
             }
            },
            "type": "scatter3d"
           }
          ],
          "scattercarpet": [
           {
            "marker": {
             "colorbar": {
              "outlinewidth": 0,
              "ticks": ""
             }
            },
            "type": "scattercarpet"
           }
          ],
          "scattergeo": [
           {
            "marker": {
             "colorbar": {
              "outlinewidth": 0,
              "ticks": ""
             }
            },
            "type": "scattergeo"
           }
          ],
          "scattergl": [
           {
            "marker": {
             "colorbar": {
              "outlinewidth": 0,
              "ticks": ""
             }
            },
            "type": "scattergl"
           }
          ],
          "scattermapbox": [
           {
            "marker": {
             "colorbar": {
              "outlinewidth": 0,
              "ticks": ""
             }
            },
            "type": "scattermapbox"
           }
          ],
          "scatterpolar": [
           {
            "marker": {
             "colorbar": {
              "outlinewidth": 0,
              "ticks": ""
             }
            },
            "type": "scatterpolar"
           }
          ],
          "scatterpolargl": [
           {
            "marker": {
             "colorbar": {
              "outlinewidth": 0,
              "ticks": ""
             }
            },
            "type": "scatterpolargl"
           }
          ],
          "scatterternary": [
           {
            "marker": {
             "colorbar": {
              "outlinewidth": 0,
              "ticks": ""
             }
            },
            "type": "scatterternary"
           }
          ],
          "surface": [
           {
            "colorbar": {
             "outlinewidth": 0,
             "ticks": ""
            },
            "colorscale": [
             [
              0,
              "#0d0887"
             ],
             [
              0.1111111111111111,
              "#46039f"
             ],
             [
              0.2222222222222222,
              "#7201a8"
             ],
             [
              0.3333333333333333,
              "#9c179e"
             ],
             [
              0.4444444444444444,
              "#bd3786"
             ],
             [
              0.5555555555555556,
              "#d8576b"
             ],
             [
              0.6666666666666666,
              "#ed7953"
             ],
             [
              0.7777777777777778,
              "#fb9f3a"
             ],
             [
              0.8888888888888888,
              "#fdca26"
             ],
             [
              1,
              "#f0f921"
             ]
            ],
            "type": "surface"
           }
          ],
          "table": [
           {
            "cells": {
             "fill": {
              "color": "#EBF0F8"
             },
             "line": {
              "color": "white"
             }
            },
            "header": {
             "fill": {
              "color": "#C8D4E3"
             },
             "line": {
              "color": "white"
             }
            },
            "type": "table"
           }
          ]
         },
         "layout": {
          "annotationdefaults": {
           "arrowcolor": "#2a3f5f",
           "arrowhead": 0,
           "arrowwidth": 1
          },
          "autotypenumbers": "strict",
          "coloraxis": {
           "colorbar": {
            "outlinewidth": 0,
            "ticks": ""
           }
          },
          "colorscale": {
           "diverging": [
            [
             0,
             "#8e0152"
            ],
            [
             0.1,
             "#c51b7d"
            ],
            [
             0.2,
             "#de77ae"
            ],
            [
             0.3,
             "#f1b6da"
            ],
            [
             0.4,
             "#fde0ef"
            ],
            [
             0.5,
             "#f7f7f7"
            ],
            [
             0.6,
             "#e6f5d0"
            ],
            [
             0.7,
             "#b8e186"
            ],
            [
             0.8,
             "#7fbc41"
            ],
            [
             0.9,
             "#4d9221"
            ],
            [
             1,
             "#276419"
            ]
           ],
           "sequential": [
            [
             0,
             "#0d0887"
            ],
            [
             0.1111111111111111,
             "#46039f"
            ],
            [
             0.2222222222222222,
             "#7201a8"
            ],
            [
             0.3333333333333333,
             "#9c179e"
            ],
            [
             0.4444444444444444,
             "#bd3786"
            ],
            [
             0.5555555555555556,
             "#d8576b"
            ],
            [
             0.6666666666666666,
             "#ed7953"
            ],
            [
             0.7777777777777778,
             "#fb9f3a"
            ],
            [
             0.8888888888888888,
             "#fdca26"
            ],
            [
             1,
             "#f0f921"
            ]
           ],
           "sequentialminus": [
            [
             0,
             "#0d0887"
            ],
            [
             0.1111111111111111,
             "#46039f"
            ],
            [
             0.2222222222222222,
             "#7201a8"
            ],
            [
             0.3333333333333333,
             "#9c179e"
            ],
            [
             0.4444444444444444,
             "#bd3786"
            ],
            [
             0.5555555555555556,
             "#d8576b"
            ],
            [
             0.6666666666666666,
             "#ed7953"
            ],
            [
             0.7777777777777778,
             "#fb9f3a"
            ],
            [
             0.8888888888888888,
             "#fdca26"
            ],
            [
             1,
             "#f0f921"
            ]
           ]
          },
          "colorway": [
           "#636efa",
           "#EF553B",
           "#00cc96",
           "#ab63fa",
           "#FFA15A",
           "#19d3f3",
           "#FF6692",
           "#B6E880",
           "#FF97FF",
           "#FECB52"
          ],
          "font": {
           "color": "#2a3f5f"
          },
          "geo": {
           "bgcolor": "white",
           "lakecolor": "white",
           "landcolor": "#E5ECF6",
           "showlakes": true,
           "showland": true,
           "subunitcolor": "white"
          },
          "hoverlabel": {
           "align": "left"
          },
          "hovermode": "closest",
          "mapbox": {
           "style": "light"
          },
          "paper_bgcolor": "white",
          "plot_bgcolor": "#E5ECF6",
          "polar": {
           "angularaxis": {
            "gridcolor": "white",
            "linecolor": "white",
            "ticks": ""
           },
           "bgcolor": "#E5ECF6",
           "radialaxis": {
            "gridcolor": "white",
            "linecolor": "white",
            "ticks": ""
           }
          },
          "scene": {
           "xaxis": {
            "backgroundcolor": "#E5ECF6",
            "gridcolor": "white",
            "gridwidth": 2,
            "linecolor": "white",
            "showbackground": true,
            "ticks": "",
            "zerolinecolor": "white"
           },
           "yaxis": {
            "backgroundcolor": "#E5ECF6",
            "gridcolor": "white",
            "gridwidth": 2,
            "linecolor": "white",
            "showbackground": true,
            "ticks": "",
            "zerolinecolor": "white"
           },
           "zaxis": {
            "backgroundcolor": "#E5ECF6",
            "gridcolor": "white",
            "gridwidth": 2,
            "linecolor": "white",
            "showbackground": true,
            "ticks": "",
            "zerolinecolor": "white"
           }
          },
          "shapedefaults": {
           "line": {
            "color": "#2a3f5f"
           }
          },
          "ternary": {
           "aaxis": {
            "gridcolor": "white",
            "linecolor": "white",
            "ticks": ""
           },
           "baxis": {
            "gridcolor": "white",
            "linecolor": "white",
            "ticks": ""
           },
           "bgcolor": "#E5ECF6",
           "caxis": {
            "gridcolor": "white",
            "linecolor": "white",
            "ticks": ""
           }
          },
          "title": {
           "x": 0.05
          },
          "xaxis": {
           "automargin": true,
           "gridcolor": "white",
           "linecolor": "white",
           "ticks": "",
           "title": {
            "standoff": 15
           },
           "zerolinecolor": "white",
           "zerolinewidth": 2
          },
          "yaxis": {
           "automargin": true,
           "gridcolor": "white",
           "linecolor": "white",
           "ticks": "",
           "title": {
            "standoff": 15
           },
           "zerolinecolor": "white",
           "zerolinewidth": 2
          }
         }
        },
        "title": {
         "text": "Papirsykmeldinger <br> hittil i år",
         "x": 0.5,
         "xanchor": "center",
         "y": 0.8,
         "yanchor": "top"
        }
       }
      },
      "image/png": "[encoded data removed]",
      "text/html": [
       "<div>                            <div id=\"93ece330-feba-49a5-83bc-eb0e02b45093\" class=\"plotly-graph-div\" style=\"height:450px; width:100%;\"></div>            <script type=\"text/javascript\">                require([\"plotly\"], function(Plotly) {                    window.PLOTLYENV=window.PLOTLYENV || {};                                    if (document.getElementById(\"93ece330-feba-49a5-83bc-eb0e02b45093\")) {                    Plotly.newPlot(                        \"93ece330-feba-49a5-83bc-eb0e02b45093\",                        [{\"domain\":{\"column\":0,\"row\":1},\"mode\":\"number\",\"number\":{\"valueformat\":\",d\"},\"title\":{\"text\":\"Papirsykmeldinger automatisk registrert\"},\"value\":96387.0,\"type\":\"indicator\"},{\"domain\":{\"column\":1,\"row\":1},\"mode\":\"number\",\"number\":{\"valueformat\":\",d\"},\"title\":{\"text\":\"Papirsykmeldinger manuelt registrert\"},\"value\":70345.0,\"type\":\"indicator\"}],                        {\"template\":{\"data\":{\"histogram2dcontour\":[{\"type\":\"histogram2dcontour\",\"colorbar\":{\"outlinewidth\":0,\"ticks\":\"\"},\"colorscale\":[[0.0,\"#0d0887\"],[0.1111111111111111,\"#46039f\"],[0.2222222222222222,\"#7201a8\"],[0.3333333333333333,\"#9c179e\"],[0.4444444444444444,\"#bd3786\"],[0.5555555555555556,\"#d8576b\"],[0.6666666666666666,\"#ed7953\"],[0.7777777777777778,\"#fb9f3a\"],[0.8888888888888888,\"#fdca26\"],[1.0,\"#f0f921\"]]}],\"choropleth\":[{\"type\":\"choropleth\",\"colorbar\":{\"outlinewidth\":0,\"ticks\":\"\"}}],\"histogram2d\":[{\"type\":\"histogram2d\",\"colorbar\":{\"outlinewidth\":0,\"ticks\":\"\"},\"colorscale\":[[0.0,\"#0d0887\"],[0.1111111111111111,\"#46039f\"],[0.2222222222222222,\"#7201a8\"],[0.3333333333333333,\"#9c179e\"],[0.4444444444444444,\"#bd3786\"],[0.5555555555555556,\"#d8576b\"],[0.6666666666666666,\"#ed7953\"],[0.7777777777777778,\"#fb9f3a\"],[0.8888888888888888,\"#fdca26\"],[1.0,\"#f0f921\"]]}],\"heatmap\":[{\"type\":\"heatmap\",\"colorbar\":{\"outlinewidth\":0,\"ticks\":\"\"},\"colorscale\":[[0.0,\"#0d0887\"],[0.1111111111111111,\"#46039f\"],[0.2222222222222222,\"#7201a8\"],[0.3333333333333333,\"#9c179e\"],[0.4444444444444444,\"#bd3786\"],[0.5555555555555556,\"#d8576b\"],[0.6666666666666666,\"#ed7953\"],[0.7777777777777778,\"#fb9f3a\"],[0.8888888888888888,\"#fdca26\"],[1.0,\"#f0f921\"]]}],\"heatmapgl\":[{\"type\":\"heatmapgl\",\"colorbar\":{\"outlinewidth\":0,\"ticks\":\"\"},\"colorscale\":[[0.0,\"#0d0887\"],[0.1111111111111111,\"#46039f\"],[0.2222222222222222,\"#7201a8\"],[0.3333333333333333,\"#9c179e\"],[0.4444444444444444,\"#bd3786\"],[0.5555555555555556,\"#d8576b\"],[0.6666666666666666,\"#ed7953\"],[0.7777777777777778,\"#fb9f3a\"],[0.8888888888888888,\"#fdca26\"],[1.0,\"#f0f921\"]]}],\"contourcarpet\":[{\"type\":\"contourcarpet\",\"colorbar\":{\"outlinewidth\":0,\"ticks\":\"\"}}],\"contour\":[{\"type\":\"contour\",\"colorbar\":{\"outlinewidth\":0,\"ticks\":\"\"},\"colorscale\":[[0.0,\"#0d0887\"],[0.1111111111111111,\"#46039f\"],[0.2222222222222222,\"#7201a8\"],[0.3333333333333333,\"#9c179e\"],[0.4444444444444444,\"#bd3786\"],[0.5555555555555556,\"#d8576b\"],[0.6666666666666666,\"#ed7953\"],[0.7777777777777778,\"#fb9f3a\"],[0.8888888888888888,\"#fdca26\"],[1.0,\"#f0f921\"]]}],\"surface\":[{\"type\":\"surface\",\"colorbar\":{\"outlinewidth\":0,\"ticks\":\"\"},\"colorscale\":[[0.0,\"#0d0887\"],[0.1111111111111111,\"#46039f\"],[0.2222222222222222,\"#7201a8\"],[0.3333333333333333,\"#9c179e\"],[0.4444444444444444,\"#bd3786\"],[0.5555555555555556,\"#d8576b\"],[0.6666666666666666,\"#ed7953\"],[0.7777777777777778,\"#fb9f3a\"],[0.8888888888888888,\"#fdca26\"],[1.0,\"#f0f921\"]]}],\"mesh3d\":[{\"type\":\"mesh3d\",\"colorbar\":{\"outlinewidth\":0,\"ticks\":\"\"}}],\"scatter\":[{\"fillpattern\":{\"fillmode\":\"overlay\",\"size\":10,\"solidity\":0.2},\"type\":\"scatter\"}],\"parcoords\":[{\"type\":\"parcoords\",\"line\":{\"colorbar\":{\"outlinewidth\":0,\"ticks\":\"\"}}}],\"scatterpolargl\":[{\"type\":\"scatterpolargl\",\"marker\":{\"colorbar\":{\"outlinewidth\":0,\"ticks\":\"\"}}}],\"bar\":[{\"error_x\":{\"color\":\"#2a3f5f\"},\"error_y\":{\"color\":\"#2a3f5f\"},\"marker\":{\"line\":{\"color\":\"#E5ECF6\",\"width\":0.5},\"pattern\":{\"fillmode\":\"overlay\",\"size\":10,\"solidity\":0.2}},\"type\":\"bar\"}],\"scattergeo\":[{\"type\":\"scattergeo\",\"marker\":{\"colorbar\":{\"outlinewidth\":0,\"ticks\":\"\"}}}],\"scatterpolar\":[{\"type\":\"scatterpolar\",\"marker\":{\"colorbar\":{\"outlinewidth\":0,\"ticks\":\"\"}}}],\"histogram\":[{\"marker\":{\"pattern\":{\"fillmode\":\"overlay\",\"size\":10,\"solidity\":0.2}},\"type\":\"histogram\"}],\"scattergl\":[{\"type\":\"scattergl\",\"marker\":{\"colorbar\":{\"outlinewidth\":0,\"ticks\":\"\"}}}],\"scatter3d\":[{\"type\":\"scatter3d\",\"line\":{\"colorbar\":{\"outlinewidth\":0,\"ticks\":\"\"}},\"marker\":{\"colorbar\":{\"outlinewidth\":0,\"ticks\":\"\"}}}],\"scattermapbox\":[{\"type\":\"scattermapbox\",\"marker\":{\"colorbar\":{\"outlinewidth\":0,\"ticks\":\"\"}}}],\"scatterternary\":[{\"type\":\"scatterternary\",\"marker\":{\"colorbar\":{\"outlinewidth\":0,\"ticks\":\"\"}}}],\"scattercarpet\":[{\"type\":\"scattercarpet\",\"marker\":{\"colorbar\":{\"outlinewidth\":0,\"ticks\":\"\"}}}],\"carpet\":[{\"aaxis\":{\"endlinecolor\":\"#2a3f5f\",\"gridcolor\":\"white\",\"linecolor\":\"white\",\"minorgridcolor\":\"white\",\"startlinecolor\":\"#2a3f5f\"},\"baxis\":{\"endlinecolor\":\"#2a3f5f\",\"gridcolor\":\"white\",\"linecolor\":\"white\",\"minorgridcolor\":\"white\",\"startlinecolor\":\"#2a3f5f\"},\"type\":\"carpet\"}],\"table\":[{\"cells\":{\"fill\":{\"color\":\"#EBF0F8\"},\"line\":{\"color\":\"white\"}},\"header\":{\"fill\":{\"color\":\"#C8D4E3\"},\"line\":{\"color\":\"white\"}},\"type\":\"table\"}],\"barpolar\":[{\"marker\":{\"line\":{\"color\":\"#E5ECF6\",\"width\":0.5},\"pattern\":{\"fillmode\":\"overlay\",\"size\":10,\"solidity\":0.2}},\"type\":\"barpolar\"}],\"pie\":[{\"automargin\":true,\"type\":\"pie\"}]},\"layout\":{\"autotypenumbers\":\"strict\",\"colorway\":[\"#636efa\",\"#EF553B\",\"#00cc96\",\"#ab63fa\",\"#FFA15A\",\"#19d3f3\",\"#FF6692\",\"#B6E880\",\"#FF97FF\",\"#FECB52\"],\"font\":{\"color\":\"#2a3f5f\"},\"hovermode\":\"closest\",\"hoverlabel\":{\"align\":\"left\"},\"paper_bgcolor\":\"white\",\"plot_bgcolor\":\"#E5ECF6\",\"polar\":{\"bgcolor\":\"#E5ECF6\",\"angularaxis\":{\"gridcolor\":\"white\",\"linecolor\":\"white\",\"ticks\":\"\"},\"radialaxis\":{\"gridcolor\":\"white\",\"linecolor\":\"white\",\"ticks\":\"\"}},\"ternary\":{\"bgcolor\":\"#E5ECF6\",\"aaxis\":{\"gridcolor\":\"white\",\"linecolor\":\"white\",\"ticks\":\"\"},\"baxis\":{\"gridcolor\":\"white\",\"linecolor\":\"white\",\"ticks\":\"\"},\"caxis\":{\"gridcolor\":\"white\",\"linecolor\":\"white\",\"ticks\":\"\"}},\"coloraxis\":{\"colorbar\":{\"outlinewidth\":0,\"ticks\":\"\"}},\"colorscale\":{\"sequential\":[[0.0,\"#0d0887\"],[0.1111111111111111,\"#46039f\"],[0.2222222222222222,\"#7201a8\"],[0.3333333333333333,\"#9c179e\"],[0.4444444444444444,\"#bd3786\"],[0.5555555555555556,\"#d8576b\"],[0.6666666666666666,\"#ed7953\"],[0.7777777777777778,\"#fb9f3a\"],[0.8888888888888888,\"#fdca26\"],[1.0,\"#f0f921\"]],\"sequentialminus\":[[0.0,\"#0d0887\"],[0.1111111111111111,\"#46039f\"],[0.2222222222222222,\"#7201a8\"],[0.3333333333333333,\"#9c179e\"],[0.4444444444444444,\"#bd3786\"],[0.5555555555555556,\"#d8576b\"],[0.6666666666666666,\"#ed7953\"],[0.7777777777777778,\"#fb9f3a\"],[0.8888888888888888,\"#fdca26\"],[1.0,\"#f0f921\"]],\"diverging\":[[0,\"#8e0152\"],[0.1,\"#c51b7d\"],[0.2,\"#de77ae\"],[0.3,\"#f1b6da\"],[0.4,\"#fde0ef\"],[0.5,\"#f7f7f7\"],[0.6,\"#e6f5d0\"],[0.7,\"#b8e186\"],[0.8,\"#7fbc41\"],[0.9,\"#4d9221\"],[1,\"#276419\"]]},\"xaxis\":{\"gridcolor\":\"white\",\"linecolor\":\"white\",\"ticks\":\"\",\"title\":{\"standoff\":15},\"zerolinecolor\":\"white\",\"automargin\":true,\"zerolinewidth\":2},\"yaxis\":{\"gridcolor\":\"white\",\"linecolor\":\"white\",\"ticks\":\"\",\"title\":{\"standoff\":15},\"zerolinecolor\":\"white\",\"automargin\":true,\"zerolinewidth\":2},\"scene\":{\"xaxis\":{\"backgroundcolor\":\"#E5ECF6\",\"gridcolor\":\"white\",\"linecolor\":\"white\",\"showbackground\":true,\"ticks\":\"\",\"zerolinecolor\":\"white\",\"gridwidth\":2},\"yaxis\":{\"backgroundcolor\":\"#E5ECF6\",\"gridcolor\":\"white\",\"linecolor\":\"white\",\"showbackground\":true,\"ticks\":\"\",\"zerolinecolor\":\"white\",\"gridwidth\":2},\"zaxis\":{\"backgroundcolor\":\"#E5ECF6\",\"gridcolor\":\"white\",\"linecolor\":\"white\",\"showbackground\":true,\"ticks\":\"\",\"zerolinecolor\":\"white\",\"gridwidth\":2}},\"shapedefaults\":{\"line\":{\"color\":\"#2a3f5f\"}},\"annotationdefaults\":{\"arrowcolor\":\"#2a3f5f\",\"arrowhead\":0,\"arrowwidth\":1},\"geo\":{\"bgcolor\":\"white\",\"landcolor\":\"#E5ECF6\",\"subunitcolor\":\"white\",\"showland\":true,\"showlakes\":true,\"lakecolor\":\"white\"},\"title\":{\"x\":0.05},\"mapbox\":{\"style\":\"light\"}}},\"annotations\":[{\"align\":\"center\",\"font\":{\"size\":12},\"showarrow\":false,\"text\":\"NB! Dette plottet er ikke offisiell statistikk og m\\u00e5 ikke deles utenfor NAV.\",\"x\":0.5,\"xref\":\"paper\",\"y\":1.3,\"yref\":\"paper\"}],\"grid\":{\"rows\":2,\"columns\":2,\"pattern\":\"independent\"},\"title\":{\"text\":\"Papirsykmeldinger <br> hittil i \\u00e5r\",\"y\":0.8,\"x\":0.5,\"xanchor\":\"center\",\"yanchor\":\"top\"},\"font\":{\"size\":30},\"autosize\":true,\"separators\":\", \",\"paper_bgcolor\":\"#CCE1F3\",\"height\":450},                        {\"responsive\": true}                    ).then(function(){\n",
       "                            \n",
       "var gd = document.getElementById('93ece330-feba-49a5-83bc-eb0e02b45093');\n",
       "var x = new MutationObserver(function (mutations, observer) {{\n",
       "        var display = window.getComputedStyle(gd).display;\n",
       "        if (!display || display === 'none') {{\n",
       "            console.log([gd, 'removed!']);\n",
       "            Plotly.purge(gd);\n",
       "            observer.disconnect();\n",
       "        }}\n",
       "}});\n",
       "\n",
       "// Listen for the removal of the full notebook cells\n",
       "var notebookContainer = gd.closest('#notebook-container');\n",
       "if (notebookContainer) {{\n",
       "    x.observe(notebookContainer, {childList: true});\n",
       "}}\n",
       "\n",
       "// Listen for the clearing of the current output cell\n",
       "var outputEl = gd.closest('.output');\n",
       "if (outputEl) {{\n",
       "    x.observe(outputEl, {childList: true});\n",
       "}}\n",
       "\n",
       "                        })                };                });            </script>        </div>"
      ]
     },
     "metadata": {},
     "output_type": "display_data"
    }
   ],
   "source": [
    "fig_nokkeltall_papir = go.Figure()\n",
    "\n",
    "fig_nokkeltall_papir.add_trace(\n",
    "    go.Indicator(\n",
    "        mode = \"number\",\n",
    "        value = num_papir_auto_nu,\n",
    "        number = {\"valueformat\": \",d\"},\n",
    "        domain = {'column': 0, \n",
    "                  'row': 1},\n",
    "        title = {'text': 'Papirsykmeldinger automatisk registrert'},\n",
    "    )\n",
    ")\n",
    "\n",
    "fig_nokkeltall_papir.add_trace(\n",
    "    go.Indicator(\n",
    "        mode = \"number\",\n",
    "        value = num_papir_manu_nu,\n",
    "        number = {\"valueformat\": \",d\"},\n",
    "        domain = {'column': 1, \n",
    "                  'row':1},\n",
    "        title = {'text': 'Papirsykmeldinger manuelt registrert'}\n",
    "    )\n",
    ")\n",
    "\n",
    "fig_nokkeltall_papir.add_annotation(\n",
    "    text = annotation_text,\n",
    "    showarrow= False, \n",
    "    align= 'center',\n",
    "    x= 0.5,\n",
    "    y= 1.3,\n",
    "    font={'size':12},\n",
    "    xref= 'paper',\n",
    "    yref= 'paper'\n",
    ")\n",
    "\n",
    "\n",
    "\n",
    "fig_nokkeltall_papir.update_layout(\n",
    "    autosize=True, \n",
    "    grid = {'rows': 2, \n",
    "            'columns': 2, \n",
    "            'pattern': \"independent\"}, \n",
    "    separators=', ', \n",
    "    paper_bgcolor= nokkeltall_farge ,                        \n",
    "    title={'text': \"Papirsykmeldinger <br> hittil i år\", \n",
    "           'y':0.8,\n",
    "           'x':0.5,\n",
    "           'xanchor': 'center',\n",
    "           'yanchor': 'top'},\n",
    "    font={'size':30}, \n",
    "    height=450\n",
    ")"
   ]
  },
  {
   "cell_type": "code",
   "execution_count": 251,
   "id": "8d0c3bbc-381c-47f7-96a5-dec8b8835e90",
   "metadata": {},
   "outputs": [
    {
     "data": {
      "application/vnd.plotly.v1+json": {
       "config": {
        "plotlyServerURL": "https://plot.ly"
       },
       "data": [
        {
         "domain": {
          "column": 0,
          "row": 1
         },
         "mode": "number",
         "number": {
          "valueformat": ",d"
         },
         "title": {
          "text": "Papirsykmeldinger automatisk registrert <br> samme periode i 2021"
         },
         "type": "indicator",
         "value": 48575
        },
        {
         "domain": {
          "column": 1,
          "row": 1
         },
         "mode": "number",
         "number": {
          "valueformat": ",d"
         },
         "title": {
          "text": "Papirsykmeldinger manuelt registrert <br> samme periode i 2021"
         },
         "type": "indicator",
         "value": 145473
        }
       ],
       "layout": {
        "annotations": [
         {
          "align": "center",
          "font": {
           "size": 12
          },
          "showarrow": false,
          "text": "NB! Dette plottet er ikke offisiell statistikk og må ikke deles utenfor NAV.",
          "x": 0.5,
          "xref": "paper",
          "y": 1.3,
          "yref": "paper"
         }
        ],
        "autosize": true,
        "grid": {
         "columns": 2,
         "pattern": "independent",
         "rows": 2
        },
        "paper_bgcolor": "#CCE1F3",
        "separators": ", ",
        "template": {
         "data": {
          "bar": [
           {
            "error_x": {
             "color": "#2a3f5f"
            },
            "error_y": {
             "color": "#2a3f5f"
            },
            "marker": {
             "line": {
              "color": "#E5ECF6",
              "width": 0.5
             },
             "pattern": {
              "fillmode": "overlay",
              "size": 10,
              "solidity": 0.2
             }
            },
            "type": "bar"
           }
          ],
          "barpolar": [
           {
            "marker": {
             "line": {
              "color": "#E5ECF6",
              "width": 0.5
             },
             "pattern": {
              "fillmode": "overlay",
              "size": 10,
              "solidity": 0.2
             }
            },
            "type": "barpolar"
           }
          ],
          "carpet": [
           {
            "aaxis": {
             "endlinecolor": "#2a3f5f",
             "gridcolor": "white",
             "linecolor": "white",
             "minorgridcolor": "white",
             "startlinecolor": "#2a3f5f"
            },
            "baxis": {
             "endlinecolor": "#2a3f5f",
             "gridcolor": "white",
             "linecolor": "white",
             "minorgridcolor": "white",
             "startlinecolor": "#2a3f5f"
            },
            "type": "carpet"
           }
          ],
          "choropleth": [
           {
            "colorbar": {
             "outlinewidth": 0,
             "ticks": ""
            },
            "type": "choropleth"
           }
          ],
          "contour": [
           {
            "colorbar": {
             "outlinewidth": 0,
             "ticks": ""
            },
            "colorscale": [
             [
              0,
              "#0d0887"
             ],
             [
              0.1111111111111111,
              "#46039f"
             ],
             [
              0.2222222222222222,
              "#7201a8"
             ],
             [
              0.3333333333333333,
              "#9c179e"
             ],
             [
              0.4444444444444444,
              "#bd3786"
             ],
             [
              0.5555555555555556,
              "#d8576b"
             ],
             [
              0.6666666666666666,
              "#ed7953"
             ],
             [
              0.7777777777777778,
              "#fb9f3a"
             ],
             [
              0.8888888888888888,
              "#fdca26"
             ],
             [
              1,
              "#f0f921"
             ]
            ],
            "type": "contour"
           }
          ],
          "contourcarpet": [
           {
            "colorbar": {
             "outlinewidth": 0,
             "ticks": ""
            },
            "type": "contourcarpet"
           }
          ],
          "heatmap": [
           {
            "colorbar": {
             "outlinewidth": 0,
             "ticks": ""
            },
            "colorscale": [
             [
              0,
              "#0d0887"
             ],
             [
              0.1111111111111111,
              "#46039f"
             ],
             [
              0.2222222222222222,
              "#7201a8"
             ],
             [
              0.3333333333333333,
              "#9c179e"
             ],
             [
              0.4444444444444444,
              "#bd3786"
             ],
             [
              0.5555555555555556,
              "#d8576b"
             ],
             [
              0.6666666666666666,
              "#ed7953"
             ],
             [
              0.7777777777777778,
              "#fb9f3a"
             ],
             [
              0.8888888888888888,
              "#fdca26"
             ],
             [
              1,
              "#f0f921"
             ]
            ],
            "type": "heatmap"
           }
          ],
          "heatmapgl": [
           {
            "colorbar": {
             "outlinewidth": 0,
             "ticks": ""
            },
            "colorscale": [
             [
              0,
              "#0d0887"
             ],
             [
              0.1111111111111111,
              "#46039f"
             ],
             [
              0.2222222222222222,
              "#7201a8"
             ],
             [
              0.3333333333333333,
              "#9c179e"
             ],
             [
              0.4444444444444444,
              "#bd3786"
             ],
             [
              0.5555555555555556,
              "#d8576b"
             ],
             [
              0.6666666666666666,
              "#ed7953"
             ],
             [
              0.7777777777777778,
              "#fb9f3a"
             ],
             [
              0.8888888888888888,
              "#fdca26"
             ],
             [
              1,
              "#f0f921"
             ]
            ],
            "type": "heatmapgl"
           }
          ],
          "histogram": [
           {
            "marker": {
             "pattern": {
              "fillmode": "overlay",
              "size": 10,
              "solidity": 0.2
             }
            },
            "type": "histogram"
           }
          ],
          "histogram2d": [
           {
            "colorbar": {
             "outlinewidth": 0,
             "ticks": ""
            },
            "colorscale": [
             [
              0,
              "#0d0887"
             ],
             [
              0.1111111111111111,
              "#46039f"
             ],
             [
              0.2222222222222222,
              "#7201a8"
             ],
             [
              0.3333333333333333,
              "#9c179e"
             ],
             [
              0.4444444444444444,
              "#bd3786"
             ],
             [
              0.5555555555555556,
              "#d8576b"
             ],
             [
              0.6666666666666666,
              "#ed7953"
             ],
             [
              0.7777777777777778,
              "#fb9f3a"
             ],
             [
              0.8888888888888888,
              "#fdca26"
             ],
             [
              1,
              "#f0f921"
             ]
            ],
            "type": "histogram2d"
           }
          ],
          "histogram2dcontour": [
           {
            "colorbar": {
             "outlinewidth": 0,
             "ticks": ""
            },
            "colorscale": [
             [
              0,
              "#0d0887"
             ],
             [
              0.1111111111111111,
              "#46039f"
             ],
             [
              0.2222222222222222,
              "#7201a8"
             ],
             [
              0.3333333333333333,
              "#9c179e"
             ],
             [
              0.4444444444444444,
              "#bd3786"
             ],
             [
              0.5555555555555556,
              "#d8576b"
             ],
             [
              0.6666666666666666,
              "#ed7953"
             ],
             [
              0.7777777777777778,
              "#fb9f3a"
             ],
             [
              0.8888888888888888,
              "#fdca26"
             ],
             [
              1,
              "#f0f921"
             ]
            ],
            "type": "histogram2dcontour"
           }
          ],
          "mesh3d": [
           {
            "colorbar": {
             "outlinewidth": 0,
             "ticks": ""
            },
            "type": "mesh3d"
           }
          ],
          "parcoords": [
           {
            "line": {
             "colorbar": {
              "outlinewidth": 0,
              "ticks": ""
             }
            },
            "type": "parcoords"
           }
          ],
          "pie": [
           {
            "automargin": true,
            "type": "pie"
           }
          ],
          "scatter": [
           {
            "fillpattern": {
             "fillmode": "overlay",
             "size": 10,
             "solidity": 0.2
            },
            "type": "scatter"
           }
          ],
          "scatter3d": [
           {
            "line": {
             "colorbar": {
              "outlinewidth": 0,
              "ticks": ""
             }
            },
            "marker": {
             "colorbar": {
              "outlinewidth": 0,
              "ticks": ""
             }
            },
            "type": "scatter3d"
           }
          ],
          "scattercarpet": [
           {
            "marker": {
             "colorbar": {
              "outlinewidth": 0,
              "ticks": ""
             }
            },
            "type": "scattercarpet"
           }
          ],
          "scattergeo": [
           {
            "marker": {
             "colorbar": {
              "outlinewidth": 0,
              "ticks": ""
             }
            },
            "type": "scattergeo"
           }
          ],
          "scattergl": [
           {
            "marker": {
             "colorbar": {
              "outlinewidth": 0,
              "ticks": ""
             }
            },
            "type": "scattergl"
           }
          ],
          "scattermapbox": [
           {
            "marker": {
             "colorbar": {
              "outlinewidth": 0,
              "ticks": ""
             }
            },
            "type": "scattermapbox"
           }
          ],
          "scatterpolar": [
           {
            "marker": {
             "colorbar": {
              "outlinewidth": 0,
              "ticks": ""
             }
            },
            "type": "scatterpolar"
           }
          ],
          "scatterpolargl": [
           {
            "marker": {
             "colorbar": {
              "outlinewidth": 0,
              "ticks": ""
             }
            },
            "type": "scatterpolargl"
           }
          ],
          "scatterternary": [
           {
            "marker": {
             "colorbar": {
              "outlinewidth": 0,
              "ticks": ""
             }
            },
            "type": "scatterternary"
           }
          ],
          "surface": [
           {
            "colorbar": {
             "outlinewidth": 0,
             "ticks": ""
            },
            "colorscale": [
             [
              0,
              "#0d0887"
             ],
             [
              0.1111111111111111,
              "#46039f"
             ],
             [
              0.2222222222222222,
              "#7201a8"
             ],
             [
              0.3333333333333333,
              "#9c179e"
             ],
             [
              0.4444444444444444,
              "#bd3786"
             ],
             [
              0.5555555555555556,
              "#d8576b"
             ],
             [
              0.6666666666666666,
              "#ed7953"
             ],
             [
              0.7777777777777778,
              "#fb9f3a"
             ],
             [
              0.8888888888888888,
              "#fdca26"
             ],
             [
              1,
              "#f0f921"
             ]
            ],
            "type": "surface"
           }
          ],
          "table": [
           {
            "cells": {
             "fill": {
              "color": "#EBF0F8"
             },
             "line": {
              "color": "white"
             }
            },
            "header": {
             "fill": {
              "color": "#C8D4E3"
             },
             "line": {
              "color": "white"
             }
            },
            "type": "table"
           }
          ]
         },
         "layout": {
          "annotationdefaults": {
           "arrowcolor": "#2a3f5f",
           "arrowhead": 0,
           "arrowwidth": 1
          },
          "autotypenumbers": "strict",
          "coloraxis": {
           "colorbar": {
            "outlinewidth": 0,
            "ticks": ""
           }
          },
          "colorscale": {
           "diverging": [
            [
             0,
             "#8e0152"
            ],
            [
             0.1,
             "#c51b7d"
            ],
            [
             0.2,
             "#de77ae"
            ],
            [
             0.3,
             "#f1b6da"
            ],
            [
             0.4,
             "#fde0ef"
            ],
            [
             0.5,
             "#f7f7f7"
            ],
            [
             0.6,
             "#e6f5d0"
            ],
            [
             0.7,
             "#b8e186"
            ],
            [
             0.8,
             "#7fbc41"
            ],
            [
             0.9,
             "#4d9221"
            ],
            [
             1,
             "#276419"
            ]
           ],
           "sequential": [
            [
             0,
             "#0d0887"
            ],
            [
             0.1111111111111111,
             "#46039f"
            ],
            [
             0.2222222222222222,
             "#7201a8"
            ],
            [
             0.3333333333333333,
             "#9c179e"
            ],
            [
             0.4444444444444444,
             "#bd3786"
            ],
            [
             0.5555555555555556,
             "#d8576b"
            ],
            [
             0.6666666666666666,
             "#ed7953"
            ],
            [
             0.7777777777777778,
             "#fb9f3a"
            ],
            [
             0.8888888888888888,
             "#fdca26"
            ],
            [
             1,
             "#f0f921"
            ]
           ],
           "sequentialminus": [
            [
             0,
             "#0d0887"
            ],
            [
             0.1111111111111111,
             "#46039f"
            ],
            [
             0.2222222222222222,
             "#7201a8"
            ],
            [
             0.3333333333333333,
             "#9c179e"
            ],
            [
             0.4444444444444444,
             "#bd3786"
            ],
            [
             0.5555555555555556,
             "#d8576b"
            ],
            [
             0.6666666666666666,
             "#ed7953"
            ],
            [
             0.7777777777777778,
             "#fb9f3a"
            ],
            [
             0.8888888888888888,
             "#fdca26"
            ],
            [
             1,
             "#f0f921"
            ]
           ]
          },
          "colorway": [
           "#636efa",
           "#EF553B",
           "#00cc96",
           "#ab63fa",
           "#FFA15A",
           "#19d3f3",
           "#FF6692",
           "#B6E880",
           "#FF97FF",
           "#FECB52"
          ],
          "font": {
           "color": "#2a3f5f"
          },
          "geo": {
           "bgcolor": "white",
           "lakecolor": "white",
           "landcolor": "#E5ECF6",
           "showlakes": true,
           "showland": true,
           "subunitcolor": "white"
          },
          "hoverlabel": {
           "align": "left"
          },
          "hovermode": "closest",
          "mapbox": {
           "style": "light"
          },
          "paper_bgcolor": "white",
          "plot_bgcolor": "#E5ECF6",
          "polar": {
           "angularaxis": {
            "gridcolor": "white",
            "linecolor": "white",
            "ticks": ""
           },
           "bgcolor": "#E5ECF6",
           "radialaxis": {
            "gridcolor": "white",
            "linecolor": "white",
            "ticks": ""
           }
          },
          "scene": {
           "xaxis": {
            "backgroundcolor": "#E5ECF6",
            "gridcolor": "white",
            "gridwidth": 2,
            "linecolor": "white",
            "showbackground": true,
            "ticks": "",
            "zerolinecolor": "white"
           },
           "yaxis": {
            "backgroundcolor": "#E5ECF6",
            "gridcolor": "white",
            "gridwidth": 2,
            "linecolor": "white",
            "showbackground": true,
            "ticks": "",
            "zerolinecolor": "white"
           },
           "zaxis": {
            "backgroundcolor": "#E5ECF6",
            "gridcolor": "white",
            "gridwidth": 2,
            "linecolor": "white",
            "showbackground": true,
            "ticks": "",
            "zerolinecolor": "white"
           }
          },
          "shapedefaults": {
           "line": {
            "color": "#2a3f5f"
           }
          },
          "ternary": {
           "aaxis": {
            "gridcolor": "white",
            "linecolor": "white",
            "ticks": ""
           },
           "baxis": {
            "gridcolor": "white",
            "linecolor": "white",
            "ticks": ""
           },
           "bgcolor": "#E5ECF6",
           "caxis": {
            "gridcolor": "white",
            "linecolor": "white",
            "ticks": ""
           }
          },
          "title": {
           "x": 0.05
          },
          "xaxis": {
           "automargin": true,
           "gridcolor": "white",
           "linecolor": "white",
           "ticks": "",
           "title": {
            "standoff": 15
           },
           "zerolinecolor": "white",
           "zerolinewidth": 2
          },
          "yaxis": {
           "automargin": true,
           "gridcolor": "white",
           "linecolor": "white",
           "ticks": "",
           "title": {
            "standoff": 15
           },
           "zerolinecolor": "white",
           "zerolinewidth": 2
          }
         }
        }
       }
      },
      "image/png": "[encoded data removed]",
      "text/html": [
       "<div>                            <div id=\"0f87afbd-7b63-44d0-b383-c082c0404dfc\" class=\"plotly-graph-div\" style=\"height:300px; width:100%;\"></div>            <script type=\"text/javascript\">                require([\"plotly\"], function(Plotly) {                    window.PLOTLYENV=window.PLOTLYENV || {};                                    if (document.getElementById(\"0f87afbd-7b63-44d0-b383-c082c0404dfc\")) {                    Plotly.newPlot(                        \"0f87afbd-7b63-44d0-b383-c082c0404dfc\",                        [{\"domain\":{\"column\":0,\"row\":1},\"mode\":\"number\",\"number\":{\"valueformat\":\",d\"},\"title\":{\"text\":\"Papirsykmeldinger automatisk registrert <br> samme periode i 2021\"},\"value\":48575.0,\"type\":\"indicator\"},{\"domain\":{\"column\":1,\"row\":1},\"mode\":\"number\",\"number\":{\"valueformat\":\",d\"},\"title\":{\"text\":\"Papirsykmeldinger manuelt registrert <br> samme periode i 2021\"},\"value\":145473.0,\"type\":\"indicator\"}],                        {\"template\":{\"data\":{\"histogram2dcontour\":[{\"type\":\"histogram2dcontour\",\"colorbar\":{\"outlinewidth\":0,\"ticks\":\"\"},\"colorscale\":[[0.0,\"#0d0887\"],[0.1111111111111111,\"#46039f\"],[0.2222222222222222,\"#7201a8\"],[0.3333333333333333,\"#9c179e\"],[0.4444444444444444,\"#bd3786\"],[0.5555555555555556,\"#d8576b\"],[0.6666666666666666,\"#ed7953\"],[0.7777777777777778,\"#fb9f3a\"],[0.8888888888888888,\"#fdca26\"],[1.0,\"#f0f921\"]]}],\"choropleth\":[{\"type\":\"choropleth\",\"colorbar\":{\"outlinewidth\":0,\"ticks\":\"\"}}],\"histogram2d\":[{\"type\":\"histogram2d\",\"colorbar\":{\"outlinewidth\":0,\"ticks\":\"\"},\"colorscale\":[[0.0,\"#0d0887\"],[0.1111111111111111,\"#46039f\"],[0.2222222222222222,\"#7201a8\"],[0.3333333333333333,\"#9c179e\"],[0.4444444444444444,\"#bd3786\"],[0.5555555555555556,\"#d8576b\"],[0.6666666666666666,\"#ed7953\"],[0.7777777777777778,\"#fb9f3a\"],[0.8888888888888888,\"#fdca26\"],[1.0,\"#f0f921\"]]}],\"heatmap\":[{\"type\":\"heatmap\",\"colorbar\":{\"outlinewidth\":0,\"ticks\":\"\"},\"colorscale\":[[0.0,\"#0d0887\"],[0.1111111111111111,\"#46039f\"],[0.2222222222222222,\"#7201a8\"],[0.3333333333333333,\"#9c179e\"],[0.4444444444444444,\"#bd3786\"],[0.5555555555555556,\"#d8576b\"],[0.6666666666666666,\"#ed7953\"],[0.7777777777777778,\"#fb9f3a\"],[0.8888888888888888,\"#fdca26\"],[1.0,\"#f0f921\"]]}],\"heatmapgl\":[{\"type\":\"heatmapgl\",\"colorbar\":{\"outlinewidth\":0,\"ticks\":\"\"},\"colorscale\":[[0.0,\"#0d0887\"],[0.1111111111111111,\"#46039f\"],[0.2222222222222222,\"#7201a8\"],[0.3333333333333333,\"#9c179e\"],[0.4444444444444444,\"#bd3786\"],[0.5555555555555556,\"#d8576b\"],[0.6666666666666666,\"#ed7953\"],[0.7777777777777778,\"#fb9f3a\"],[0.8888888888888888,\"#fdca26\"],[1.0,\"#f0f921\"]]}],\"contourcarpet\":[{\"type\":\"contourcarpet\",\"colorbar\":{\"outlinewidth\":0,\"ticks\":\"\"}}],\"contour\":[{\"type\":\"contour\",\"colorbar\":{\"outlinewidth\":0,\"ticks\":\"\"},\"colorscale\":[[0.0,\"#0d0887\"],[0.1111111111111111,\"#46039f\"],[0.2222222222222222,\"#7201a8\"],[0.3333333333333333,\"#9c179e\"],[0.4444444444444444,\"#bd3786\"],[0.5555555555555556,\"#d8576b\"],[0.6666666666666666,\"#ed7953\"],[0.7777777777777778,\"#fb9f3a\"],[0.8888888888888888,\"#fdca26\"],[1.0,\"#f0f921\"]]}],\"surface\":[{\"type\":\"surface\",\"colorbar\":{\"outlinewidth\":0,\"ticks\":\"\"},\"colorscale\":[[0.0,\"#0d0887\"],[0.1111111111111111,\"#46039f\"],[0.2222222222222222,\"#7201a8\"],[0.3333333333333333,\"#9c179e\"],[0.4444444444444444,\"#bd3786\"],[0.5555555555555556,\"#d8576b\"],[0.6666666666666666,\"#ed7953\"],[0.7777777777777778,\"#fb9f3a\"],[0.8888888888888888,\"#fdca26\"],[1.0,\"#f0f921\"]]}],\"mesh3d\":[{\"type\":\"mesh3d\",\"colorbar\":{\"outlinewidth\":0,\"ticks\":\"\"}}],\"scatter\":[{\"fillpattern\":{\"fillmode\":\"overlay\",\"size\":10,\"solidity\":0.2},\"type\":\"scatter\"}],\"parcoords\":[{\"type\":\"parcoords\",\"line\":{\"colorbar\":{\"outlinewidth\":0,\"ticks\":\"\"}}}],\"scatterpolargl\":[{\"type\":\"scatterpolargl\",\"marker\":{\"colorbar\":{\"outlinewidth\":0,\"ticks\":\"\"}}}],\"bar\":[{\"error_x\":{\"color\":\"#2a3f5f\"},\"error_y\":{\"color\":\"#2a3f5f\"},\"marker\":{\"line\":{\"color\":\"#E5ECF6\",\"width\":0.5},\"pattern\":{\"fillmode\":\"overlay\",\"size\":10,\"solidity\":0.2}},\"type\":\"bar\"}],\"scattergeo\":[{\"type\":\"scattergeo\",\"marker\":{\"colorbar\":{\"outlinewidth\":0,\"ticks\":\"\"}}}],\"scatterpolar\":[{\"type\":\"scatterpolar\",\"marker\":{\"colorbar\":{\"outlinewidth\":0,\"ticks\":\"\"}}}],\"histogram\":[{\"marker\":{\"pattern\":{\"fillmode\":\"overlay\",\"size\":10,\"solidity\":0.2}},\"type\":\"histogram\"}],\"scattergl\":[{\"type\":\"scattergl\",\"marker\":{\"colorbar\":{\"outlinewidth\":0,\"ticks\":\"\"}}}],\"scatter3d\":[{\"type\":\"scatter3d\",\"line\":{\"colorbar\":{\"outlinewidth\":0,\"ticks\":\"\"}},\"marker\":{\"colorbar\":{\"outlinewidth\":0,\"ticks\":\"\"}}}],\"scattermapbox\":[{\"type\":\"scattermapbox\",\"marker\":{\"colorbar\":{\"outlinewidth\":0,\"ticks\":\"\"}}}],\"scatterternary\":[{\"type\":\"scatterternary\",\"marker\":{\"colorbar\":{\"outlinewidth\":0,\"ticks\":\"\"}}}],\"scattercarpet\":[{\"type\":\"scattercarpet\",\"marker\":{\"colorbar\":{\"outlinewidth\":0,\"ticks\":\"\"}}}],\"carpet\":[{\"aaxis\":{\"endlinecolor\":\"#2a3f5f\",\"gridcolor\":\"white\",\"linecolor\":\"white\",\"minorgridcolor\":\"white\",\"startlinecolor\":\"#2a3f5f\"},\"baxis\":{\"endlinecolor\":\"#2a3f5f\",\"gridcolor\":\"white\",\"linecolor\":\"white\",\"minorgridcolor\":\"white\",\"startlinecolor\":\"#2a3f5f\"},\"type\":\"carpet\"}],\"table\":[{\"cells\":{\"fill\":{\"color\":\"#EBF0F8\"},\"line\":{\"color\":\"white\"}},\"header\":{\"fill\":{\"color\":\"#C8D4E3\"},\"line\":{\"color\":\"white\"}},\"type\":\"table\"}],\"barpolar\":[{\"marker\":{\"line\":{\"color\":\"#E5ECF6\",\"width\":0.5},\"pattern\":{\"fillmode\":\"overlay\",\"size\":10,\"solidity\":0.2}},\"type\":\"barpolar\"}],\"pie\":[{\"automargin\":true,\"type\":\"pie\"}]},\"layout\":{\"autotypenumbers\":\"strict\",\"colorway\":[\"#636efa\",\"#EF553B\",\"#00cc96\",\"#ab63fa\",\"#FFA15A\",\"#19d3f3\",\"#FF6692\",\"#B6E880\",\"#FF97FF\",\"#FECB52\"],\"font\":{\"color\":\"#2a3f5f\"},\"hovermode\":\"closest\",\"hoverlabel\":{\"align\":\"left\"},\"paper_bgcolor\":\"white\",\"plot_bgcolor\":\"#E5ECF6\",\"polar\":{\"bgcolor\":\"#E5ECF6\",\"angularaxis\":{\"gridcolor\":\"white\",\"linecolor\":\"white\",\"ticks\":\"\"},\"radialaxis\":{\"gridcolor\":\"white\",\"linecolor\":\"white\",\"ticks\":\"\"}},\"ternary\":{\"bgcolor\":\"#E5ECF6\",\"aaxis\":{\"gridcolor\":\"white\",\"linecolor\":\"white\",\"ticks\":\"\"},\"baxis\":{\"gridcolor\":\"white\",\"linecolor\":\"white\",\"ticks\":\"\"},\"caxis\":{\"gridcolor\":\"white\",\"linecolor\":\"white\",\"ticks\":\"\"}},\"coloraxis\":{\"colorbar\":{\"outlinewidth\":0,\"ticks\":\"\"}},\"colorscale\":{\"sequential\":[[0.0,\"#0d0887\"],[0.1111111111111111,\"#46039f\"],[0.2222222222222222,\"#7201a8\"],[0.3333333333333333,\"#9c179e\"],[0.4444444444444444,\"#bd3786\"],[0.5555555555555556,\"#d8576b\"],[0.6666666666666666,\"#ed7953\"],[0.7777777777777778,\"#fb9f3a\"],[0.8888888888888888,\"#fdca26\"],[1.0,\"#f0f921\"]],\"sequentialminus\":[[0.0,\"#0d0887\"],[0.1111111111111111,\"#46039f\"],[0.2222222222222222,\"#7201a8\"],[0.3333333333333333,\"#9c179e\"],[0.4444444444444444,\"#bd3786\"],[0.5555555555555556,\"#d8576b\"],[0.6666666666666666,\"#ed7953\"],[0.7777777777777778,\"#fb9f3a\"],[0.8888888888888888,\"#fdca26\"],[1.0,\"#f0f921\"]],\"diverging\":[[0,\"#8e0152\"],[0.1,\"#c51b7d\"],[0.2,\"#de77ae\"],[0.3,\"#f1b6da\"],[0.4,\"#fde0ef\"],[0.5,\"#f7f7f7\"],[0.6,\"#e6f5d0\"],[0.7,\"#b8e186\"],[0.8,\"#7fbc41\"],[0.9,\"#4d9221\"],[1,\"#276419\"]]},\"xaxis\":{\"gridcolor\":\"white\",\"linecolor\":\"white\",\"ticks\":\"\",\"title\":{\"standoff\":15},\"zerolinecolor\":\"white\",\"automargin\":true,\"zerolinewidth\":2},\"yaxis\":{\"gridcolor\":\"white\",\"linecolor\":\"white\",\"ticks\":\"\",\"title\":{\"standoff\":15},\"zerolinecolor\":\"white\",\"automargin\":true,\"zerolinewidth\":2},\"scene\":{\"xaxis\":{\"backgroundcolor\":\"#E5ECF6\",\"gridcolor\":\"white\",\"linecolor\":\"white\",\"showbackground\":true,\"ticks\":\"\",\"zerolinecolor\":\"white\",\"gridwidth\":2},\"yaxis\":{\"backgroundcolor\":\"#E5ECF6\",\"gridcolor\":\"white\",\"linecolor\":\"white\",\"showbackground\":true,\"ticks\":\"\",\"zerolinecolor\":\"white\",\"gridwidth\":2},\"zaxis\":{\"backgroundcolor\":\"#E5ECF6\",\"gridcolor\":\"white\",\"linecolor\":\"white\",\"showbackground\":true,\"ticks\":\"\",\"zerolinecolor\":\"white\",\"gridwidth\":2}},\"shapedefaults\":{\"line\":{\"color\":\"#2a3f5f\"}},\"annotationdefaults\":{\"arrowcolor\":\"#2a3f5f\",\"arrowhead\":0,\"arrowwidth\":1},\"geo\":{\"bgcolor\":\"white\",\"landcolor\":\"#E5ECF6\",\"subunitcolor\":\"white\",\"showland\":true,\"showlakes\":true,\"lakecolor\":\"white\"},\"title\":{\"x\":0.05},\"mapbox\":{\"style\":\"light\"}}},\"annotations\":[{\"align\":\"center\",\"font\":{\"size\":12},\"showarrow\":false,\"text\":\"NB! Dette plottet er ikke offisiell statistikk og m\\u00e5 ikke deles utenfor NAV.\",\"x\":0.5,\"xref\":\"paper\",\"y\":1.3,\"yref\":\"paper\"}],\"grid\":{\"rows\":2,\"columns\":2,\"pattern\":\"independent\"},\"autosize\":true,\"separators\":\", \",\"paper_bgcolor\":\"#CCE1F3\",\"height\":300},                        {\"responsive\": true}                    ).then(function(){\n",
       "                            \n",
       "var gd = document.getElementById('0f87afbd-7b63-44d0-b383-c082c0404dfc');\n",
       "var x = new MutationObserver(function (mutations, observer) {{\n",
       "        var display = window.getComputedStyle(gd).display;\n",
       "        if (!display || display === 'none') {{\n",
       "            console.log([gd, 'removed!']);\n",
       "            Plotly.purge(gd);\n",
       "            observer.disconnect();\n",
       "        }}\n",
       "}});\n",
       "\n",
       "// Listen for the removal of the full notebook cells\n",
       "var notebookContainer = gd.closest('#notebook-container');\n",
       "if (notebookContainer) {{\n",
       "    x.observe(notebookContainer, {childList: true});\n",
       "}}\n",
       "\n",
       "// Listen for the clearing of the current output cell\n",
       "var outputEl = gd.closest('.output');\n",
       "if (outputEl) {{\n",
       "    x.observe(outputEl, {childList: true});\n",
       "}}\n",
       "\n",
       "                        })                };                });            </script>        </div>"
      ]
     },
     "metadata": {},
     "output_type": "display_data"
    }
   ],
   "source": [
    "fig_nokkeltall_papir_forrige = go.Figure()\n",
    "\n",
    "fig_nokkeltall_papir_forrige.add_trace(\n",
    "    go.Indicator(\n",
    "        mode = \"number\",\n",
    "        value = num_papir_auto_forrige,\n",
    "        number = {\"valueformat\": \",d\"},\n",
    "        domain = {'column': 0, \n",
    "                  'row': 1},\n",
    "        title = {'text': f'Papirsykmeldinger automatisk registrert <br> samme periode i {papir_forrige_aar}'},\n",
    "    )\n",
    ")\n",
    "\n",
    "fig_nokkeltall_papir_forrige.add_trace(\n",
    "    go.Indicator(\n",
    "        mode = \"number\",\n",
    "        value = num_papir_manu_forrige,\n",
    "        number = {\"valueformat\": \",d\"},\n",
    "        domain = {'column': 1, \n",
    "                  'row':1},\n",
    "        title = {'text': f'Papirsykmeldinger manuelt registrert <br> samme periode i {papir_forrige_aar}'}\n",
    "    )\n",
    ")\n",
    "\n",
    "fig_nokkeltall_papir_forrige.add_annotation(\n",
    "    text = annotation_text,\n",
    "    showarrow= False, \n",
    "    align= 'center',\n",
    "    x= 0.5,\n",
    "    y= 1.3,\n",
    "    font={'size':12},\n",
    "    xref= 'paper',\n",
    "    yref= 'paper'\n",
    ")\n",
    "\n",
    "\n",
    "fig_nokkeltall_papir_forrige.update_layout(\n",
    "    autosize=True, \n",
    "    grid = {'rows': 2, \n",
    "            'columns': 2, \n",
    "            'pattern': \"independent\"},\n",
    "    separators=', ', \n",
    "    paper_bgcolor=nokkeltall_farge , \n",
    "    height=300\n",
    ")"
   ]
  },
  {
   "cell_type": "code",
   "execution_count": 252,
   "id": "11a9bd2d-0a43-4362-b26e-bb64eee9d5a8",
   "metadata": {},
   "outputs": [],
   "source": [
    "###########################################\n",
    "##### Visualisering Papirsykmeldinger #####\n",
    "###########################################\n",
    "\n",
    "df_papir_tot = df_papir.merge(df_registrering, how='left',on='dato')\n",
    "df_papir_tot['Manuelt registrert'] = df_papir_tot['Manuelt registrert'].fillna(0)\n",
    "df_papir_tot['Automatisk registrert'] = df_papir_tot['totalt'] - df_papir_tot['Manuelt registrert']\n",
    "\n",
    "df_papir_tot = pd.melt(df_papir_tot, \n",
    "                       id_vars=['dato'], \n",
    "                       value_vars=['totalt', 'Manuelt registrert', 'Automatisk registrert'], \n",
    "                       var_name='reg', \n",
    "                       value_name='antall')\n",
    "\n",
    "df_papir_tot = df_papir_tot[df_papir_tot['reg'] !='totalt']\n",
    "df_papir_tot = df_papir_tot[df_papir_tot['dato'] != dt.datetime.now().date()]\n",
    "\n",
    "\n",
    "# Grupperer på mnd #\n",
    "\n",
    "df_papir_tot['mnd'] = df_papir_tot['dato'].astype('datetime64[ns]').dt.strftime('%Y/%m')\n",
    "df_papir_tot = df_papir_tot[df_papir_tot['mnd'] != dt.datetime.now().date().strftime('%Y/%m')]\n",
    "df_papir_tot_mnd = df_papir_tot.groupby(['mnd', 'reg']).sum().reset_index()"
   ]
  },
  {
   "cell_type": "code",
   "execution_count": 253,
   "id": "8668a18a-36fe-4920-a9f6-a5aed4465a71",
   "metadata": {},
   "outputs": [],
   "source": [
    "#############################################\n",
    "### Finne andel papirsykmeldinger per mnd ###\n",
    "#############################################\n",
    "\n",
    "df_p_andel = df_papir.copy()\n",
    "df_p_andel = df_p_andel.rename(columns={'totalt' : 'papirsykmeldinger'})\n",
    "df_p_andel['dato'] = df_p_andel['dato'].astype('datetime64[ns]')\n",
    "\n",
    "df_alle_andel = df.copy()\n",
    "df_alle_andel = df_alle_andel.rename(columns={'antall' : 'totalt', \n",
    "                                              'mottatt_tidspunkt' : 'dato'})\n",
    "\n",
    "df_andel_papir = df_alle_andel.merge(df_p_andel, on='dato')\n",
    "df_andel_papir['mnd'] = df_andel_papir['dato'].dt.strftime('%Y/%m')\n",
    "df_andel_papir_mnd = df_andel_papir.groupby(['mnd']).sum().reset_index()\n",
    "\n",
    "df_andel_papir_mnd['andel'] = (df_andel_papir_mnd['papirsykmeldinger']/df_andel_papir_mnd['totalt']*100).round(1)\n",
    "df_andel_papir_mnd = df_andel_papir_mnd[df_andel_papir_mnd['mnd'] != dt.datetime.now().date().strftime('%Y/%m')]\n",
    "df_andel_papir_mnd = df_andel_papir_mnd[df_andel_papir_mnd['mnd'] >= '2021/01']"
   ]
  },
  {
   "cell_type": "code",
   "execution_count": 254,
   "id": "07c70d31-5eca-4b62-8fd4-7435f3a36f99",
   "metadata": {},
   "outputs": [
    {
     "data": {
      "application/vnd.plotly.v1+json": {
       "config": {
        "plotlyServerURL": "https://plot.ly"
       },
       "data": [
        {
         "alignmentgroup": "True",
         "hovertemplate": "<br />År/måned: %{x}<br />Antall: %{y}",
         "legendgroup": "Automatisk registrert",
         "marker": {
          "color": "#66CBEC",
          "pattern": {
           "shape": ""
          }
         },
         "name": "Automatisk registrert",
         "offsetgroup": "Automatisk registrert",
         "orientation": "v",
         "showlegend": true,
         "textposition": "auto",
         "type": "bar",
         "x": [
          "2020/04",
          "2020/05",
          "2020/06",
          "2020/07",
          "2020/08",
          "2020/09",
          "2020/10",
          "2020/11",
          "2020/12",
          "2021/01",
          "2021/02",
          "2021/03",
          "2021/04",
          "2021/05",
          "2021/06",
          "2021/07",
          "2021/08",
          "2021/09",
          "2021/10",
          "2021/11",
          "2021/12",
          "2022/01",
          "2022/02",
          "2022/03",
          "2022/04",
          "2022/05",
          "2022/06",
          "2022/07",
          "2022/08",
          "2022/09"
         ],
         "xaxis": "x",
         "y": [
          3215,
          9248,
          10596,
          6381,
          6514,
          9171,
          8922,
          7850,
          5782,
          4993,
          5722,
          5757,
          4283,
          4267,
          3844,
          3815,
          4253,
          6349,
          5884,
          2366,
          1429,
          9043,
          9692,
          11717,
          10182,
          11576,
          10475,
          6023,
          7813,
          11264
         ],
         "yaxis": "y"
        },
        {
         "alignmentgroup": "True",
         "hovertemplate": "<br />År/måned: %{x}<br />Antall: %{y}",
         "legendgroup": "Manuelt registrert",
         "marker": {
          "color": "#0067C5",
          "pattern": {
           "shape": ""
          }
         },
         "name": "Manuelt registrert",
         "offsetgroup": "Manuelt registrert",
         "orientation": "v",
         "showlegend": true,
         "textposition": "auto",
         "type": "bar",
         "x": [
          "2020/04",
          "2020/05",
          "2020/06",
          "2020/07",
          "2020/08",
          "2020/09",
          "2020/10",
          "2020/11",
          "2020/12",
          "2021/01",
          "2021/02",
          "2021/03",
          "2021/04",
          "2021/05",
          "2021/06",
          "2021/07",
          "2021/08",
          "2021/09",
          "2021/10",
          "2021/11",
          "2021/12",
          "2022/01",
          "2022/02",
          "2022/03",
          "2022/04",
          "2022/05",
          "2022/06",
          "2022/07",
          "2022/08",
          "2022/09"
         ],
         "xaxis": "x",
         "y": [
          0,
          0,
          0,
          0,
          0,
          0,
          1241,
          1508,
          12288,
          14765,
          15919,
          17166,
          13987,
          13826,
          17228,
          10367,
          11542,
          16570,
          15564,
          19329,
          18042,
          10160,
          10508,
          9346,
          6000,
          6842,
          6122,
          3945,
          6289,
          6586
         ],
         "yaxis": "y"
        },
        {
         "marker": {
          "color": "#FF9100"
         },
         "name": "Andel papirsykmeldinger av <br>alle mottatte sykmeldinger",
         "type": "scatter",
         "x": [
          "2021/01",
          "2021/02",
          "2021/03",
          "2021/04",
          "2021/05",
          "2021/06",
          "2021/07",
          "2021/08",
          "2021/09",
          "2021/10",
          "2021/11",
          "2021/12",
          "2022/01",
          "2022/02",
          "2022/03",
          "2022/04",
          "2022/05",
          "2022/06",
          "2022/07",
          "2022/08",
          "2022/09"
         ],
         "y": [
          5.5,
          6.4,
          6,
          5.6,
          5.8,
          6.7,
          6.9,
          5.2,
          6.2,
          5.9,
          4.8,
          5.2,
          3.9,
          4,
          4.4,
          5,
          5.5,
          4.8,
          4.4,
          4.1,
          4.9
         ],
         "yaxis": "y2"
        }
       ],
       "layout": {
        "annotations": [
         {
          "align": "center",
          "font": {
           "size": 12
          },
          "showarrow": false,
          "text": "NB! Dette plottet er ikke offisiell statistikk og må ikke deles utenfor NAV.",
          "x": 0.5,
          "xref": "paper",
          "y": 1.12,
          "yref": "paper"
         }
        ],
        "autosize": true,
        "barmode": "relative",
        "hoverlabel": {
         "namelength": -1
        },
        "hovermode": "x unified",
        "legend": {
         "title": {
          "text": ""
         },
         "tracegroupgap": 0,
         "x": 1.05,
         "y": 1.05
        },
        "margin": {
         "t": 60
        },
        "separators": ", ",
        "template": {
         "data": {
          "bar": [
           {
            "error_x": {
             "color": "#2a3f5f"
            },
            "error_y": {
             "color": "#2a3f5f"
            },
            "marker": {
             "line": {
              "color": "white",
              "width": 0.5
             },
             "pattern": {
              "fillmode": "overlay",
              "size": 10,
              "solidity": 0.2
             }
            },
            "type": "bar"
           }
          ],
          "barpolar": [
           {
            "marker": {
             "line": {
              "color": "white",
              "width": 0.5
             },
             "pattern": {
              "fillmode": "overlay",
              "size": 10,
              "solidity": 0.2
             }
            },
            "type": "barpolar"
           }
          ],
          "carpet": [
           {
            "aaxis": {
             "endlinecolor": "#2a3f5f",
             "gridcolor": "#C8D4E3",
             "linecolor": "#C8D4E3",
             "minorgridcolor": "#C8D4E3",
             "startlinecolor": "#2a3f5f"
            },
            "baxis": {
             "endlinecolor": "#2a3f5f",
             "gridcolor": "#C8D4E3",
             "linecolor": "#C8D4E3",
             "minorgridcolor": "#C8D4E3",
             "startlinecolor": "#2a3f5f"
            },
            "type": "carpet"
           }
          ],
          "choropleth": [
           {
            "colorbar": {
             "outlinewidth": 0,
             "ticks": ""
            },
            "type": "choropleth"
           }
          ],
          "contour": [
           {
            "colorbar": {
             "outlinewidth": 0,
             "ticks": ""
            },
            "colorscale": [
             [
              0,
              "#0d0887"
             ],
             [
              0.1111111111111111,
              "#46039f"
             ],
             [
              0.2222222222222222,
              "#7201a8"
             ],
             [
              0.3333333333333333,
              "#9c179e"
             ],
             [
              0.4444444444444444,
              "#bd3786"
             ],
             [
              0.5555555555555556,
              "#d8576b"
             ],
             [
              0.6666666666666666,
              "#ed7953"
             ],
             [
              0.7777777777777778,
              "#fb9f3a"
             ],
             [
              0.8888888888888888,
              "#fdca26"
             ],
             [
              1,
              "#f0f921"
             ]
            ],
            "type": "contour"
           }
          ],
          "contourcarpet": [
           {
            "colorbar": {
             "outlinewidth": 0,
             "ticks": ""
            },
            "type": "contourcarpet"
           }
          ],
          "heatmap": [
           {
            "colorbar": {
             "outlinewidth": 0,
             "ticks": ""
            },
            "colorscale": [
             [
              0,
              "#0d0887"
             ],
             [
              0.1111111111111111,
              "#46039f"
             ],
             [
              0.2222222222222222,
              "#7201a8"
             ],
             [
              0.3333333333333333,
              "#9c179e"
             ],
             [
              0.4444444444444444,
              "#bd3786"
             ],
             [
              0.5555555555555556,
              "#d8576b"
             ],
             [
              0.6666666666666666,
              "#ed7953"
             ],
             [
              0.7777777777777778,
              "#fb9f3a"
             ],
             [
              0.8888888888888888,
              "#fdca26"
             ],
             [
              1,
              "#f0f921"
             ]
            ],
            "type": "heatmap"
           }
          ],
          "heatmapgl": [
           {
            "colorbar": {
             "outlinewidth": 0,
             "ticks": ""
            },
            "colorscale": [
             [
              0,
              "#0d0887"
             ],
             [
              0.1111111111111111,
              "#46039f"
             ],
             [
              0.2222222222222222,
              "#7201a8"
             ],
             [
              0.3333333333333333,
              "#9c179e"
             ],
             [
              0.4444444444444444,
              "#bd3786"
             ],
             [
              0.5555555555555556,
              "#d8576b"
             ],
             [
              0.6666666666666666,
              "#ed7953"
             ],
             [
              0.7777777777777778,
              "#fb9f3a"
             ],
             [
              0.8888888888888888,
              "#fdca26"
             ],
             [
              1,
              "#f0f921"
             ]
            ],
            "type": "heatmapgl"
           }
          ],
          "histogram": [
           {
            "marker": {
             "pattern": {
              "fillmode": "overlay",
              "size": 10,
              "solidity": 0.2
             }
            },
            "type": "histogram"
           }
          ],
          "histogram2d": [
           {
            "colorbar": {
             "outlinewidth": 0,
             "ticks": ""
            },
            "colorscale": [
             [
              0,
              "#0d0887"
             ],
             [
              0.1111111111111111,
              "#46039f"
             ],
             [
              0.2222222222222222,
              "#7201a8"
             ],
             [
              0.3333333333333333,
              "#9c179e"
             ],
             [
              0.4444444444444444,
              "#bd3786"
             ],
             [
              0.5555555555555556,
              "#d8576b"
             ],
             [
              0.6666666666666666,
              "#ed7953"
             ],
             [
              0.7777777777777778,
              "#fb9f3a"
             ],
             [
              0.8888888888888888,
              "#fdca26"
             ],
             [
              1,
              "#f0f921"
             ]
            ],
            "type": "histogram2d"
           }
          ],
          "histogram2dcontour": [
           {
            "colorbar": {
             "outlinewidth": 0,
             "ticks": ""
            },
            "colorscale": [
             [
              0,
              "#0d0887"
             ],
             [
              0.1111111111111111,
              "#46039f"
             ],
             [
              0.2222222222222222,
              "#7201a8"
             ],
             [
              0.3333333333333333,
              "#9c179e"
             ],
             [
              0.4444444444444444,
              "#bd3786"
             ],
             [
              0.5555555555555556,
              "#d8576b"
             ],
             [
              0.6666666666666666,
              "#ed7953"
             ],
             [
              0.7777777777777778,
              "#fb9f3a"
             ],
             [
              0.8888888888888888,
              "#fdca26"
             ],
             [
              1,
              "#f0f921"
             ]
            ],
            "type": "histogram2dcontour"
           }
          ],
          "mesh3d": [
           {
            "colorbar": {
             "outlinewidth": 0,
             "ticks": ""
            },
            "type": "mesh3d"
           }
          ],
          "parcoords": [
           {
            "line": {
             "colorbar": {
              "outlinewidth": 0,
              "ticks": ""
             }
            },
            "type": "parcoords"
           }
          ],
          "pie": [
           {
            "automargin": true,
            "type": "pie"
           }
          ],
          "scatter": [
           {
            "fillpattern": {
             "fillmode": "overlay",
             "size": 10,
             "solidity": 0.2
            },
            "type": "scatter"
           }
          ],
          "scatter3d": [
           {
            "line": {
             "colorbar": {
              "outlinewidth": 0,
              "ticks": ""
             }
            },
            "marker": {
             "colorbar": {
              "outlinewidth": 0,
              "ticks": ""
             }
            },
            "type": "scatter3d"
           }
          ],
          "scattercarpet": [
           {
            "marker": {
             "colorbar": {
              "outlinewidth": 0,
              "ticks": ""
             }
            },
            "type": "scattercarpet"
           }
          ],
          "scattergeo": [
           {
            "marker": {
             "colorbar": {
              "outlinewidth": 0,
              "ticks": ""
             }
            },
            "type": "scattergeo"
           }
          ],
          "scattergl": [
           {
            "marker": {
             "colorbar": {
              "outlinewidth": 0,
              "ticks": ""
             }
            },
            "type": "scattergl"
           }
          ],
          "scattermapbox": [
           {
            "marker": {
             "colorbar": {
              "outlinewidth": 0,
              "ticks": ""
             }
            },
            "type": "scattermapbox"
           }
          ],
          "scatterpolar": [
           {
            "marker": {
             "colorbar": {
              "outlinewidth": 0,
              "ticks": ""
             }
            },
            "type": "scatterpolar"
           }
          ],
          "scatterpolargl": [
           {
            "marker": {
             "colorbar": {
              "outlinewidth": 0,
              "ticks": ""
             }
            },
            "type": "scatterpolargl"
           }
          ],
          "scatterternary": [
           {
            "marker": {
             "colorbar": {
              "outlinewidth": 0,
              "ticks": ""
             }
            },
            "type": "scatterternary"
           }
          ],
          "surface": [
           {
            "colorbar": {
             "outlinewidth": 0,
             "ticks": ""
            },
            "colorscale": [
             [
              0,
              "#0d0887"
             ],
             [
              0.1111111111111111,
              "#46039f"
             ],
             [
              0.2222222222222222,
              "#7201a8"
             ],
             [
              0.3333333333333333,
              "#9c179e"
             ],
             [
              0.4444444444444444,
              "#bd3786"
             ],
             [
              0.5555555555555556,
              "#d8576b"
             ],
             [
              0.6666666666666666,
              "#ed7953"
             ],
             [
              0.7777777777777778,
              "#fb9f3a"
             ],
             [
              0.8888888888888888,
              "#fdca26"
             ],
             [
              1,
              "#f0f921"
             ]
            ],
            "type": "surface"
           }
          ],
          "table": [
           {
            "cells": {
             "fill": {
              "color": "#EBF0F8"
             },
             "line": {
              "color": "white"
             }
            },
            "header": {
             "fill": {
              "color": "#C8D4E3"
             },
             "line": {
              "color": "white"
             }
            },
            "type": "table"
           }
          ]
         },
         "layout": {
          "annotationdefaults": {
           "arrowcolor": "#2a3f5f",
           "arrowhead": 0,
           "arrowwidth": 1
          },
          "autotypenumbers": "strict",
          "coloraxis": {
           "colorbar": {
            "outlinewidth": 0,
            "ticks": ""
           }
          },
          "colorscale": {
           "diverging": [
            [
             0,
             "#8e0152"
            ],
            [
             0.1,
             "#c51b7d"
            ],
            [
             0.2,
             "#de77ae"
            ],
            [
             0.3,
             "#f1b6da"
            ],
            [
             0.4,
             "#fde0ef"
            ],
            [
             0.5,
             "#f7f7f7"
            ],
            [
             0.6,
             "#e6f5d0"
            ],
            [
             0.7,
             "#b8e186"
            ],
            [
             0.8,
             "#7fbc41"
            ],
            [
             0.9,
             "#4d9221"
            ],
            [
             1,
             "#276419"
            ]
           ],
           "sequential": [
            [
             0,
             "#0d0887"
            ],
            [
             0.1111111111111111,
             "#46039f"
            ],
            [
             0.2222222222222222,
             "#7201a8"
            ],
            [
             0.3333333333333333,
             "#9c179e"
            ],
            [
             0.4444444444444444,
             "#bd3786"
            ],
            [
             0.5555555555555556,
             "#d8576b"
            ],
            [
             0.6666666666666666,
             "#ed7953"
            ],
            [
             0.7777777777777778,
             "#fb9f3a"
            ],
            [
             0.8888888888888888,
             "#fdca26"
            ],
            [
             1,
             "#f0f921"
            ]
           ],
           "sequentialminus": [
            [
             0,
             "#0d0887"
            ],
            [
             0.1111111111111111,
             "#46039f"
            ],
            [
             0.2222222222222222,
             "#7201a8"
            ],
            [
             0.3333333333333333,
             "#9c179e"
            ],
            [
             0.4444444444444444,
             "#bd3786"
            ],
            [
             0.5555555555555556,
             "#d8576b"
            ],
            [
             0.6666666666666666,
             "#ed7953"
            ],
            [
             0.7777777777777778,
             "#fb9f3a"
            ],
            [
             0.8888888888888888,
             "#fdca26"
            ],
            [
             1,
             "#f0f921"
            ]
           ]
          },
          "colorway": [
           "#636efa",
           "#EF553B",
           "#00cc96",
           "#ab63fa",
           "#FFA15A",
           "#19d3f3",
           "#FF6692",
           "#B6E880",
           "#FF97FF",
           "#FECB52"
          ],
          "font": {
           "color": "#2a3f5f"
          },
          "geo": {
           "bgcolor": "white",
           "lakecolor": "white",
           "landcolor": "white",
           "showlakes": true,
           "showland": true,
           "subunitcolor": "#C8D4E3"
          },
          "hoverlabel": {
           "align": "left"
          },
          "hovermode": "closest",
          "mapbox": {
           "style": "light"
          },
          "paper_bgcolor": "white",
          "plot_bgcolor": "white",
          "polar": {
           "angularaxis": {
            "gridcolor": "#EBF0F8",
            "linecolor": "#EBF0F8",
            "ticks": ""
           },
           "bgcolor": "white",
           "radialaxis": {
            "gridcolor": "#EBF0F8",
            "linecolor": "#EBF0F8",
            "ticks": ""
           }
          },
          "scene": {
           "xaxis": {
            "backgroundcolor": "white",
            "gridcolor": "#DFE8F3",
            "gridwidth": 2,
            "linecolor": "#EBF0F8",
            "showbackground": true,
            "ticks": "",
            "zerolinecolor": "#EBF0F8"
           },
           "yaxis": {
            "backgroundcolor": "white",
            "gridcolor": "#DFE8F3",
            "gridwidth": 2,
            "linecolor": "#EBF0F8",
            "showbackground": true,
            "ticks": "",
            "zerolinecolor": "#EBF0F8"
           },
           "zaxis": {
            "backgroundcolor": "white",
            "gridcolor": "#DFE8F3",
            "gridwidth": 2,
            "linecolor": "#EBF0F8",
            "showbackground": true,
            "ticks": "",
            "zerolinecolor": "#EBF0F8"
           }
          },
          "shapedefaults": {
           "line": {
            "color": "#2a3f5f"
           }
          },
          "ternary": {
           "aaxis": {
            "gridcolor": "#DFE8F3",
            "linecolor": "#A2B1C6",
            "ticks": ""
           },
           "baxis": {
            "gridcolor": "#DFE8F3",
            "linecolor": "#A2B1C6",
            "ticks": ""
           },
           "bgcolor": "white",
           "caxis": {
            "gridcolor": "#DFE8F3",
            "linecolor": "#A2B1C6",
            "ticks": ""
           }
          },
          "title": {
           "x": 0.05
          },
          "xaxis": {
           "automargin": true,
           "gridcolor": "#EBF0F8",
           "linecolor": "#EBF0F8",
           "ticks": "",
           "title": {
            "standoff": 15
           },
           "zerolinecolor": "#EBF0F8",
           "zerolinewidth": 2
          },
          "yaxis": {
           "automargin": true,
           "gridcolor": "#EBF0F8",
           "linecolor": "#EBF0F8",
           "ticks": "",
           "title": {
            "standoff": 15
           },
           "zerolinecolor": "#EBF0F8",
           "zerolinewidth": 2
          }
         }
        },
        "xaxis": {
         "anchor": "y",
         "autorange": true,
         "domain": [
          0,
          1
         ],
         "range": [
          -0.5,
          29.5
         ],
         "rangebreaks": [
          {
           "bounds": [
            "sat",
            "mon"
           ]
          },
          {
           "values": [
            "2020-05-01",
            "2020-05-21",
            "2020-06-01"
           ]
          }
         ],
         "tickmode": "array",
         "title": {
          "text": ""
         },
         "type": "category"
        },
        "yaxis": {
         "anchor": "x",
         "autorange": true,
         "domain": [
          0,
          1
         ],
         "range": [
          0,
          24129.473684210527
         ],
         "tickformat": ",d",
         "title": {
          "text": "Antall"
         },
         "type": "linear"
        },
        "yaxis2": {
         "overlaying": "y",
         "range": [
          0,
          100
         ],
         "side": "right",
         "ticksuffix": " %",
         "title": {
          "text": "Andel"
         },
         "type": "linear"
        }
       }
      },
      "image/png": "[encoded data removed]",
      "text/html": [
       "<div>                            <div id=\"0568d5c9-59a1-4651-9dbc-db41c248737e\" class=\"plotly-graph-div\" style=\"height:525px; width:100%;\"></div>            <script type=\"text/javascript\">                require([\"plotly\"], function(Plotly) {                    window.PLOTLYENV=window.PLOTLYENV || {};                                    if (document.getElementById(\"0568d5c9-59a1-4651-9dbc-db41c248737e\")) {                    Plotly.newPlot(                        \"0568d5c9-59a1-4651-9dbc-db41c248737e\",                        [{\"alignmentgroup\":\"True\",\"hovertemplate\":\"<br />\\u00c5r/m\\u00e5ned: %{x}<br />Antall: %{y}\",\"legendgroup\":\"Automatisk registrert\",\"marker\":{\"color\":\"#66CBEC\",\"pattern\":{\"shape\":\"\"}},\"name\":\"Automatisk registrert\",\"offsetgroup\":\"Automatisk registrert\",\"orientation\":\"v\",\"showlegend\":true,\"textposition\":\"auto\",\"x\":[\"2020/04\",\"2020/05\",\"2020/06\",\"2020/07\",\"2020/08\",\"2020/09\",\"2020/10\",\"2020/11\",\"2020/12\",\"2021/01\",\"2021/02\",\"2021/03\",\"2021/04\",\"2021/05\",\"2021/06\",\"2021/07\",\"2021/08\",\"2021/09\",\"2021/10\",\"2021/11\",\"2021/12\",\"2022/01\",\"2022/02\",\"2022/03\",\"2022/04\",\"2022/05\",\"2022/06\",\"2022/07\",\"2022/08\",\"2022/09\"],\"xaxis\":\"x\",\"y\":[3215.0,9248.0,10596.0,6381.0,6514.0,9171.0,8922.0,7850.0,5782.0,4993.0,5722.0,5757.0,4283.0,4267.0,3844.0,3815.0,4253.0,6349.0,5884.0,2366.0,1429.0,9043.0,9692.0,11717.0,10182.0,11576.0,10475.0,6023.0,7813.0,11264.0],\"yaxis\":\"y\",\"type\":\"bar\"},{\"alignmentgroup\":\"True\",\"hovertemplate\":\"<br />\\u00c5r/m\\u00e5ned: %{x}<br />Antall: %{y}\",\"legendgroup\":\"Manuelt registrert\",\"marker\":{\"color\":\"#0067C5\",\"pattern\":{\"shape\":\"\"}},\"name\":\"Manuelt registrert\",\"offsetgroup\":\"Manuelt registrert\",\"orientation\":\"v\",\"showlegend\":true,\"textposition\":\"auto\",\"x\":[\"2020/04\",\"2020/05\",\"2020/06\",\"2020/07\",\"2020/08\",\"2020/09\",\"2020/10\",\"2020/11\",\"2020/12\",\"2021/01\",\"2021/02\",\"2021/03\",\"2021/04\",\"2021/05\",\"2021/06\",\"2021/07\",\"2021/08\",\"2021/09\",\"2021/10\",\"2021/11\",\"2021/12\",\"2022/01\",\"2022/02\",\"2022/03\",\"2022/04\",\"2022/05\",\"2022/06\",\"2022/07\",\"2022/08\",\"2022/09\"],\"xaxis\":\"x\",\"y\":[0.0,0.0,0.0,0.0,0.0,0.0,1241.0,1508.0,12288.0,14765.0,15919.0,17166.0,13987.0,13826.0,17228.0,10367.0,11542.0,16570.0,15564.0,19329.0,18042.0,10160.0,10508.0,9346.0,6000.0,6842.0,6122.0,3945.0,6289.0,6586.0],\"yaxis\":\"y\",\"type\":\"bar\"},{\"marker\":{\"color\":\"#FF9100\"},\"name\":\"Andel papirsykmeldinger av <br>alle mottatte sykmeldinger\",\"x\":[\"2021/01\",\"2021/02\",\"2021/03\",\"2021/04\",\"2021/05\",\"2021/06\",\"2021/07\",\"2021/08\",\"2021/09\",\"2021/10\",\"2021/11\",\"2021/12\",\"2022/01\",\"2022/02\",\"2022/03\",\"2022/04\",\"2022/05\",\"2022/06\",\"2022/07\",\"2022/08\",\"2022/09\"],\"y\":[5.5,6.4,6.0,5.6,5.8,6.7,6.9,5.2,6.2,5.9,4.8,5.2,3.9,4.0,4.4,5.0,5.5,4.8,4.4,4.1,4.9],\"yaxis\":\"y2\",\"type\":\"scatter\"}],                        {\"template\":{\"data\":{\"barpolar\":[{\"marker\":{\"line\":{\"color\":\"white\",\"width\":0.5},\"pattern\":{\"fillmode\":\"overlay\",\"size\":10,\"solidity\":0.2}},\"type\":\"barpolar\"}],\"bar\":[{\"error_x\":{\"color\":\"#2a3f5f\"},\"error_y\":{\"color\":\"#2a3f5f\"},\"marker\":{\"line\":{\"color\":\"white\",\"width\":0.5},\"pattern\":{\"fillmode\":\"overlay\",\"size\":10,\"solidity\":0.2}},\"type\":\"bar\"}],\"carpet\":[{\"aaxis\":{\"endlinecolor\":\"#2a3f5f\",\"gridcolor\":\"#C8D4E3\",\"linecolor\":\"#C8D4E3\",\"minorgridcolor\":\"#C8D4E3\",\"startlinecolor\":\"#2a3f5f\"},\"baxis\":{\"endlinecolor\":\"#2a3f5f\",\"gridcolor\":\"#C8D4E3\",\"linecolor\":\"#C8D4E3\",\"minorgridcolor\":\"#C8D4E3\",\"startlinecolor\":\"#2a3f5f\"},\"type\":\"carpet\"}],\"choropleth\":[{\"colorbar\":{\"outlinewidth\":0,\"ticks\":\"\"},\"type\":\"choropleth\"}],\"contourcarpet\":[{\"colorbar\":{\"outlinewidth\":0,\"ticks\":\"\"},\"type\":\"contourcarpet\"}],\"contour\":[{\"colorbar\":{\"outlinewidth\":0,\"ticks\":\"\"},\"colorscale\":[[0.0,\"#0d0887\"],[0.1111111111111111,\"#46039f\"],[0.2222222222222222,\"#7201a8\"],[0.3333333333333333,\"#9c179e\"],[0.4444444444444444,\"#bd3786\"],[0.5555555555555556,\"#d8576b\"],[0.6666666666666666,\"#ed7953\"],[0.7777777777777778,\"#fb9f3a\"],[0.8888888888888888,\"#fdca26\"],[1.0,\"#f0f921\"]],\"type\":\"contour\"}],\"heatmapgl\":[{\"colorbar\":{\"outlinewidth\":0,\"ticks\":\"\"},\"colorscale\":[[0.0,\"#0d0887\"],[0.1111111111111111,\"#46039f\"],[0.2222222222222222,\"#7201a8\"],[0.3333333333333333,\"#9c179e\"],[0.4444444444444444,\"#bd3786\"],[0.5555555555555556,\"#d8576b\"],[0.6666666666666666,\"#ed7953\"],[0.7777777777777778,\"#fb9f3a\"],[0.8888888888888888,\"#fdca26\"],[1.0,\"#f0f921\"]],\"type\":\"heatmapgl\"}],\"heatmap\":[{\"colorbar\":{\"outlinewidth\":0,\"ticks\":\"\"},\"colorscale\":[[0.0,\"#0d0887\"],[0.1111111111111111,\"#46039f\"],[0.2222222222222222,\"#7201a8\"],[0.3333333333333333,\"#9c179e\"],[0.4444444444444444,\"#bd3786\"],[0.5555555555555556,\"#d8576b\"],[0.6666666666666666,\"#ed7953\"],[0.7777777777777778,\"#fb9f3a\"],[0.8888888888888888,\"#fdca26\"],[1.0,\"#f0f921\"]],\"type\":\"heatmap\"}],\"histogram2dcontour\":[{\"colorbar\":{\"outlinewidth\":0,\"ticks\":\"\"},\"colorscale\":[[0.0,\"#0d0887\"],[0.1111111111111111,\"#46039f\"],[0.2222222222222222,\"#7201a8\"],[0.3333333333333333,\"#9c179e\"],[0.4444444444444444,\"#bd3786\"],[0.5555555555555556,\"#d8576b\"],[0.6666666666666666,\"#ed7953\"],[0.7777777777777778,\"#fb9f3a\"],[0.8888888888888888,\"#fdca26\"],[1.0,\"#f0f921\"]],\"type\":\"histogram2dcontour\"}],\"histogram2d\":[{\"colorbar\":{\"outlinewidth\":0,\"ticks\":\"\"},\"colorscale\":[[0.0,\"#0d0887\"],[0.1111111111111111,\"#46039f\"],[0.2222222222222222,\"#7201a8\"],[0.3333333333333333,\"#9c179e\"],[0.4444444444444444,\"#bd3786\"],[0.5555555555555556,\"#d8576b\"],[0.6666666666666666,\"#ed7953\"],[0.7777777777777778,\"#fb9f3a\"],[0.8888888888888888,\"#fdca26\"],[1.0,\"#f0f921\"]],\"type\":\"histogram2d\"}],\"histogram\":[{\"marker\":{\"pattern\":{\"fillmode\":\"overlay\",\"size\":10,\"solidity\":0.2}},\"type\":\"histogram\"}],\"mesh3d\":[{\"colorbar\":{\"outlinewidth\":0,\"ticks\":\"\"},\"type\":\"mesh3d\"}],\"parcoords\":[{\"line\":{\"colorbar\":{\"outlinewidth\":0,\"ticks\":\"\"}},\"type\":\"parcoords\"}],\"pie\":[{\"automargin\":true,\"type\":\"pie\"}],\"scatter3d\":[{\"line\":{\"colorbar\":{\"outlinewidth\":0,\"ticks\":\"\"}},\"marker\":{\"colorbar\":{\"outlinewidth\":0,\"ticks\":\"\"}},\"type\":\"scatter3d\"}],\"scattercarpet\":[{\"marker\":{\"colorbar\":{\"outlinewidth\":0,\"ticks\":\"\"}},\"type\":\"scattercarpet\"}],\"scattergeo\":[{\"marker\":{\"colorbar\":{\"outlinewidth\":0,\"ticks\":\"\"}},\"type\":\"scattergeo\"}],\"scattergl\":[{\"marker\":{\"colorbar\":{\"outlinewidth\":0,\"ticks\":\"\"}},\"type\":\"scattergl\"}],\"scattermapbox\":[{\"marker\":{\"colorbar\":{\"outlinewidth\":0,\"ticks\":\"\"}},\"type\":\"scattermapbox\"}],\"scatterpolargl\":[{\"marker\":{\"colorbar\":{\"outlinewidth\":0,\"ticks\":\"\"}},\"type\":\"scatterpolargl\"}],\"scatterpolar\":[{\"marker\":{\"colorbar\":{\"outlinewidth\":0,\"ticks\":\"\"}},\"type\":\"scatterpolar\"}],\"scatter\":[{\"fillpattern\":{\"fillmode\":\"overlay\",\"size\":10,\"solidity\":0.2},\"type\":\"scatter\"}],\"scatterternary\":[{\"marker\":{\"colorbar\":{\"outlinewidth\":0,\"ticks\":\"\"}},\"type\":\"scatterternary\"}],\"surface\":[{\"colorbar\":{\"outlinewidth\":0,\"ticks\":\"\"},\"colorscale\":[[0.0,\"#0d0887\"],[0.1111111111111111,\"#46039f\"],[0.2222222222222222,\"#7201a8\"],[0.3333333333333333,\"#9c179e\"],[0.4444444444444444,\"#bd3786\"],[0.5555555555555556,\"#d8576b\"],[0.6666666666666666,\"#ed7953\"],[0.7777777777777778,\"#fb9f3a\"],[0.8888888888888888,\"#fdca26\"],[1.0,\"#f0f921\"]],\"type\":\"surface\"}],\"table\":[{\"cells\":{\"fill\":{\"color\":\"#EBF0F8\"},\"line\":{\"color\":\"white\"}},\"header\":{\"fill\":{\"color\":\"#C8D4E3\"},\"line\":{\"color\":\"white\"}},\"type\":\"table\"}]},\"layout\":{\"annotationdefaults\":{\"arrowcolor\":\"#2a3f5f\",\"arrowhead\":0,\"arrowwidth\":1},\"autotypenumbers\":\"strict\",\"coloraxis\":{\"colorbar\":{\"outlinewidth\":0,\"ticks\":\"\"}},\"colorscale\":{\"diverging\":[[0,\"#8e0152\"],[0.1,\"#c51b7d\"],[0.2,\"#de77ae\"],[0.3,\"#f1b6da\"],[0.4,\"#fde0ef\"],[0.5,\"#f7f7f7\"],[0.6,\"#e6f5d0\"],[0.7,\"#b8e186\"],[0.8,\"#7fbc41\"],[0.9,\"#4d9221\"],[1,\"#276419\"]],\"sequential\":[[0.0,\"#0d0887\"],[0.1111111111111111,\"#46039f\"],[0.2222222222222222,\"#7201a8\"],[0.3333333333333333,\"#9c179e\"],[0.4444444444444444,\"#bd3786\"],[0.5555555555555556,\"#d8576b\"],[0.6666666666666666,\"#ed7953\"],[0.7777777777777778,\"#fb9f3a\"],[0.8888888888888888,\"#fdca26\"],[1.0,\"#f0f921\"]],\"sequentialminus\":[[0.0,\"#0d0887\"],[0.1111111111111111,\"#46039f\"],[0.2222222222222222,\"#7201a8\"],[0.3333333333333333,\"#9c179e\"],[0.4444444444444444,\"#bd3786\"],[0.5555555555555556,\"#d8576b\"],[0.6666666666666666,\"#ed7953\"],[0.7777777777777778,\"#fb9f3a\"],[0.8888888888888888,\"#fdca26\"],[1.0,\"#f0f921\"]]},\"colorway\":[\"#636efa\",\"#EF553B\",\"#00cc96\",\"#ab63fa\",\"#FFA15A\",\"#19d3f3\",\"#FF6692\",\"#B6E880\",\"#FF97FF\",\"#FECB52\"],\"font\":{\"color\":\"#2a3f5f\"},\"geo\":{\"bgcolor\":\"white\",\"lakecolor\":\"white\",\"landcolor\":\"white\",\"showlakes\":true,\"showland\":true,\"subunitcolor\":\"#C8D4E3\"},\"hoverlabel\":{\"align\":\"left\"},\"hovermode\":\"closest\",\"mapbox\":{\"style\":\"light\"},\"paper_bgcolor\":\"white\",\"plot_bgcolor\":\"white\",\"polar\":{\"angularaxis\":{\"gridcolor\":\"#EBF0F8\",\"linecolor\":\"#EBF0F8\",\"ticks\":\"\"},\"bgcolor\":\"white\",\"radialaxis\":{\"gridcolor\":\"#EBF0F8\",\"linecolor\":\"#EBF0F8\",\"ticks\":\"\"}},\"scene\":{\"xaxis\":{\"backgroundcolor\":\"white\",\"gridcolor\":\"#DFE8F3\",\"gridwidth\":2,\"linecolor\":\"#EBF0F8\",\"showbackground\":true,\"ticks\":\"\",\"zerolinecolor\":\"#EBF0F8\"},\"yaxis\":{\"backgroundcolor\":\"white\",\"gridcolor\":\"#DFE8F3\",\"gridwidth\":2,\"linecolor\":\"#EBF0F8\",\"showbackground\":true,\"ticks\":\"\",\"zerolinecolor\":\"#EBF0F8\"},\"zaxis\":{\"backgroundcolor\":\"white\",\"gridcolor\":\"#DFE8F3\",\"gridwidth\":2,\"linecolor\":\"#EBF0F8\",\"showbackground\":true,\"ticks\":\"\",\"zerolinecolor\":\"#EBF0F8\"}},\"shapedefaults\":{\"line\":{\"color\":\"#2a3f5f\"}},\"ternary\":{\"aaxis\":{\"gridcolor\":\"#DFE8F3\",\"linecolor\":\"#A2B1C6\",\"ticks\":\"\"},\"baxis\":{\"gridcolor\":\"#DFE8F3\",\"linecolor\":\"#A2B1C6\",\"ticks\":\"\"},\"bgcolor\":\"white\",\"caxis\":{\"gridcolor\":\"#DFE8F3\",\"linecolor\":\"#A2B1C6\",\"ticks\":\"\"}},\"title\":{\"x\":0.05},\"xaxis\":{\"automargin\":true,\"gridcolor\":\"#EBF0F8\",\"linecolor\":\"#EBF0F8\",\"ticks\":\"\",\"title\":{\"standoff\":15},\"zerolinecolor\":\"#EBF0F8\",\"zerolinewidth\":2},\"yaxis\":{\"automargin\":true,\"gridcolor\":\"#EBF0F8\",\"linecolor\":\"#EBF0F8\",\"ticks\":\"\",\"title\":{\"standoff\":15},\"zerolinecolor\":\"#EBF0F8\",\"zerolinewidth\":2}}},\"xaxis\":{\"anchor\":\"y\",\"domain\":[0.0,1.0],\"title\":{\"text\":\"\"},\"tickmode\":\"array\",\"rangebreaks\":[{\"bounds\":[\"sat\",\"mon\"]},{\"values\":[\"2020-05-01\",\"2020-05-21\",\"2020-06-01\"]}]},\"yaxis\":{\"anchor\":\"x\",\"domain\":[0.0,1.0],\"title\":{\"text\":\"Antall\"},\"tickformat\":\",d\"},\"legend\":{\"title\":{\"text\":\"\"},\"tracegroupgap\":0,\"x\":1.05,\"y\":1.05},\"margin\":{\"t\":60},\"barmode\":\"relative\",\"yaxis2\":{\"range\":[0,100],\"side\":\"right\",\"ticksuffix\":\" %\",\"overlaying\":\"y\",\"title\":{\"text\":\"Andel\"}},\"hoverlabel\":{\"namelength\":-1},\"hovermode\":\"x unified\",\"separators\":\", \",\"annotations\":[{\"align\":\"center\",\"font\":{\"size\":12},\"showarrow\":false,\"text\":\"NB! Dette plottet er ikke offisiell statistikk og m\\u00e5 ikke deles utenfor NAV.\",\"x\":0.5,\"xref\":\"paper\",\"y\":1.12,\"yref\":\"paper\"}]},                        {\"responsive\": true}                    ).then(function(){\n",
       "                            \n",
       "var gd = document.getElementById('0568d5c9-59a1-4651-9dbc-db41c248737e');\n",
       "var x = new MutationObserver(function (mutations, observer) {{\n",
       "        var display = window.getComputedStyle(gd).display;\n",
       "        if (!display || display === 'none') {{\n",
       "            console.log([gd, 'removed!']);\n",
       "            Plotly.purge(gd);\n",
       "            observer.disconnect();\n",
       "        }}\n",
       "}});\n",
       "\n",
       "// Listen for the removal of the full notebook cells\n",
       "var notebookContainer = gd.closest('#notebook-container');\n",
       "if (notebookContainer) {{\n",
       "    x.observe(notebookContainer, {childList: true});\n",
       "}}\n",
       "\n",
       "// Listen for the clearing of the current output cell\n",
       "var outputEl = gd.closest('.output');\n",
       "if (outputEl) {{\n",
       "    x.observe(outputEl, {childList: true});\n",
       "}}\n",
       "\n",
       "                        })                };                });            </script>        </div>"
      ]
     },
     "metadata": {},
     "output_type": "display_data"
    }
   ],
   "source": [
    "fig_papir_begge = px.bar(\n",
    "    df_papir_tot_mnd, \n",
    "    x='mnd', \n",
    "    y='antall', \n",
    "    color='reg',\n",
    "    labels={'antall': '', \n",
    "            'mnd' : '', \n",
    "            'reg' : ''},\n",
    "    color_discrete_sequence = nav_kategorisk\n",
    ")\n",
    "\n",
    "                         \n",
    "\n",
    "\n",
    "fig_papir_begge['data'][0]['hovertemplate'] = '<br />År/måned: %{x}<br />Antall: %{y}'\n",
    "fig_papir_begge['data'][1]['hovertemplate'] = '<br />År/måned: %{x}<br />Antall: %{y}'\n",
    "\n",
    "fig_papir_begge.update_xaxes(\n",
    "    tickmode='array',  \n",
    "    rangebreaks=[dict(bounds=['sat', 'mon']), \n",
    "                 dict(values=[\"2020-05-01\", '2020-05-21', '2020-06-01'])]\n",
    ")\n",
    "\n",
    "fig_papir_begge.add_trace(\n",
    "    go.Scatter(\n",
    "        x=df_andel_papir_mnd['mnd'], \n",
    "        y=df_andel_papir_mnd['andel'], \n",
    "        yaxis=\"y2\", \n",
    "        name='Andel papirsykmeldinger av <br>alle mottatte sykmeldinger', \n",
    "        marker_color='#FF9100'\n",
    "    )\n",
    ")\n",
    "\n",
    "fig_papir_begge = fig_papir_begge.update_layout(\n",
    "    yaxis2={\n",
    "        'range': [0, 100],\n",
    "        'side': 'right',\n",
    "        'ticksuffix': ' %',\n",
    "        'overlaying': 'y'\n",
    "    },\n",
    "    yaxis_title='Antall',\n",
    "    yaxis2_title='Andel',\n",
    "    legend={\n",
    "        'x': 1.05,\n",
    "        'y': 1.05\n",
    "    },\n",
    "    hovermode='x unified',\n",
    "    hoverlabel={'namelength': -1},\n",
    "    template=\"plotly_white\",\n",
    "    yaxis=dict(tickformat=',d'), \n",
    "    separators=', '\n",
    ")\n",
    "\n",
    "fig_papir_begge.add_annotation(\n",
    "    text = annotation_text,\n",
    "    showarrow= False, \n",
    "    align= 'center',\n",
    "    x= 0.5,\n",
    "    y= 1.12,\n",
    "    font={'size':12},\n",
    "    xref= 'paper',\n",
    "    yref= 'paper',\n",
    ")"
   ]
  },
  {
   "cell_type": "code",
   "execution_count": 255,
   "id": "e07663e9-1026-4f50-9445-3bcbbe93cb93",
   "metadata": {},
   "outputs": [],
   "source": [
    "################################################\n",
    "#### Finner antall sykmeldte personer i dag ####\n",
    "################################################\n",
    "i_dag = dt.date.today().strftime('%Y-%m-%d')\n",
    "\n",
    "query_job = client.query(f\"\"\"\n",
    "select count( distinct so.pasient_fnr) antall\n",
    "from `teamsykmelding-prod-2acd.syfosmregister.sykmeldingsdokument` sd, \n",
    "`teamsykmelding-prod-2acd.syfosmregister.sykmeldingsopplysninger` so, \n",
    "`teamsykmelding-prod-2acd.syfosmregister.sykmeldingstatus` ss\n",
    "where so.id = sd.id\n",
    "    and so.id = ss.sykmelding_id\n",
    "    and CAST(JSON_EXTRACT_SCALAR(JSON_EXTRACT(sd.sykmelding, '$.perioder[0]'), \"$.tom\") AS DATE) <= CAST('{i_dag}' AS DATE)\n",
    "    and CAST(JSON_EXTRACT_SCALAR(JSON_EXTRACT(sd.sykmelding, '$.perioder[0]'), \"$.fom\") AS DATE) >= CAST('{i_dag}' AS DATE) \n",
    "    and (ss.event = 'SENDT' or ss.event = 'BEKREFTET')\n",
    "    \n",
    "\"\"\")\n",
    "\n",
    "df_personer = query_job.result().to_dataframe()\n",
    "\n",
    "antall_sykmeldte_personer_idag = df_personer['antall'].sum()"
   ]
  },
  {
   "cell_type": "code",
   "execution_count": 256,
   "id": "eeb19951-4d94-4ccf-a6fb-17d800b56499",
   "metadata": {},
   "outputs": [],
   "source": [
    "#### Totalt sykmeldinger per år ####\n",
    "\n",
    "df_ant = df_total.copy()\n",
    "df_ant['År'] = df_ant['mottatt_tidspunkt'].dt.strftime('%Y')\n",
    "df_ant['Uke+dag'] = df_ant['mottatt_tidspunkt'].dt.strftime('%V / %a')\n",
    "df_ant['uke+dag_num'] = df_ant['mottatt_tidspunkt'].dt.strftime('%V / %u') \n",
    "\n",
    "\n",
    "### Setter en max uke/dag, slik at vi kun teller med samme periode for alle årene ### \n",
    "max_tid = dt.datetime.now().date().strftime('%V') + ' / ' + dt.datetime.now().strftime('%u') \n",
    "\n",
    "dagens_år = dt.date.today().strftime('%Y')\n",
    "### Tar kun med de som er mindre enn maks uke/dag ###\n",
    "df_ant = df_ant[(df_ant['uke+dag_num'] <= max_tid) | (df_ant['År'] == dagens_år)]\n",
    "\n",
    "### Grupperer etter år ###\n",
    "df_ant_aar = df_ant.copy()\n",
    "df_ant_aar = df_ant_aar.groupby(['År']).sum().reset_index()"
   ]
  },
  {
   "cell_type": "code",
   "execution_count": 257,
   "id": "f5fcd204-6cb8-4f4c-97e2-83f0b0d14574",
   "metadata": {},
   "outputs": [],
   "source": [
    "dagens_dato =  dt.date.today().strftime('%d/%m %Y')"
   ]
  },
  {
   "cell_type": "code",
   "execution_count": 258,
   "id": "5f20fca1-cabd-430e-a0d6-1d2f3daaff8d",
   "metadata": {},
   "outputs": [
    {
     "data": {
      "application/vnd.plotly.v1+json": {
       "config": {
        "plotlyServerURL": "https://plot.ly"
       },
       "data": [
        {
         "domain": {
          "column": 0,
          "row": 0
         },
         "mode": "number",
         "number": {
          "font": {
           "size": 90
          },
          "valueformat": ",d"
         },
         "title": {
          "text": "Antall sykmeldinger mottatt hittil i år"
         },
         "type": "indicator",
         "value": 3847616
        },
        {
         "domain": {
          "column": 0,
          "row": 1
         },
         "mode": "number",
         "number": {
          "valueformat": ",g"
         },
         "title": {
          "text": "Antall personer som er <br> sykmeldt i dag"
         },
         "type": "indicator",
         "value": 39
        }
       ],
       "layout": {
        "annotations": [
         {
          "align": "center",
          "font": {
           "size": 12
          },
          "showarrow": false,
          "text": "NB! Dette plottet er ikke offisiell statistikk og må ikke deles utenfor NAV.",
          "x": 0.5,
          "xref": "paper",
          "y": 1.1,
          "yref": "paper"
         }
        ],
        "autosize": true,
        "grid": {
         "columns": 1,
         "pattern": "independent",
         "rows": 2
        },
        "paper_bgcolor": "#CCE1F3",
        "separators": ", ",
        "template": {
         "data": {
          "bar": [
           {
            "error_x": {
             "color": "#2a3f5f"
            },
            "error_y": {
             "color": "#2a3f5f"
            },
            "marker": {
             "line": {
              "color": "#E5ECF6",
              "width": 0.5
             },
             "pattern": {
              "fillmode": "overlay",
              "size": 10,
              "solidity": 0.2
             }
            },
            "type": "bar"
           }
          ],
          "barpolar": [
           {
            "marker": {
             "line": {
              "color": "#E5ECF6",
              "width": 0.5
             },
             "pattern": {
              "fillmode": "overlay",
              "size": 10,
              "solidity": 0.2
             }
            },
            "type": "barpolar"
           }
          ],
          "carpet": [
           {
            "aaxis": {
             "endlinecolor": "#2a3f5f",
             "gridcolor": "white",
             "linecolor": "white",
             "minorgridcolor": "white",
             "startlinecolor": "#2a3f5f"
            },
            "baxis": {
             "endlinecolor": "#2a3f5f",
             "gridcolor": "white",
             "linecolor": "white",
             "minorgridcolor": "white",
             "startlinecolor": "#2a3f5f"
            },
            "type": "carpet"
           }
          ],
          "choropleth": [
           {
            "colorbar": {
             "outlinewidth": 0,
             "ticks": ""
            },
            "type": "choropleth"
           }
          ],
          "contour": [
           {
            "colorbar": {
             "outlinewidth": 0,
             "ticks": ""
            },
            "colorscale": [
             [
              0,
              "#0d0887"
             ],
             [
              0.1111111111111111,
              "#46039f"
             ],
             [
              0.2222222222222222,
              "#7201a8"
             ],
             [
              0.3333333333333333,
              "#9c179e"
             ],
             [
              0.4444444444444444,
              "#bd3786"
             ],
             [
              0.5555555555555556,
              "#d8576b"
             ],
             [
              0.6666666666666666,
              "#ed7953"
             ],
             [
              0.7777777777777778,
              "#fb9f3a"
             ],
             [
              0.8888888888888888,
              "#fdca26"
             ],
             [
              1,
              "#f0f921"
             ]
            ],
            "type": "contour"
           }
          ],
          "contourcarpet": [
           {
            "colorbar": {
             "outlinewidth": 0,
             "ticks": ""
            },
            "type": "contourcarpet"
           }
          ],
          "heatmap": [
           {
            "colorbar": {
             "outlinewidth": 0,
             "ticks": ""
            },
            "colorscale": [
             [
              0,
              "#0d0887"
             ],
             [
              0.1111111111111111,
              "#46039f"
             ],
             [
              0.2222222222222222,
              "#7201a8"
             ],
             [
              0.3333333333333333,
              "#9c179e"
             ],
             [
              0.4444444444444444,
              "#bd3786"
             ],
             [
              0.5555555555555556,
              "#d8576b"
             ],
             [
              0.6666666666666666,
              "#ed7953"
             ],
             [
              0.7777777777777778,
              "#fb9f3a"
             ],
             [
              0.8888888888888888,
              "#fdca26"
             ],
             [
              1,
              "#f0f921"
             ]
            ],
            "type": "heatmap"
           }
          ],
          "heatmapgl": [
           {
            "colorbar": {
             "outlinewidth": 0,
             "ticks": ""
            },
            "colorscale": [
             [
              0,
              "#0d0887"
             ],
             [
              0.1111111111111111,
              "#46039f"
             ],
             [
              0.2222222222222222,
              "#7201a8"
             ],
             [
              0.3333333333333333,
              "#9c179e"
             ],
             [
              0.4444444444444444,
              "#bd3786"
             ],
             [
              0.5555555555555556,
              "#d8576b"
             ],
             [
              0.6666666666666666,
              "#ed7953"
             ],
             [
              0.7777777777777778,
              "#fb9f3a"
             ],
             [
              0.8888888888888888,
              "#fdca26"
             ],
             [
              1,
              "#f0f921"
             ]
            ],
            "type": "heatmapgl"
           }
          ],
          "histogram": [
           {
            "marker": {
             "pattern": {
              "fillmode": "overlay",
              "size": 10,
              "solidity": 0.2
             }
            },
            "type": "histogram"
           }
          ],
          "histogram2d": [
           {
            "colorbar": {
             "outlinewidth": 0,
             "ticks": ""
            },
            "colorscale": [
             [
              0,
              "#0d0887"
             ],
             [
              0.1111111111111111,
              "#46039f"
             ],
             [
              0.2222222222222222,
              "#7201a8"
             ],
             [
              0.3333333333333333,
              "#9c179e"
             ],
             [
              0.4444444444444444,
              "#bd3786"
             ],
             [
              0.5555555555555556,
              "#d8576b"
             ],
             [
              0.6666666666666666,
              "#ed7953"
             ],
             [
              0.7777777777777778,
              "#fb9f3a"
             ],
             [
              0.8888888888888888,
              "#fdca26"
             ],
             [
              1,
              "#f0f921"
             ]
            ],
            "type": "histogram2d"
           }
          ],
          "histogram2dcontour": [
           {
            "colorbar": {
             "outlinewidth": 0,
             "ticks": ""
            },
            "colorscale": [
             [
              0,
              "#0d0887"
             ],
             [
              0.1111111111111111,
              "#46039f"
             ],
             [
              0.2222222222222222,
              "#7201a8"
             ],
             [
              0.3333333333333333,
              "#9c179e"
             ],
             [
              0.4444444444444444,
              "#bd3786"
             ],
             [
              0.5555555555555556,
              "#d8576b"
             ],
             [
              0.6666666666666666,
              "#ed7953"
             ],
             [
              0.7777777777777778,
              "#fb9f3a"
             ],
             [
              0.8888888888888888,
              "#fdca26"
             ],
             [
              1,
              "#f0f921"
             ]
            ],
            "type": "histogram2dcontour"
           }
          ],
          "mesh3d": [
           {
            "colorbar": {
             "outlinewidth": 0,
             "ticks": ""
            },
            "type": "mesh3d"
           }
          ],
          "parcoords": [
           {
            "line": {
             "colorbar": {
              "outlinewidth": 0,
              "ticks": ""
             }
            },
            "type": "parcoords"
           }
          ],
          "pie": [
           {
            "automargin": true,
            "type": "pie"
           }
          ],
          "scatter": [
           {
            "fillpattern": {
             "fillmode": "overlay",
             "size": 10,
             "solidity": 0.2
            },
            "type": "scatter"
           }
          ],
          "scatter3d": [
           {
            "line": {
             "colorbar": {
              "outlinewidth": 0,
              "ticks": ""
             }
            },
            "marker": {
             "colorbar": {
              "outlinewidth": 0,
              "ticks": ""
             }
            },
            "type": "scatter3d"
           }
          ],
          "scattercarpet": [
           {
            "marker": {
             "colorbar": {
              "outlinewidth": 0,
              "ticks": ""
             }
            },
            "type": "scattercarpet"
           }
          ],
          "scattergeo": [
           {
            "marker": {
             "colorbar": {
              "outlinewidth": 0,
              "ticks": ""
             }
            },
            "type": "scattergeo"
           }
          ],
          "scattergl": [
           {
            "marker": {
             "colorbar": {
              "outlinewidth": 0,
              "ticks": ""
             }
            },
            "type": "scattergl"
           }
          ],
          "scattermapbox": [
           {
            "marker": {
             "colorbar": {
              "outlinewidth": 0,
              "ticks": ""
             }
            },
            "type": "scattermapbox"
           }
          ],
          "scatterpolar": [
           {
            "marker": {
             "colorbar": {
              "outlinewidth": 0,
              "ticks": ""
             }
            },
            "type": "scatterpolar"
           }
          ],
          "scatterpolargl": [
           {
            "marker": {
             "colorbar": {
              "outlinewidth": 0,
              "ticks": ""
             }
            },
            "type": "scatterpolargl"
           }
          ],
          "scatterternary": [
           {
            "marker": {
             "colorbar": {
              "outlinewidth": 0,
              "ticks": ""
             }
            },
            "type": "scatterternary"
           }
          ],
          "surface": [
           {
            "colorbar": {
             "outlinewidth": 0,
             "ticks": ""
            },
            "colorscale": [
             [
              0,
              "#0d0887"
             ],
             [
              0.1111111111111111,
              "#46039f"
             ],
             [
              0.2222222222222222,
              "#7201a8"
             ],
             [
              0.3333333333333333,
              "#9c179e"
             ],
             [
              0.4444444444444444,
              "#bd3786"
             ],
             [
              0.5555555555555556,
              "#d8576b"
             ],
             [
              0.6666666666666666,
              "#ed7953"
             ],
             [
              0.7777777777777778,
              "#fb9f3a"
             ],
             [
              0.8888888888888888,
              "#fdca26"
             ],
             [
              1,
              "#f0f921"
             ]
            ],
            "type": "surface"
           }
          ],
          "table": [
           {
            "cells": {
             "fill": {
              "color": "#EBF0F8"
             },
             "line": {
              "color": "white"
             }
            },
            "header": {
             "fill": {
              "color": "#C8D4E3"
             },
             "line": {
              "color": "white"
             }
            },
            "type": "table"
           }
          ]
         },
         "layout": {
          "annotationdefaults": {
           "arrowcolor": "#2a3f5f",
           "arrowhead": 0,
           "arrowwidth": 1
          },
          "autotypenumbers": "strict",
          "coloraxis": {
           "colorbar": {
            "outlinewidth": 0,
            "ticks": ""
           }
          },
          "colorscale": {
           "diverging": [
            [
             0,
             "#8e0152"
            ],
            [
             0.1,
             "#c51b7d"
            ],
            [
             0.2,
             "#de77ae"
            ],
            [
             0.3,
             "#f1b6da"
            ],
            [
             0.4,
             "#fde0ef"
            ],
            [
             0.5,
             "#f7f7f7"
            ],
            [
             0.6,
             "#e6f5d0"
            ],
            [
             0.7,
             "#b8e186"
            ],
            [
             0.8,
             "#7fbc41"
            ],
            [
             0.9,
             "#4d9221"
            ],
            [
             1,
             "#276419"
            ]
           ],
           "sequential": [
            [
             0,
             "#0d0887"
            ],
            [
             0.1111111111111111,
             "#46039f"
            ],
            [
             0.2222222222222222,
             "#7201a8"
            ],
            [
             0.3333333333333333,
             "#9c179e"
            ],
            [
             0.4444444444444444,
             "#bd3786"
            ],
            [
             0.5555555555555556,
             "#d8576b"
            ],
            [
             0.6666666666666666,
             "#ed7953"
            ],
            [
             0.7777777777777778,
             "#fb9f3a"
            ],
            [
             0.8888888888888888,
             "#fdca26"
            ],
            [
             1,
             "#f0f921"
            ]
           ],
           "sequentialminus": [
            [
             0,
             "#0d0887"
            ],
            [
             0.1111111111111111,
             "#46039f"
            ],
            [
             0.2222222222222222,
             "#7201a8"
            ],
            [
             0.3333333333333333,
             "#9c179e"
            ],
            [
             0.4444444444444444,
             "#bd3786"
            ],
            [
             0.5555555555555556,
             "#d8576b"
            ],
            [
             0.6666666666666666,
             "#ed7953"
            ],
            [
             0.7777777777777778,
             "#fb9f3a"
            ],
            [
             0.8888888888888888,
             "#fdca26"
            ],
            [
             1,
             "#f0f921"
            ]
           ]
          },
          "colorway": [
           "#636efa",
           "#EF553B",
           "#00cc96",
           "#ab63fa",
           "#FFA15A",
           "#19d3f3",
           "#FF6692",
           "#B6E880",
           "#FF97FF",
           "#FECB52"
          ],
          "font": {
           "color": "#2a3f5f"
          },
          "geo": {
           "bgcolor": "white",
           "lakecolor": "white",
           "landcolor": "#E5ECF6",
           "showlakes": true,
           "showland": true,
           "subunitcolor": "white"
          },
          "hoverlabel": {
           "align": "left"
          },
          "hovermode": "closest",
          "mapbox": {
           "style": "light"
          },
          "paper_bgcolor": "white",
          "plot_bgcolor": "#E5ECF6",
          "polar": {
           "angularaxis": {
            "gridcolor": "white",
            "linecolor": "white",
            "ticks": ""
           },
           "bgcolor": "#E5ECF6",
           "radialaxis": {
            "gridcolor": "white",
            "linecolor": "white",
            "ticks": ""
           }
          },
          "scene": {
           "xaxis": {
            "backgroundcolor": "#E5ECF6",
            "gridcolor": "white",
            "gridwidth": 2,
            "linecolor": "white",
            "showbackground": true,
            "ticks": "",
            "zerolinecolor": "white"
           },
           "yaxis": {
            "backgroundcolor": "#E5ECF6",
            "gridcolor": "white",
            "gridwidth": 2,
            "linecolor": "white",
            "showbackground": true,
            "ticks": "",
            "zerolinecolor": "white"
           },
           "zaxis": {
            "backgroundcolor": "#E5ECF6",
            "gridcolor": "white",
            "gridwidth": 2,
            "linecolor": "white",
            "showbackground": true,
            "ticks": "",
            "zerolinecolor": "white"
           }
          },
          "shapedefaults": {
           "line": {
            "color": "#2a3f5f"
           }
          },
          "ternary": {
           "aaxis": {
            "gridcolor": "white",
            "linecolor": "white",
            "ticks": ""
           },
           "baxis": {
            "gridcolor": "white",
            "linecolor": "white",
            "ticks": ""
           },
           "bgcolor": "#E5ECF6",
           "caxis": {
            "gridcolor": "white",
            "linecolor": "white",
            "ticks": ""
           }
          },
          "title": {
           "x": 0.05
          },
          "xaxis": {
           "automargin": true,
           "gridcolor": "white",
           "linecolor": "white",
           "ticks": "",
           "title": {
            "standoff": 15
           },
           "zerolinecolor": "white",
           "zerolinewidth": 2
          },
          "yaxis": {
           "automargin": true,
           "gridcolor": "white",
           "linecolor": "white",
           "ticks": "",
           "title": {
            "standoff": 15
           },
           "zerolinecolor": "white",
           "zerolinewidth": 2
          }
         }
        }
       }
      },
      "image/png": "[encoded data removed]",
      "text/html": [
       "<div>                            <div id=\"bb7fd218-5784-4d97-96cc-1a4c951e0bbe\" class=\"plotly-graph-div\" style=\"height:600px; width:100%;\"></div>            <script type=\"text/javascript\">                require([\"plotly\"], function(Plotly) {                    window.PLOTLYENV=window.PLOTLYENV || {};                                    if (document.getElementById(\"bb7fd218-5784-4d97-96cc-1a4c951e0bbe\")) {                    Plotly.newPlot(                        \"bb7fd218-5784-4d97-96cc-1a4c951e0bbe\",                        [{\"domain\":{\"column\":0,\"row\":0},\"mode\":\"number\",\"number\":{\"font\":{\"size\":90},\"valueformat\":\",d\"},\"title\":{\"text\":\"Antall sykmeldinger mottatt hittil i \\u00e5r\"},\"value\":3847616,\"type\":\"indicator\"},{\"domain\":{\"column\":0,\"row\":1},\"mode\":\"number\",\"number\":{\"valueformat\":\",g\"},\"title\":{\"text\":\"Antall personer som er <br> sykmeldt i dag\"},\"value\":39,\"type\":\"indicator\"}],                        {\"template\":{\"data\":{\"histogram2dcontour\":[{\"type\":\"histogram2dcontour\",\"colorbar\":{\"outlinewidth\":0,\"ticks\":\"\"},\"colorscale\":[[0.0,\"#0d0887\"],[0.1111111111111111,\"#46039f\"],[0.2222222222222222,\"#7201a8\"],[0.3333333333333333,\"#9c179e\"],[0.4444444444444444,\"#bd3786\"],[0.5555555555555556,\"#d8576b\"],[0.6666666666666666,\"#ed7953\"],[0.7777777777777778,\"#fb9f3a\"],[0.8888888888888888,\"#fdca26\"],[1.0,\"#f0f921\"]]}],\"choropleth\":[{\"type\":\"choropleth\",\"colorbar\":{\"outlinewidth\":0,\"ticks\":\"\"}}],\"histogram2d\":[{\"type\":\"histogram2d\",\"colorbar\":{\"outlinewidth\":0,\"ticks\":\"\"},\"colorscale\":[[0.0,\"#0d0887\"],[0.1111111111111111,\"#46039f\"],[0.2222222222222222,\"#7201a8\"],[0.3333333333333333,\"#9c179e\"],[0.4444444444444444,\"#bd3786\"],[0.5555555555555556,\"#d8576b\"],[0.6666666666666666,\"#ed7953\"],[0.7777777777777778,\"#fb9f3a\"],[0.8888888888888888,\"#fdca26\"],[1.0,\"#f0f921\"]]}],\"heatmap\":[{\"type\":\"heatmap\",\"colorbar\":{\"outlinewidth\":0,\"ticks\":\"\"},\"colorscale\":[[0.0,\"#0d0887\"],[0.1111111111111111,\"#46039f\"],[0.2222222222222222,\"#7201a8\"],[0.3333333333333333,\"#9c179e\"],[0.4444444444444444,\"#bd3786\"],[0.5555555555555556,\"#d8576b\"],[0.6666666666666666,\"#ed7953\"],[0.7777777777777778,\"#fb9f3a\"],[0.8888888888888888,\"#fdca26\"],[1.0,\"#f0f921\"]]}],\"heatmapgl\":[{\"type\":\"heatmapgl\",\"colorbar\":{\"outlinewidth\":0,\"ticks\":\"\"},\"colorscale\":[[0.0,\"#0d0887\"],[0.1111111111111111,\"#46039f\"],[0.2222222222222222,\"#7201a8\"],[0.3333333333333333,\"#9c179e\"],[0.4444444444444444,\"#bd3786\"],[0.5555555555555556,\"#d8576b\"],[0.6666666666666666,\"#ed7953\"],[0.7777777777777778,\"#fb9f3a\"],[0.8888888888888888,\"#fdca26\"],[1.0,\"#f0f921\"]]}],\"contourcarpet\":[{\"type\":\"contourcarpet\",\"colorbar\":{\"outlinewidth\":0,\"ticks\":\"\"}}],\"contour\":[{\"type\":\"contour\",\"colorbar\":{\"outlinewidth\":0,\"ticks\":\"\"},\"colorscale\":[[0.0,\"#0d0887\"],[0.1111111111111111,\"#46039f\"],[0.2222222222222222,\"#7201a8\"],[0.3333333333333333,\"#9c179e\"],[0.4444444444444444,\"#bd3786\"],[0.5555555555555556,\"#d8576b\"],[0.6666666666666666,\"#ed7953\"],[0.7777777777777778,\"#fb9f3a\"],[0.8888888888888888,\"#fdca26\"],[1.0,\"#f0f921\"]]}],\"surface\":[{\"type\":\"surface\",\"colorbar\":{\"outlinewidth\":0,\"ticks\":\"\"},\"colorscale\":[[0.0,\"#0d0887\"],[0.1111111111111111,\"#46039f\"],[0.2222222222222222,\"#7201a8\"],[0.3333333333333333,\"#9c179e\"],[0.4444444444444444,\"#bd3786\"],[0.5555555555555556,\"#d8576b\"],[0.6666666666666666,\"#ed7953\"],[0.7777777777777778,\"#fb9f3a\"],[0.8888888888888888,\"#fdca26\"],[1.0,\"#f0f921\"]]}],\"mesh3d\":[{\"type\":\"mesh3d\",\"colorbar\":{\"outlinewidth\":0,\"ticks\":\"\"}}],\"scatter\":[{\"fillpattern\":{\"fillmode\":\"overlay\",\"size\":10,\"solidity\":0.2},\"type\":\"scatter\"}],\"parcoords\":[{\"type\":\"parcoords\",\"line\":{\"colorbar\":{\"outlinewidth\":0,\"ticks\":\"\"}}}],\"scatterpolargl\":[{\"type\":\"scatterpolargl\",\"marker\":{\"colorbar\":{\"outlinewidth\":0,\"ticks\":\"\"}}}],\"bar\":[{\"error_x\":{\"color\":\"#2a3f5f\"},\"error_y\":{\"color\":\"#2a3f5f\"},\"marker\":{\"line\":{\"color\":\"#E5ECF6\",\"width\":0.5},\"pattern\":{\"fillmode\":\"overlay\",\"size\":10,\"solidity\":0.2}},\"type\":\"bar\"}],\"scattergeo\":[{\"type\":\"scattergeo\",\"marker\":{\"colorbar\":{\"outlinewidth\":0,\"ticks\":\"\"}}}],\"scatterpolar\":[{\"type\":\"scatterpolar\",\"marker\":{\"colorbar\":{\"outlinewidth\":0,\"ticks\":\"\"}}}],\"histogram\":[{\"marker\":{\"pattern\":{\"fillmode\":\"overlay\",\"size\":10,\"solidity\":0.2}},\"type\":\"histogram\"}],\"scattergl\":[{\"type\":\"scattergl\",\"marker\":{\"colorbar\":{\"outlinewidth\":0,\"ticks\":\"\"}}}],\"scatter3d\":[{\"type\":\"scatter3d\",\"line\":{\"colorbar\":{\"outlinewidth\":0,\"ticks\":\"\"}},\"marker\":{\"colorbar\":{\"outlinewidth\":0,\"ticks\":\"\"}}}],\"scattermapbox\":[{\"type\":\"scattermapbox\",\"marker\":{\"colorbar\":{\"outlinewidth\":0,\"ticks\":\"\"}}}],\"scatterternary\":[{\"type\":\"scatterternary\",\"marker\":{\"colorbar\":{\"outlinewidth\":0,\"ticks\":\"\"}}}],\"scattercarpet\":[{\"type\":\"scattercarpet\",\"marker\":{\"colorbar\":{\"outlinewidth\":0,\"ticks\":\"\"}}}],\"carpet\":[{\"aaxis\":{\"endlinecolor\":\"#2a3f5f\",\"gridcolor\":\"white\",\"linecolor\":\"white\",\"minorgridcolor\":\"white\",\"startlinecolor\":\"#2a3f5f\"},\"baxis\":{\"endlinecolor\":\"#2a3f5f\",\"gridcolor\":\"white\",\"linecolor\":\"white\",\"minorgridcolor\":\"white\",\"startlinecolor\":\"#2a3f5f\"},\"type\":\"carpet\"}],\"table\":[{\"cells\":{\"fill\":{\"color\":\"#EBF0F8\"},\"line\":{\"color\":\"white\"}},\"header\":{\"fill\":{\"color\":\"#C8D4E3\"},\"line\":{\"color\":\"white\"}},\"type\":\"table\"}],\"barpolar\":[{\"marker\":{\"line\":{\"color\":\"#E5ECF6\",\"width\":0.5},\"pattern\":{\"fillmode\":\"overlay\",\"size\":10,\"solidity\":0.2}},\"type\":\"barpolar\"}],\"pie\":[{\"automargin\":true,\"type\":\"pie\"}]},\"layout\":{\"autotypenumbers\":\"strict\",\"colorway\":[\"#636efa\",\"#EF553B\",\"#00cc96\",\"#ab63fa\",\"#FFA15A\",\"#19d3f3\",\"#FF6692\",\"#B6E880\",\"#FF97FF\",\"#FECB52\"],\"font\":{\"color\":\"#2a3f5f\"},\"hovermode\":\"closest\",\"hoverlabel\":{\"align\":\"left\"},\"paper_bgcolor\":\"white\",\"plot_bgcolor\":\"#E5ECF6\",\"polar\":{\"bgcolor\":\"#E5ECF6\",\"angularaxis\":{\"gridcolor\":\"white\",\"linecolor\":\"white\",\"ticks\":\"\"},\"radialaxis\":{\"gridcolor\":\"white\",\"linecolor\":\"white\",\"ticks\":\"\"}},\"ternary\":{\"bgcolor\":\"#E5ECF6\",\"aaxis\":{\"gridcolor\":\"white\",\"linecolor\":\"white\",\"ticks\":\"\"},\"baxis\":{\"gridcolor\":\"white\",\"linecolor\":\"white\",\"ticks\":\"\"},\"caxis\":{\"gridcolor\":\"white\",\"linecolor\":\"white\",\"ticks\":\"\"}},\"coloraxis\":{\"colorbar\":{\"outlinewidth\":0,\"ticks\":\"\"}},\"colorscale\":{\"sequential\":[[0.0,\"#0d0887\"],[0.1111111111111111,\"#46039f\"],[0.2222222222222222,\"#7201a8\"],[0.3333333333333333,\"#9c179e\"],[0.4444444444444444,\"#bd3786\"],[0.5555555555555556,\"#d8576b\"],[0.6666666666666666,\"#ed7953\"],[0.7777777777777778,\"#fb9f3a\"],[0.8888888888888888,\"#fdca26\"],[1.0,\"#f0f921\"]],\"sequentialminus\":[[0.0,\"#0d0887\"],[0.1111111111111111,\"#46039f\"],[0.2222222222222222,\"#7201a8\"],[0.3333333333333333,\"#9c179e\"],[0.4444444444444444,\"#bd3786\"],[0.5555555555555556,\"#d8576b\"],[0.6666666666666666,\"#ed7953\"],[0.7777777777777778,\"#fb9f3a\"],[0.8888888888888888,\"#fdca26\"],[1.0,\"#f0f921\"]],\"diverging\":[[0,\"#8e0152\"],[0.1,\"#c51b7d\"],[0.2,\"#de77ae\"],[0.3,\"#f1b6da\"],[0.4,\"#fde0ef\"],[0.5,\"#f7f7f7\"],[0.6,\"#e6f5d0\"],[0.7,\"#b8e186\"],[0.8,\"#7fbc41\"],[0.9,\"#4d9221\"],[1,\"#276419\"]]},\"xaxis\":{\"gridcolor\":\"white\",\"linecolor\":\"white\",\"ticks\":\"\",\"title\":{\"standoff\":15},\"zerolinecolor\":\"white\",\"automargin\":true,\"zerolinewidth\":2},\"yaxis\":{\"gridcolor\":\"white\",\"linecolor\":\"white\",\"ticks\":\"\",\"title\":{\"standoff\":15},\"zerolinecolor\":\"white\",\"automargin\":true,\"zerolinewidth\":2},\"scene\":{\"xaxis\":{\"backgroundcolor\":\"#E5ECF6\",\"gridcolor\":\"white\",\"linecolor\":\"white\",\"showbackground\":true,\"ticks\":\"\",\"zerolinecolor\":\"white\",\"gridwidth\":2},\"yaxis\":{\"backgroundcolor\":\"#E5ECF6\",\"gridcolor\":\"white\",\"linecolor\":\"white\",\"showbackground\":true,\"ticks\":\"\",\"zerolinecolor\":\"white\",\"gridwidth\":2},\"zaxis\":{\"backgroundcolor\":\"#E5ECF6\",\"gridcolor\":\"white\",\"linecolor\":\"white\",\"showbackground\":true,\"ticks\":\"\",\"zerolinecolor\":\"white\",\"gridwidth\":2}},\"shapedefaults\":{\"line\":{\"color\":\"#2a3f5f\"}},\"annotationdefaults\":{\"arrowcolor\":\"#2a3f5f\",\"arrowhead\":0,\"arrowwidth\":1},\"geo\":{\"bgcolor\":\"white\",\"landcolor\":\"#E5ECF6\",\"subunitcolor\":\"white\",\"showland\":true,\"showlakes\":true,\"lakecolor\":\"white\"},\"title\":{\"x\":0.05},\"mapbox\":{\"style\":\"light\"}}},\"annotations\":[{\"align\":\"center\",\"font\":{\"size\":12},\"showarrow\":false,\"text\":\"NB! Dette plottet er ikke offisiell statistikk og m\\u00e5 ikke deles utenfor NAV.\",\"x\":0.5,\"xref\":\"paper\",\"y\":1.1,\"yref\":\"paper\"}],\"grid\":{\"rows\":2,\"columns\":1,\"pattern\":\"independent\"},\"autosize\":true,\"separators\":\", \",\"paper_bgcolor\":\"#CCE1F3\",\"height\":600},                        {\"responsive\": true}                    ).then(function(){\n",
       "                            \n",
       "var gd = document.getElementById('bb7fd218-5784-4d97-96cc-1a4c951e0bbe');\n",
       "var x = new MutationObserver(function (mutations, observer) {{\n",
       "        var display = window.getComputedStyle(gd).display;\n",
       "        if (!display || display === 'none') {{\n",
       "            console.log([gd, 'removed!']);\n",
       "            Plotly.purge(gd);\n",
       "            observer.disconnect();\n",
       "        }}\n",
       "}});\n",
       "\n",
       "// Listen for the removal of the full notebook cells\n",
       "var notebookContainer = gd.closest('#notebook-container');\n",
       "if (notebookContainer) {{\n",
       "    x.observe(notebookContainer, {childList: true});\n",
       "}}\n",
       "\n",
       "// Listen for the clearing of the current output cell\n",
       "var outputEl = gd.closest('.output');\n",
       "if (outputEl) {{\n",
       "    x.observe(outputEl, {childList: true});\n",
       "}}\n",
       "\n",
       "                        })                };                });            </script>        </div>"
      ]
     },
     "metadata": {},
     "output_type": "display_data"
    }
   ],
   "source": [
    "fig_nokkeltall = go.Figure()\n",
    "\n",
    "num_iår = df_ant_aar[df_ant_aar['År'] == dagens_år]['antall'].sum()\n",
    "\n",
    "fig_nokkeltall.add_trace(\n",
    "    go.Indicator(\n",
    "        mode = \"number\",\n",
    "        value = num_iår,\n",
    "        number = {\"valueformat\": \",d\", \n",
    "                  'font':{'size':90}},\n",
    "        domain = {'column': 0, \n",
    "                  'row': 0},\n",
    "        title = {'text': 'Antall sykmeldinger mottatt hittil i år'}\n",
    "    )\n",
    ")\n",
    "\n",
    "\n",
    "fig_nokkeltall.add_trace(\n",
    "    go.Indicator(\n",
    "        mode = \"number\",\n",
    "        value = antall_sykmeldte_personer_idag,\n",
    "        number = {\"valueformat\": \",g\"},\n",
    "        domain = {'column':0, \n",
    "                  'row':1},\n",
    "        title = {'text': f'Antall personer som er <br> sykmeldt i dag'}\n",
    "    )\n",
    ")\n",
    "\n",
    "fig_nokkeltall.add_annotation(\n",
    "    text = annotation_text,\n",
    "    showarrow= False, \n",
    "    align= 'center',\n",
    "    x= 0.5,\n",
    "    y= 1.1,\n",
    "    font={'size':12},\n",
    "    xref= 'paper',\n",
    "    yref= 'paper'\n",
    ")\n",
    "\n",
    "\n",
    "\n",
    "\n",
    "fig_nokkeltall.update_layout(\n",
    "    autosize=True, \n",
    "    grid = {'rows': 2, \n",
    "            'columns': 1, \n",
    "            'pattern': \"independent\"}, \n",
    "    separators=', ', \n",
    "    paper_bgcolor=nokkeltall_farge, \n",
    "    height=600\n",
    ")"
   ]
  },
  {
   "cell_type": "code",
   "execution_count": 259,
   "id": "0aeba651-be64-4df6-a4a6-f4ab1e487f5c",
   "metadata": {},
   "outputs": [
    {
     "data": {
      "application/vnd.plotly.v1+json": {
       "config": {
        "plotlyServerURL": "https://plot.ly"
       },
       "data": [
        {
         "domain": {
          "column": 0,
          "row": 1
         },
         "mode": "number",
         "number": {
          "font": {
           "size": 55
          },
          "valueformat": ",d"
         },
         "title": {
          "text": "Antall sykmeldinger <br> samme periode 2019"
         },
         "type": "indicator",
         "value": 2814104
        },
        {
         "domain": {
          "column": 1,
          "row": 1
         },
         "mode": "number",
         "number": {
          "font": {
           "size": 55
          },
          "valueformat": ",d"
         },
         "title": {
          "text": "Antall sykmeldinger <br> samme periode 2020"
         },
         "type": "indicator",
         "value": 3064298
        },
        {
         "domain": {
          "column": 2,
          "row": 1
         },
         "mode": "number",
         "number": {
          "font": {
           "size": 55
          },
          "valueformat": ",d"
         },
         "title": {
          "text": "Antall sykmeldinger <br> samme periode 2021"
         },
         "type": "indicator",
         "value": 3293967
        }
       ],
       "layout": {
        "annotations": [
         {
          "align": "center",
          "font": {
           "size": 12
          },
          "showarrow": false,
          "text": "NB! Dette plottet er ikke offisiell statistikk og må ikke deles utenfor NAV.",
          "x": 0.5,
          "xref": "paper",
          "y": 1.4,
          "yref": "paper"
         }
        ],
        "autosize": true,
        "grid": {
         "columns": 3,
         "pattern": "independent",
         "rows": 1
        },
        "paper_bgcolor": "#CCE1F3",
        "separators": ", ",
        "template": {
         "data": {
          "bar": [
           {
            "error_x": {
             "color": "#2a3f5f"
            },
            "error_y": {
             "color": "#2a3f5f"
            },
            "marker": {
             "line": {
              "color": "#E5ECF6",
              "width": 0.5
             },
             "pattern": {
              "fillmode": "overlay",
              "size": 10,
              "solidity": 0.2
             }
            },
            "type": "bar"
           }
          ],
          "barpolar": [
           {
            "marker": {
             "line": {
              "color": "#E5ECF6",
              "width": 0.5
             },
             "pattern": {
              "fillmode": "overlay",
              "size": 10,
              "solidity": 0.2
             }
            },
            "type": "barpolar"
           }
          ],
          "carpet": [
           {
            "aaxis": {
             "endlinecolor": "#2a3f5f",
             "gridcolor": "white",
             "linecolor": "white",
             "minorgridcolor": "white",
             "startlinecolor": "#2a3f5f"
            },
            "baxis": {
             "endlinecolor": "#2a3f5f",
             "gridcolor": "white",
             "linecolor": "white",
             "minorgridcolor": "white",
             "startlinecolor": "#2a3f5f"
            },
            "type": "carpet"
           }
          ],
          "choropleth": [
           {
            "colorbar": {
             "outlinewidth": 0,
             "ticks": ""
            },
            "type": "choropleth"
           }
          ],
          "contour": [
           {
            "colorbar": {
             "outlinewidth": 0,
             "ticks": ""
            },
            "colorscale": [
             [
              0,
              "#0d0887"
             ],
             [
              0.1111111111111111,
              "#46039f"
             ],
             [
              0.2222222222222222,
              "#7201a8"
             ],
             [
              0.3333333333333333,
              "#9c179e"
             ],
             [
              0.4444444444444444,
              "#bd3786"
             ],
             [
              0.5555555555555556,
              "#d8576b"
             ],
             [
              0.6666666666666666,
              "#ed7953"
             ],
             [
              0.7777777777777778,
              "#fb9f3a"
             ],
             [
              0.8888888888888888,
              "#fdca26"
             ],
             [
              1,
              "#f0f921"
             ]
            ],
            "type": "contour"
           }
          ],
          "contourcarpet": [
           {
            "colorbar": {
             "outlinewidth": 0,
             "ticks": ""
            },
            "type": "contourcarpet"
           }
          ],
          "heatmap": [
           {
            "colorbar": {
             "outlinewidth": 0,
             "ticks": ""
            },
            "colorscale": [
             [
              0,
              "#0d0887"
             ],
             [
              0.1111111111111111,
              "#46039f"
             ],
             [
              0.2222222222222222,
              "#7201a8"
             ],
             [
              0.3333333333333333,
              "#9c179e"
             ],
             [
              0.4444444444444444,
              "#bd3786"
             ],
             [
              0.5555555555555556,
              "#d8576b"
             ],
             [
              0.6666666666666666,
              "#ed7953"
             ],
             [
              0.7777777777777778,
              "#fb9f3a"
             ],
             [
              0.8888888888888888,
              "#fdca26"
             ],
             [
              1,
              "#f0f921"
             ]
            ],
            "type": "heatmap"
           }
          ],
          "heatmapgl": [
           {
            "colorbar": {
             "outlinewidth": 0,
             "ticks": ""
            },
            "colorscale": [
             [
              0,
              "#0d0887"
             ],
             [
              0.1111111111111111,
              "#46039f"
             ],
             [
              0.2222222222222222,
              "#7201a8"
             ],
             [
              0.3333333333333333,
              "#9c179e"
             ],
             [
              0.4444444444444444,
              "#bd3786"
             ],
             [
              0.5555555555555556,
              "#d8576b"
             ],
             [
              0.6666666666666666,
              "#ed7953"
             ],
             [
              0.7777777777777778,
              "#fb9f3a"
             ],
             [
              0.8888888888888888,
              "#fdca26"
             ],
             [
              1,
              "#f0f921"
             ]
            ],
            "type": "heatmapgl"
           }
          ],
          "histogram": [
           {
            "marker": {
             "pattern": {
              "fillmode": "overlay",
              "size": 10,
              "solidity": 0.2
             }
            },
            "type": "histogram"
           }
          ],
          "histogram2d": [
           {
            "colorbar": {
             "outlinewidth": 0,
             "ticks": ""
            },
            "colorscale": [
             [
              0,
              "#0d0887"
             ],
             [
              0.1111111111111111,
              "#46039f"
             ],
             [
              0.2222222222222222,
              "#7201a8"
             ],
             [
              0.3333333333333333,
              "#9c179e"
             ],
             [
              0.4444444444444444,
              "#bd3786"
             ],
             [
              0.5555555555555556,
              "#d8576b"
             ],
             [
              0.6666666666666666,
              "#ed7953"
             ],
             [
              0.7777777777777778,
              "#fb9f3a"
             ],
             [
              0.8888888888888888,
              "#fdca26"
             ],
             [
              1,
              "#f0f921"
             ]
            ],
            "type": "histogram2d"
           }
          ],
          "histogram2dcontour": [
           {
            "colorbar": {
             "outlinewidth": 0,
             "ticks": ""
            },
            "colorscale": [
             [
              0,
              "#0d0887"
             ],
             [
              0.1111111111111111,
              "#46039f"
             ],
             [
              0.2222222222222222,
              "#7201a8"
             ],
             [
              0.3333333333333333,
              "#9c179e"
             ],
             [
              0.4444444444444444,
              "#bd3786"
             ],
             [
              0.5555555555555556,
              "#d8576b"
             ],
             [
              0.6666666666666666,
              "#ed7953"
             ],
             [
              0.7777777777777778,
              "#fb9f3a"
             ],
             [
              0.8888888888888888,
              "#fdca26"
             ],
             [
              1,
              "#f0f921"
             ]
            ],
            "type": "histogram2dcontour"
           }
          ],
          "mesh3d": [
           {
            "colorbar": {
             "outlinewidth": 0,
             "ticks": ""
            },
            "type": "mesh3d"
           }
          ],
          "parcoords": [
           {
            "line": {
             "colorbar": {
              "outlinewidth": 0,
              "ticks": ""
             }
            },
            "type": "parcoords"
           }
          ],
          "pie": [
           {
            "automargin": true,
            "type": "pie"
           }
          ],
          "scatter": [
           {
            "fillpattern": {
             "fillmode": "overlay",
             "size": 10,
             "solidity": 0.2
            },
            "type": "scatter"
           }
          ],
          "scatter3d": [
           {
            "line": {
             "colorbar": {
              "outlinewidth": 0,
              "ticks": ""
             }
            },
            "marker": {
             "colorbar": {
              "outlinewidth": 0,
              "ticks": ""
             }
            },
            "type": "scatter3d"
           }
          ],
          "scattercarpet": [
           {
            "marker": {
             "colorbar": {
              "outlinewidth": 0,
              "ticks": ""
             }
            },
            "type": "scattercarpet"
           }
          ],
          "scattergeo": [
           {
            "marker": {
             "colorbar": {
              "outlinewidth": 0,
              "ticks": ""
             }
            },
            "type": "scattergeo"
           }
          ],
          "scattergl": [
           {
            "marker": {
             "colorbar": {
              "outlinewidth": 0,
              "ticks": ""
             }
            },
            "type": "scattergl"
           }
          ],
          "scattermapbox": [
           {
            "marker": {
             "colorbar": {
              "outlinewidth": 0,
              "ticks": ""
             }
            },
            "type": "scattermapbox"
           }
          ],
          "scatterpolar": [
           {
            "marker": {
             "colorbar": {
              "outlinewidth": 0,
              "ticks": ""
             }
            },
            "type": "scatterpolar"
           }
          ],
          "scatterpolargl": [
           {
            "marker": {
             "colorbar": {
              "outlinewidth": 0,
              "ticks": ""
             }
            },
            "type": "scatterpolargl"
           }
          ],
          "scatterternary": [
           {
            "marker": {
             "colorbar": {
              "outlinewidth": 0,
              "ticks": ""
             }
            },
            "type": "scatterternary"
           }
          ],
          "surface": [
           {
            "colorbar": {
             "outlinewidth": 0,
             "ticks": ""
            },
            "colorscale": [
             [
              0,
              "#0d0887"
             ],
             [
              0.1111111111111111,
              "#46039f"
             ],
             [
              0.2222222222222222,
              "#7201a8"
             ],
             [
              0.3333333333333333,
              "#9c179e"
             ],
             [
              0.4444444444444444,
              "#bd3786"
             ],
             [
              0.5555555555555556,
              "#d8576b"
             ],
             [
              0.6666666666666666,
              "#ed7953"
             ],
             [
              0.7777777777777778,
              "#fb9f3a"
             ],
             [
              0.8888888888888888,
              "#fdca26"
             ],
             [
              1,
              "#f0f921"
             ]
            ],
            "type": "surface"
           }
          ],
          "table": [
           {
            "cells": {
             "fill": {
              "color": "#EBF0F8"
             },
             "line": {
              "color": "white"
             }
            },
            "header": {
             "fill": {
              "color": "#C8D4E3"
             },
             "line": {
              "color": "white"
             }
            },
            "type": "table"
           }
          ]
         },
         "layout": {
          "annotationdefaults": {
           "arrowcolor": "#2a3f5f",
           "arrowhead": 0,
           "arrowwidth": 1
          },
          "autotypenumbers": "strict",
          "coloraxis": {
           "colorbar": {
            "outlinewidth": 0,
            "ticks": ""
           }
          },
          "colorscale": {
           "diverging": [
            [
             0,
             "#8e0152"
            ],
            [
             0.1,
             "#c51b7d"
            ],
            [
             0.2,
             "#de77ae"
            ],
            [
             0.3,
             "#f1b6da"
            ],
            [
             0.4,
             "#fde0ef"
            ],
            [
             0.5,
             "#f7f7f7"
            ],
            [
             0.6,
             "#e6f5d0"
            ],
            [
             0.7,
             "#b8e186"
            ],
            [
             0.8,
             "#7fbc41"
            ],
            [
             0.9,
             "#4d9221"
            ],
            [
             1,
             "#276419"
            ]
           ],
           "sequential": [
            [
             0,
             "#0d0887"
            ],
            [
             0.1111111111111111,
             "#46039f"
            ],
            [
             0.2222222222222222,
             "#7201a8"
            ],
            [
             0.3333333333333333,
             "#9c179e"
            ],
            [
             0.4444444444444444,
             "#bd3786"
            ],
            [
             0.5555555555555556,
             "#d8576b"
            ],
            [
             0.6666666666666666,
             "#ed7953"
            ],
            [
             0.7777777777777778,
             "#fb9f3a"
            ],
            [
             0.8888888888888888,
             "#fdca26"
            ],
            [
             1,
             "#f0f921"
            ]
           ],
           "sequentialminus": [
            [
             0,
             "#0d0887"
            ],
            [
             0.1111111111111111,
             "#46039f"
            ],
            [
             0.2222222222222222,
             "#7201a8"
            ],
            [
             0.3333333333333333,
             "#9c179e"
            ],
            [
             0.4444444444444444,
             "#bd3786"
            ],
            [
             0.5555555555555556,
             "#d8576b"
            ],
            [
             0.6666666666666666,
             "#ed7953"
            ],
            [
             0.7777777777777778,
             "#fb9f3a"
            ],
            [
             0.8888888888888888,
             "#fdca26"
            ],
            [
             1,
             "#f0f921"
            ]
           ]
          },
          "colorway": [
           "#636efa",
           "#EF553B",
           "#00cc96",
           "#ab63fa",
           "#FFA15A",
           "#19d3f3",
           "#FF6692",
           "#B6E880",
           "#FF97FF",
           "#FECB52"
          ],
          "font": {
           "color": "#2a3f5f"
          },
          "geo": {
           "bgcolor": "white",
           "lakecolor": "white",
           "landcolor": "#E5ECF6",
           "showlakes": true,
           "showland": true,
           "subunitcolor": "white"
          },
          "hoverlabel": {
           "align": "left"
          },
          "hovermode": "closest",
          "mapbox": {
           "style": "light"
          },
          "paper_bgcolor": "white",
          "plot_bgcolor": "#E5ECF6",
          "polar": {
           "angularaxis": {
            "gridcolor": "white",
            "linecolor": "white",
            "ticks": ""
           },
           "bgcolor": "#E5ECF6",
           "radialaxis": {
            "gridcolor": "white",
            "linecolor": "white",
            "ticks": ""
           }
          },
          "scene": {
           "xaxis": {
            "backgroundcolor": "#E5ECF6",
            "gridcolor": "white",
            "gridwidth": 2,
            "linecolor": "white",
            "showbackground": true,
            "ticks": "",
            "zerolinecolor": "white"
           },
           "yaxis": {
            "backgroundcolor": "#E5ECF6",
            "gridcolor": "white",
            "gridwidth": 2,
            "linecolor": "white",
            "showbackground": true,
            "ticks": "",
            "zerolinecolor": "white"
           },
           "zaxis": {
            "backgroundcolor": "#E5ECF6",
            "gridcolor": "white",
            "gridwidth": 2,
            "linecolor": "white",
            "showbackground": true,
            "ticks": "",
            "zerolinecolor": "white"
           }
          },
          "shapedefaults": {
           "line": {
            "color": "#2a3f5f"
           }
          },
          "ternary": {
           "aaxis": {
            "gridcolor": "white",
            "linecolor": "white",
            "ticks": ""
           },
           "baxis": {
            "gridcolor": "white",
            "linecolor": "white",
            "ticks": ""
           },
           "bgcolor": "#E5ECF6",
           "caxis": {
            "gridcolor": "white",
            "linecolor": "white",
            "ticks": ""
           }
          },
          "title": {
           "x": 0.05
          },
          "xaxis": {
           "automargin": true,
           "gridcolor": "white",
           "linecolor": "white",
           "ticks": "",
           "title": {
            "standoff": 15
           },
           "zerolinecolor": "white",
           "zerolinewidth": 2
          },
          "yaxis": {
           "automargin": true,
           "gridcolor": "white",
           "linecolor": "white",
           "ticks": "",
           "title": {
            "standoff": 15
           },
           "zerolinecolor": "white",
           "zerolinewidth": 2
          }
         }
        }
       }
      },
      "image/png": "[encoded data removed]",
      "text/html": [
       "<div>                            <div id=\"529aee08-89cf-428e-9242-ec4901df5ce2\" class=\"plotly-graph-div\" style=\"height:500px; width:100%;\"></div>            <script type=\"text/javascript\">                require([\"plotly\"], function(Plotly) {                    window.PLOTLYENV=window.PLOTLYENV || {};                                    if (document.getElementById(\"529aee08-89cf-428e-9242-ec4901df5ce2\")) {                    Plotly.newPlot(                        \"529aee08-89cf-428e-9242-ec4901df5ce2\",                        [{\"domain\":{\"column\":0,\"row\":1},\"mode\":\"number\",\"number\":{\"font\":{\"size\":55},\"valueformat\":\",d\"},\"title\":{\"text\":\"Antall sykmeldinger <br> samme periode 2019\"},\"value\":2814104,\"type\":\"indicator\"},{\"domain\":{\"column\":1,\"row\":1},\"mode\":\"number\",\"number\":{\"font\":{\"size\":55},\"valueformat\":\",d\"},\"title\":{\"text\":\"Antall sykmeldinger <br> samme periode 2020\"},\"value\":3064298,\"type\":\"indicator\"},{\"domain\":{\"column\":2,\"row\":1},\"mode\":\"number\",\"number\":{\"font\":{\"size\":55},\"valueformat\":\",d\"},\"title\":{\"text\":\"Antall sykmeldinger <br> samme periode 2021\"},\"value\":3293967,\"type\":\"indicator\"}],                        {\"template\":{\"data\":{\"histogram2dcontour\":[{\"type\":\"histogram2dcontour\",\"colorbar\":{\"outlinewidth\":0,\"ticks\":\"\"},\"colorscale\":[[0.0,\"#0d0887\"],[0.1111111111111111,\"#46039f\"],[0.2222222222222222,\"#7201a8\"],[0.3333333333333333,\"#9c179e\"],[0.4444444444444444,\"#bd3786\"],[0.5555555555555556,\"#d8576b\"],[0.6666666666666666,\"#ed7953\"],[0.7777777777777778,\"#fb9f3a\"],[0.8888888888888888,\"#fdca26\"],[1.0,\"#f0f921\"]]}],\"choropleth\":[{\"type\":\"choropleth\",\"colorbar\":{\"outlinewidth\":0,\"ticks\":\"\"}}],\"histogram2d\":[{\"type\":\"histogram2d\",\"colorbar\":{\"outlinewidth\":0,\"ticks\":\"\"},\"colorscale\":[[0.0,\"#0d0887\"],[0.1111111111111111,\"#46039f\"],[0.2222222222222222,\"#7201a8\"],[0.3333333333333333,\"#9c179e\"],[0.4444444444444444,\"#bd3786\"],[0.5555555555555556,\"#d8576b\"],[0.6666666666666666,\"#ed7953\"],[0.7777777777777778,\"#fb9f3a\"],[0.8888888888888888,\"#fdca26\"],[1.0,\"#f0f921\"]]}],\"heatmap\":[{\"type\":\"heatmap\",\"colorbar\":{\"outlinewidth\":0,\"ticks\":\"\"},\"colorscale\":[[0.0,\"#0d0887\"],[0.1111111111111111,\"#46039f\"],[0.2222222222222222,\"#7201a8\"],[0.3333333333333333,\"#9c179e\"],[0.4444444444444444,\"#bd3786\"],[0.5555555555555556,\"#d8576b\"],[0.6666666666666666,\"#ed7953\"],[0.7777777777777778,\"#fb9f3a\"],[0.8888888888888888,\"#fdca26\"],[1.0,\"#f0f921\"]]}],\"heatmapgl\":[{\"type\":\"heatmapgl\",\"colorbar\":{\"outlinewidth\":0,\"ticks\":\"\"},\"colorscale\":[[0.0,\"#0d0887\"],[0.1111111111111111,\"#46039f\"],[0.2222222222222222,\"#7201a8\"],[0.3333333333333333,\"#9c179e\"],[0.4444444444444444,\"#bd3786\"],[0.5555555555555556,\"#d8576b\"],[0.6666666666666666,\"#ed7953\"],[0.7777777777777778,\"#fb9f3a\"],[0.8888888888888888,\"#fdca26\"],[1.0,\"#f0f921\"]]}],\"contourcarpet\":[{\"type\":\"contourcarpet\",\"colorbar\":{\"outlinewidth\":0,\"ticks\":\"\"}}],\"contour\":[{\"type\":\"contour\",\"colorbar\":{\"outlinewidth\":0,\"ticks\":\"\"},\"colorscale\":[[0.0,\"#0d0887\"],[0.1111111111111111,\"#46039f\"],[0.2222222222222222,\"#7201a8\"],[0.3333333333333333,\"#9c179e\"],[0.4444444444444444,\"#bd3786\"],[0.5555555555555556,\"#d8576b\"],[0.6666666666666666,\"#ed7953\"],[0.7777777777777778,\"#fb9f3a\"],[0.8888888888888888,\"#fdca26\"],[1.0,\"#f0f921\"]]}],\"surface\":[{\"type\":\"surface\",\"colorbar\":{\"outlinewidth\":0,\"ticks\":\"\"},\"colorscale\":[[0.0,\"#0d0887\"],[0.1111111111111111,\"#46039f\"],[0.2222222222222222,\"#7201a8\"],[0.3333333333333333,\"#9c179e\"],[0.4444444444444444,\"#bd3786\"],[0.5555555555555556,\"#d8576b\"],[0.6666666666666666,\"#ed7953\"],[0.7777777777777778,\"#fb9f3a\"],[0.8888888888888888,\"#fdca26\"],[1.0,\"#f0f921\"]]}],\"mesh3d\":[{\"type\":\"mesh3d\",\"colorbar\":{\"outlinewidth\":0,\"ticks\":\"\"}}],\"scatter\":[{\"fillpattern\":{\"fillmode\":\"overlay\",\"size\":10,\"solidity\":0.2},\"type\":\"scatter\"}],\"parcoords\":[{\"type\":\"parcoords\",\"line\":{\"colorbar\":{\"outlinewidth\":0,\"ticks\":\"\"}}}],\"scatterpolargl\":[{\"type\":\"scatterpolargl\",\"marker\":{\"colorbar\":{\"outlinewidth\":0,\"ticks\":\"\"}}}],\"bar\":[{\"error_x\":{\"color\":\"#2a3f5f\"},\"error_y\":{\"color\":\"#2a3f5f\"},\"marker\":{\"line\":{\"color\":\"#E5ECF6\",\"width\":0.5},\"pattern\":{\"fillmode\":\"overlay\",\"size\":10,\"solidity\":0.2}},\"type\":\"bar\"}],\"scattergeo\":[{\"type\":\"scattergeo\",\"marker\":{\"colorbar\":{\"outlinewidth\":0,\"ticks\":\"\"}}}],\"scatterpolar\":[{\"type\":\"scatterpolar\",\"marker\":{\"colorbar\":{\"outlinewidth\":0,\"ticks\":\"\"}}}],\"histogram\":[{\"marker\":{\"pattern\":{\"fillmode\":\"overlay\",\"size\":10,\"solidity\":0.2}},\"type\":\"histogram\"}],\"scattergl\":[{\"type\":\"scattergl\",\"marker\":{\"colorbar\":{\"outlinewidth\":0,\"ticks\":\"\"}}}],\"scatter3d\":[{\"type\":\"scatter3d\",\"line\":{\"colorbar\":{\"outlinewidth\":0,\"ticks\":\"\"}},\"marker\":{\"colorbar\":{\"outlinewidth\":0,\"ticks\":\"\"}}}],\"scattermapbox\":[{\"type\":\"scattermapbox\",\"marker\":{\"colorbar\":{\"outlinewidth\":0,\"ticks\":\"\"}}}],\"scatterternary\":[{\"type\":\"scatterternary\",\"marker\":{\"colorbar\":{\"outlinewidth\":0,\"ticks\":\"\"}}}],\"scattercarpet\":[{\"type\":\"scattercarpet\",\"marker\":{\"colorbar\":{\"outlinewidth\":0,\"ticks\":\"\"}}}],\"carpet\":[{\"aaxis\":{\"endlinecolor\":\"#2a3f5f\",\"gridcolor\":\"white\",\"linecolor\":\"white\",\"minorgridcolor\":\"white\",\"startlinecolor\":\"#2a3f5f\"},\"baxis\":{\"endlinecolor\":\"#2a3f5f\",\"gridcolor\":\"white\",\"linecolor\":\"white\",\"minorgridcolor\":\"white\",\"startlinecolor\":\"#2a3f5f\"},\"type\":\"carpet\"}],\"table\":[{\"cells\":{\"fill\":{\"color\":\"#EBF0F8\"},\"line\":{\"color\":\"white\"}},\"header\":{\"fill\":{\"color\":\"#C8D4E3\"},\"line\":{\"color\":\"white\"}},\"type\":\"table\"}],\"barpolar\":[{\"marker\":{\"line\":{\"color\":\"#E5ECF6\",\"width\":0.5},\"pattern\":{\"fillmode\":\"overlay\",\"size\":10,\"solidity\":0.2}},\"type\":\"barpolar\"}],\"pie\":[{\"automargin\":true,\"type\":\"pie\"}]},\"layout\":{\"autotypenumbers\":\"strict\",\"colorway\":[\"#636efa\",\"#EF553B\",\"#00cc96\",\"#ab63fa\",\"#FFA15A\",\"#19d3f3\",\"#FF6692\",\"#B6E880\",\"#FF97FF\",\"#FECB52\"],\"font\":{\"color\":\"#2a3f5f\"},\"hovermode\":\"closest\",\"hoverlabel\":{\"align\":\"left\"},\"paper_bgcolor\":\"white\",\"plot_bgcolor\":\"#E5ECF6\",\"polar\":{\"bgcolor\":\"#E5ECF6\",\"angularaxis\":{\"gridcolor\":\"white\",\"linecolor\":\"white\",\"ticks\":\"\"},\"radialaxis\":{\"gridcolor\":\"white\",\"linecolor\":\"white\",\"ticks\":\"\"}},\"ternary\":{\"bgcolor\":\"#E5ECF6\",\"aaxis\":{\"gridcolor\":\"white\",\"linecolor\":\"white\",\"ticks\":\"\"},\"baxis\":{\"gridcolor\":\"white\",\"linecolor\":\"white\",\"ticks\":\"\"},\"caxis\":{\"gridcolor\":\"white\",\"linecolor\":\"white\",\"ticks\":\"\"}},\"coloraxis\":{\"colorbar\":{\"outlinewidth\":0,\"ticks\":\"\"}},\"colorscale\":{\"sequential\":[[0.0,\"#0d0887\"],[0.1111111111111111,\"#46039f\"],[0.2222222222222222,\"#7201a8\"],[0.3333333333333333,\"#9c179e\"],[0.4444444444444444,\"#bd3786\"],[0.5555555555555556,\"#d8576b\"],[0.6666666666666666,\"#ed7953\"],[0.7777777777777778,\"#fb9f3a\"],[0.8888888888888888,\"#fdca26\"],[1.0,\"#f0f921\"]],\"sequentialminus\":[[0.0,\"#0d0887\"],[0.1111111111111111,\"#46039f\"],[0.2222222222222222,\"#7201a8\"],[0.3333333333333333,\"#9c179e\"],[0.4444444444444444,\"#bd3786\"],[0.5555555555555556,\"#d8576b\"],[0.6666666666666666,\"#ed7953\"],[0.7777777777777778,\"#fb9f3a\"],[0.8888888888888888,\"#fdca26\"],[1.0,\"#f0f921\"]],\"diverging\":[[0,\"#8e0152\"],[0.1,\"#c51b7d\"],[0.2,\"#de77ae\"],[0.3,\"#f1b6da\"],[0.4,\"#fde0ef\"],[0.5,\"#f7f7f7\"],[0.6,\"#e6f5d0\"],[0.7,\"#b8e186\"],[0.8,\"#7fbc41\"],[0.9,\"#4d9221\"],[1,\"#276419\"]]},\"xaxis\":{\"gridcolor\":\"white\",\"linecolor\":\"white\",\"ticks\":\"\",\"title\":{\"standoff\":15},\"zerolinecolor\":\"white\",\"automargin\":true,\"zerolinewidth\":2},\"yaxis\":{\"gridcolor\":\"white\",\"linecolor\":\"white\",\"ticks\":\"\",\"title\":{\"standoff\":15},\"zerolinecolor\":\"white\",\"automargin\":true,\"zerolinewidth\":2},\"scene\":{\"xaxis\":{\"backgroundcolor\":\"#E5ECF6\",\"gridcolor\":\"white\",\"linecolor\":\"white\",\"showbackground\":true,\"ticks\":\"\",\"zerolinecolor\":\"white\",\"gridwidth\":2},\"yaxis\":{\"backgroundcolor\":\"#E5ECF6\",\"gridcolor\":\"white\",\"linecolor\":\"white\",\"showbackground\":true,\"ticks\":\"\",\"zerolinecolor\":\"white\",\"gridwidth\":2},\"zaxis\":{\"backgroundcolor\":\"#E5ECF6\",\"gridcolor\":\"white\",\"linecolor\":\"white\",\"showbackground\":true,\"ticks\":\"\",\"zerolinecolor\":\"white\",\"gridwidth\":2}},\"shapedefaults\":{\"line\":{\"color\":\"#2a3f5f\"}},\"annotationdefaults\":{\"arrowcolor\":\"#2a3f5f\",\"arrowhead\":0,\"arrowwidth\":1},\"geo\":{\"bgcolor\":\"white\",\"landcolor\":\"#E5ECF6\",\"subunitcolor\":\"white\",\"showland\":true,\"showlakes\":true,\"lakecolor\":\"white\"},\"title\":{\"x\":0.05},\"mapbox\":{\"style\":\"light\"}}},\"annotations\":[{\"align\":\"center\",\"font\":{\"size\":12},\"showarrow\":false,\"text\":\"NB! Dette plottet er ikke offisiell statistikk og m\\u00e5 ikke deles utenfor NAV.\",\"x\":0.5,\"xref\":\"paper\",\"y\":1.4,\"yref\":\"paper\"}],\"grid\":{\"rows\":1,\"columns\":3,\"pattern\":\"independent\"},\"autosize\":true,\"separators\":\", \",\"paper_bgcolor\":\"#CCE1F3\",\"height\":500},                        {\"responsive\": true}                    ).then(function(){\n",
       "                            \n",
       "var gd = document.getElementById('529aee08-89cf-428e-9242-ec4901df5ce2');\n",
       "var x = new MutationObserver(function (mutations, observer) {{\n",
       "        var display = window.getComputedStyle(gd).display;\n",
       "        if (!display || display === 'none') {{\n",
       "            console.log([gd, 'removed!']);\n",
       "            Plotly.purge(gd);\n",
       "            observer.disconnect();\n",
       "        }}\n",
       "}});\n",
       "\n",
       "// Listen for the removal of the full notebook cells\n",
       "var notebookContainer = gd.closest('#notebook-container');\n",
       "if (notebookContainer) {{\n",
       "    x.observe(notebookContainer, {childList: true});\n",
       "}}\n",
       "\n",
       "// Listen for the clearing of the current output cell\n",
       "var outputEl = gd.closest('.output');\n",
       "if (outputEl) {{\n",
       "    x.observe(outputEl, {childList: true});\n",
       "}}\n",
       "\n",
       "                        })                };                });            </script>        </div>"
      ]
     },
     "metadata": {},
     "output_type": "display_data"
    }
   ],
   "source": [
    "fig_nokkeltall_tid = go.Figure()\n",
    "aar = df_ant_aar['År'].unique().tolist()\n",
    "aar = aar[-4:-1]\n",
    "\n",
    "for i in aar:\n",
    "    \n",
    "    number = df_ant_aar[df_ant_aar['År'] == i]['antall'].sum()\n",
    "    \n",
    "    fig_nokkeltall_tid.add_trace(\n",
    "        go.Indicator(\n",
    "            mode = \"number\",\n",
    "            value = number,\n",
    "            number = {\"valueformat\": \",d\", \n",
    "                      'font':{'size':55}},\n",
    "            domain = {'column': aar.index(i), \n",
    "                      'row': 1},\n",
    "            title = {'text': f'Antall sykmeldinger <br> samme periode {i}'},\n",
    "        )\n",
    "    )\n",
    "    \n",
    "fig_nokkeltall_tid.add_annotation(\n",
    "    text = annotation_text,\n",
    "    showarrow= False, \n",
    "    align= 'center',\n",
    "    x= 0.5,\n",
    "    y= 1.4,\n",
    "    font={'size':12},\n",
    "    xref= 'paper',\n",
    "    yref= 'paper'\n",
    ")\n",
    "\n",
    "\n",
    "fig_nokkeltall_tid.update_layout(\n",
    "    autosize=True, \n",
    "    grid = {'rows': 1, \n",
    "            'columns': 3, \n",
    "            'pattern': \"independent\"}, \n",
    "    separators=', ', \n",
    "    paper_bgcolor=nokkeltall_farge, \n",
    "    height=500\n",
    ")"
   ]
  },
  {
   "cell_type": "code",
   "execution_count": 260,
   "id": "9679da3e-cab3-4258-94ec-d93c051aaa47",
   "metadata": {},
   "outputs": [],
   "source": [
    "query_job = client.query(\"\"\"\n",
    "select count(so.id) antall, \n",
    "JSON_EXTRACT_SCALAR(JSON_EXTRACT(bh.behandlingsutfall, '$.status'), \"$.\") status,\n",
    "CAST(so.mottatt_tidspunkt AS DATE) mottatt_tidspunkt\n",
    "from `teamsykmelding-prod-2acd.syfosmregister.sykmeldingsopplysninger` so, \n",
    "`teamsykmelding-prod-2acd.syfosmregister.behandlingsutfall` bh                                                            \n",
    "where so.id = bh.id                                                                                              \n",
    "and so.mottatt_tidspunkt > DATETIME '2019-12-31'                                     \n",
    "and JSON_EXTRACT(bh.behandlingsutfall, '$.status') IN ('\"OK\"', '\"MANUAL_PROCESSING\"', '\"INVALID\"')    \n",
    "GROUP BY JSON_EXTRACT_SCALAR(JSON_EXTRACT(bh.behandlingsutfall, '$.status'), \"$.\"), CAST(so.mottatt_tidspunkt AS DATE) \n",
    "\"\"\")\n",
    "\n",
    "\n",
    "df_reg = query_job.result().to_dataframe()"
   ]
  },
  {
   "cell_type": "code",
   "execution_count": 261,
   "id": "02e73d0b-3281-4d54-a964-168a5ec24df8",
   "metadata": {},
   "outputs": [],
   "source": [
    "query_job = client.query(\"\"\"\n",
    "\n",
    "select EXTRACT(DATE FROM DATETIME(JSON_EXTRACT_SCALAR(receivedsykmelding, \"$.mottattDato\"))) mottatt_tidspunkt,\n",
    "     count(distinct id) antall\n",
    "from `teamsykmelding-prod-2acd.syfosmmanuell_backend.manuelloppgave`\n",
    "where ferdigstilt = True\n",
    "and EXTRACT(DATE FROM DATETIME(JSON_EXTRACT_SCALAR(receivedsykmelding, \"$.mottattDato\"))) > CAST('2021-01-04' AS DATE)\n",
    "group by EXTRACT(DATE FROM DATETIME(JSON_EXTRACT_SCALAR(receivedsykmelding, \"$.mottattDato\")))\n",
    "\n",
    "\n",
    "\"\"\")\n",
    "\n",
    "\n",
    "df_sysm_manuell = query_job.result().to_dataframe()"
   ]
  },
  {
   "cell_type": "code",
   "execution_count": 262,
   "id": "3e223689-07c7-4f06-b2fb-e601c9e9bb0f",
   "metadata": {},
   "outputs": [],
   "source": [
    "df_sysm_manuell['status'] = 'MANUAL_PROCESSING'"
   ]
  },
  {
   "cell_type": "code",
   "execution_count": 263,
   "id": "edc56ee3-d3c9-4f7d-9e2f-a8ac9b2fb1a4",
   "metadata": {},
   "outputs": [],
   "source": [
    "df_reg = pd.concat([df_reg, \n",
    "                    df_sysm_manuell], \n",
    "                   ignore_index=True)"
   ]
  },
  {
   "cell_type": "code",
   "execution_count": 264,
   "id": "a19e0873-a622-4b9c-ac46-e1fac69336cd",
   "metadata": {},
   "outputs": [],
   "source": [
    "df_eia = pd.read_csv('manuell_gammel_eia.csv')"
   ]
  },
  {
   "cell_type": "code",
   "execution_count": 265,
   "id": "d3739e1a-c11f-4987-9e10-79ca165d9594",
   "metadata": {},
   "outputs": [],
   "source": [
    "df_eia_columns = ['antall', 'status', 'registrert']\n",
    "df_eia.columns = df_eia_columns"
   ]
  },
  {
   "cell_type": "code",
   "execution_count": 266,
   "id": "68b31ce0-0783-476e-a866-1c12c41310a8",
   "metadata": {},
   "outputs": [],
   "source": [
    "df_reg['mottatt_tidspunkt']  = df_reg['mottatt_tidspunkt'].astype('datetime64[ns]')\n",
    "\n",
    "df_eia['registrert'] = df_eia['registrert'].astype('datetime64[ns]')"
   ]
  },
  {
   "cell_type": "code",
   "execution_count": 267,
   "id": "c5cc727c-6717-4f63-a814-1dc8aa542457",
   "metadata": {},
   "outputs": [],
   "source": [
    "# Lager uke og år\n",
    "df_reg['uke'] = df_reg['mottatt_tidspunkt'].dt.strftime('%V')\n",
    "df_reg['år'] = df_reg['mottatt_tidspunkt'].dt.year.astype(str)\n",
    "df_reg = df_reg[df_reg['uke'] != dt.datetime.now().date().strftime('%V')]\n",
    "\n",
    "df_eia['uke'] = df_eia['registrert'].dt.strftime('%V')\n",
    "df_eia['år'] = df_eia['registrert'].dt.year.astype(str)"
   ]
  },
  {
   "cell_type": "code",
   "execution_count": 268,
   "id": "dce5694f-111d-4634-87d4-b5f8509c2399",
   "metadata": {},
   "outputs": [],
   "source": [
    "# Manuelle oppgaver\n",
    "df_reg_manuell = df_reg[df_reg['status'] == 'MANUAL_PROCESSING'].copy()\n",
    "\n",
    "df_reg_manuell['år'] = df_reg_manuell.apply(\n",
    "    lambda x: ukenummer_fiks_aar(x['mottatt_tidspunkt'].strftime('%m'), x['uke'], x['år']), \n",
    "    axis=1\n",
    ")\n",
    "df_reg_manuell = df_reg_manuell.groupby(['uke', 'år']).sum().reset_index()\n",
    "\n",
    "df_eia_manuell = df_eia[df_eia['status'] == 'MANUELL BEHANDLING']\n",
    "df_eia_manuell = df_eia_manuell.groupby(['uke', 'år']).sum().reset_index()\n",
    "\n",
    "df_manuell = pd.concat([df_eia_manuell, \n",
    "                        df_reg_manuell], \n",
    "                       ignore_index=True).groupby(['uke', 'år']).sum().reset_index()"
   ]
  },
  {
   "cell_type": "code",
   "execution_count": 269,
   "id": "ad7fac79-cb2f-444d-bb10-89050ffe32f4",
   "metadata": {},
   "outputs": [],
   "source": [
    "fig_manuell = px.area(\n",
    "    df_manuell, \n",
    "    x='uke', \n",
    "    y='antall', \n",
    "    facet_col='år', \n",
    "    color='år', \n",
    "    hover_name='år',\n",
    "    labels={'år': 'År', \n",
    "            'uke': 'Ukenummer', \n",
    "            'antall': ''}, \n",
    "    color_discrete_sequence = nav_kategorisk\n",
    ")\n",
    "\n",
    "\n",
    "fig_manuell.update_layout(\n",
    "    yaxis=dict(tickformat=',d'), \n",
    "    separators=', ', \n",
    "    hovermode='x unified', \n",
    "    template=\"plotly_white\"\n",
    ")\n",
    "\n",
    "\n",
    "fig_manuell.add_annotation(\n",
    "    text = annotation_text,\n",
    "    showarrow= False, \n",
    "    align= 'center',\n",
    "    x= 0.5,\n",
    "    y= 1.13,\n",
    "    font={'size':12},\n",
    "    xref= 'paper',\n",
    "    yref= 'paper'\n",
    ")\n",
    "\n",
    "\n",
    "\n",
    "fig_manuell.for_each_trace(\n",
    "    lambda trace: trace.update(name=trace.name.replace(\"=\", \": \" )),\n",
    ")\n",
    "\n",
    "fig_manuell.for_each_annotation(lambda a: a.update(text=a.text.split(\"=\")[-1]))\n",
    "\n",
    "for i in range(-1,3):\n",
    "    fig_manuell['data'][i]['hovertemplate'] = '<b>%{hovertext}</b> <br />Ukenummer: %{x}<br />Antall: %{y:, f}<extra></extra>'"
   ]
  },
  {
   "cell_type": "code",
   "execution_count": 270,
   "id": "ce00f5ee-71fa-431b-9601-d9f7f324ee50",
   "metadata": {},
   "outputs": [],
   "source": [
    "df_reg_pivot = pd.pivot_table(\n",
    "    df_reg, \n",
    "    values='antall', \n",
    "    index=['mottatt_tidspunkt', \n",
    "           'uke', \n",
    "           'år'], \n",
    "    columns='status',\n",
    "    fill_value=0\n",
    ").reset_index()\n",
    "\n",
    "df_reg_pivot['total'] = df_reg_pivot.sum(axis=1, numeric_only=True)\n",
    "\n",
    "df_reg_pivot['år'] = df_reg_pivot.apply(\n",
    "    lambda x: ukenummer_fiks_aar(x['mottatt_tidspunkt'].strftime('%m'), x['uke'], x['år']), \n",
    "    axis=1\n",
    ")\n",
    "\n",
    "\n",
    "df_reg_pivot_g = df_reg_pivot.groupby(['uke', 'år']).sum().reset_index()\n",
    "df_reg_pivot_g['andel_manuell'] = (df_reg_pivot_g['MANUAL_PROCESSING']/df_reg_pivot_g['total']*100).round()"
   ]
  },
  {
   "cell_type": "code",
   "execution_count": 271,
   "id": "afdea97e-f381-4e91-96e4-063e5e9fc400",
   "metadata": {},
   "outputs": [],
   "source": [
    "df_eia_pivot = pd.pivot_table(\n",
    "    df_eia, \n",
    "    values='antall', \n",
    "    index=['registrert', 'uke', 'år'], \n",
    "    columns='status',\n",
    "    fill_value=0\n",
    ").reset_index()\n",
    "\n",
    "df_eia_pivot['total'] = df_eia_pivot.sum(axis=1, numeric_only=True)\n",
    "\n",
    "\n",
    "df_eia_pivot_g = df_eia_pivot.groupby(['uke', 'år']).sum().reset_index()\n",
    "\n",
    "df_eia_pivot_g['andel_manuell'] = (df_eia_pivot_g['MANUELL BEHANDLING']/df_eia_pivot_g['total']*100).round()"
   ]
  },
  {
   "cell_type": "code",
   "execution_count": 272,
   "id": "fabe584d-e874-43c5-932a-e86302ba544e",
   "metadata": {},
   "outputs": [],
   "source": [
    "df_pivot_g = pd.concat([df_reg_pivot_g[['uke', 'år', 'andel_manuell']],\n",
    "                       df_eia_pivot_g[['uke', 'år', 'andel_manuell']]], \n",
    "                       ignore_index=True\n",
    "                      ).groupby(['uke', 'år']).sum().reset_index()"
   ]
  },
  {
   "cell_type": "code",
   "execution_count": 273,
   "id": "0467c7d5-e5fe-46a3-950b-6e039bd99f78",
   "metadata": {},
   "outputs": [],
   "source": [
    "fig_andel_m = px.line(\n",
    "    df_pivot_g, \n",
    "    x='uke', \n",
    "    y='andel_manuell', \n",
    "    facet_col='år',\n",
    "    color='år', \n",
    "    hover_name='år',\n",
    "    labels={'år': 'År', \n",
    "            'uke': 'Ukenummer', \n",
    "            'antall': '', \n",
    "            'andel_manuell' : 'Prosentandel'}, \n",
    "    color_discrete_sequence = nav_kategorisk\n",
    ")\n",
    "\n",
    "\n",
    "fig_andel_m.update_layout(\n",
    "    yaxis=dict(tickformat=',d'), \n",
    "    separators=', ', \n",
    "    hovermode='x unified', \n",
    "    template=\"plotly_white\"\n",
    ")\n",
    "\n",
    "\n",
    "fig_andel_m.for_each_trace(\n",
    "    lambda trace: trace.update(name=trace.name.replace(\"=\", \": \" )),\n",
    ")\n",
    "\n",
    "fig_andel_m.for_each_annotation(lambda a: a.update(text=a.text.split(\"=\")[-1]))\n",
    "\n",
    "fig_andel_m.add_annotation(\n",
    "    text = annotation_text,\n",
    "    showarrow= False, \n",
    "    align= 'center',\n",
    "    x= 0.5,\n",
    "    y= 1.13,\n",
    "    font={'size':12},\n",
    "    xref= 'paper',\n",
    "    yref= 'paper'\n",
    ")\n",
    "\n",
    "\n",
    "for i in range(-1,3):\n",
    "    fig_andel_m['data'][i]['hovertemplate'] = '<b>%{hovertext}</b> <br />Ukenummer: %{x}<br />Prosentandel: %{y:, f}%<extra></extra>'"
   ]
  },
  {
   "cell_type": "code",
   "execution_count": 274,
   "id": "b24e45ad-cc90-4a6d-b42a-4834884aa4be",
   "metadata": {},
   "outputs": [],
   "source": [
    "# Avviste sykmeldinger\n",
    "df_reg_avvist = df_reg[df_reg['status'] == 'INVALID'].copy()\n",
    "\n",
    "df_reg_avvist['år'] = df_reg_avvist.apply(\n",
    "    lambda x: ukenummer_fiks_aar(x['mottatt_tidspunkt'].strftime('%m'), x['uke'], x['år']),\n",
    "    axis=1\n",
    ")\n",
    "df_reg_avvist = df_reg_avvist.groupby(['uke', 'år']).sum().reset_index()\n",
    "\n",
    "df_eia_avvist = df_eia[df_eia['status'] == 'AVVIST']\n",
    "df_eia_avvist = df_eia_avvist.groupby(['uke', 'år']).sum().reset_index()\n",
    "\n",
    "df_avvist = pd.concat([df_eia_avvist, \n",
    "                       df_reg_avvist], \n",
    "                      ignore_index=True).groupby(['uke', 'år']).sum().reset_index()"
   ]
  },
  {
   "cell_type": "code",
   "execution_count": 275,
   "id": "d0b6cfb0-c596-45b9-86cc-1fbbce9a8905",
   "metadata": {},
   "outputs": [],
   "source": [
    "fig_avvist = px.area(\n",
    "    df_avvist, \n",
    "    x='uke', \n",
    "    y='antall', \n",
    "    facet_col='år', \n",
    "    color='år', \n",
    "    hover_name='år',\n",
    "    labels={'år': 'År', \n",
    "            'uke': 'Ukenummer', \n",
    "            'antall': ''}, \n",
    "    color_discrete_sequence = nav_kategorisk\n",
    ")\n",
    "\n",
    "\n",
    "fig_avvist.update_layout(\n",
    "    yaxis=dict(tickformat=',d'), \n",
    "    separators=', ', \n",
    "    hovermode='x unified', \n",
    "    template=\"plotly_white\"\n",
    ")\n",
    "\n",
    "fig_avvist.add_annotation(\n",
    "    text = annotation_text,\n",
    "    showarrow= False, \n",
    "    align= 'center',\n",
    "    x= 0.5,\n",
    "    y= 1.13,\n",
    "    font={'size':12},\n",
    "    xref= 'paper',\n",
    "    yref= 'paper'\n",
    ")\n",
    "\n",
    "\n",
    "fig_avvist.for_each_trace(\n",
    "    lambda trace: trace.update(name=trace.name.replace(\"=\", \": \" )),\n",
    ")\n",
    "\n",
    "fig_avvist.for_each_annotation(lambda a: a.update(text=a.text.split(\"=\")[-1]))\n",
    "\n",
    "for i in range(-1,3):\n",
    "    fig_avvist['data'][i]['hovertemplate'] = '<b>%{hovertext}</b> <br />Ukenummer: %{x}<br />Antall: %{y:, f}<extra></extra>'"
   ]
  },
  {
   "cell_type": "code",
   "execution_count": 276,
   "id": "5f1f53b2-b363-411a-99d6-258745f83295",
   "metadata": {},
   "outputs": [],
   "source": [
    "df_eia_pivot_ag = df_eia_pivot.groupby(['uke', 'år']).sum().reset_index()\n",
    "\n",
    "df_eia_pivot_ag['andel_avvist'] = (df_eia_pivot_ag['AVVIST']/df_eia_pivot_ag['total']*100).round()"
   ]
  },
  {
   "cell_type": "code",
   "execution_count": 277,
   "id": "49662dc7-7f75-4100-a2eb-2d161f2c6073",
   "metadata": {},
   "outputs": [],
   "source": [
    "df_reg_pivot_ag = df_reg_pivot.groupby(['uke', 'år']).sum().reset_index()\n",
    "df_reg_pivot_ag['andel_avvist'] = (df_reg_pivot_ag['INVALID']/df_reg_pivot_ag['total']*100).round()"
   ]
  },
  {
   "cell_type": "code",
   "execution_count": 278,
   "id": "3d2fbf94-cda5-49df-892a-e4726720321b",
   "metadata": {},
   "outputs": [],
   "source": [
    "df_pivot_ag = pd.concat([df_reg_pivot_ag[['uke', 'år', 'andel_avvist']],\n",
    "                         df_eia_pivot_ag[['uke', 'år', 'andel_avvist']]], \n",
    "                        ignore_index=True).groupby(['uke', 'år']).sum().reset_index()"
   ]
  },
  {
   "cell_type": "code",
   "execution_count": 279,
   "id": "087b9109-444c-4848-a420-a6ab8b7e1c0c",
   "metadata": {},
   "outputs": [],
   "source": [
    "fig_andel_a = px.line(\n",
    "    df_pivot_ag, \n",
    "    x='uke', \n",
    "    y='andel_avvist', \n",
    "    facet_col='år',\n",
    "    color='år', \n",
    "    hover_name='år',\n",
    "    labels={'år': 'År', \n",
    "            'uke': 'Ukenummer', \n",
    "            'antall': '', \n",
    "            'andel_avvist' : 'Prosentandel'}, \n",
    "    color_discrete_sequence = nav_kategorisk\n",
    ")\n",
    "\n",
    "\n",
    "fig_andel_a.update_layout(\n",
    "    yaxis=dict(tickformat=',d'), \n",
    "    separators=', ', \n",
    "    hovermode='x unified', \n",
    "    template=\"plotly_white\"\n",
    ")\n",
    "\n",
    "\n",
    "fig_andel_a.for_each_trace(\n",
    "    lambda trace: trace.update(name=trace.name.replace(\"=\", \": \" )),\n",
    ")\n",
    "\n",
    "fig_andel_a.for_each_annotation(lambda a: a.update(text=a.text.split(\"=\")[-1]))\n",
    "\n",
    "fig_andel_a.add_annotation(\n",
    "    text = annotation_text,\n",
    "    showarrow= False, \n",
    "    align= 'center',\n",
    "    x= 0.5,\n",
    "    y= 1.13,\n",
    "    font={'size':12},\n",
    "    xref= 'paper',\n",
    "    yref= 'paper'\n",
    ")\n",
    "\n",
    "for i in range(-1,3):\n",
    "    fig_andel_a['data'][i]['hovertemplate'] = '<b>%{hovertext}</b> <br />Ukenummer: %{x}<br />Prosentandel: %{y:, f}%<extra></extra>'"
   ]
  },
  {
   "cell_type": "code",
   "execution_count": 280,
   "id": "878642cf-01a1-4d99-b549-b10f23661d20",
   "metadata": {},
   "outputs": [],
   "source": [
    "query_job = client.query(\"\"\"\n",
    "select \n",
    "    count(so.id) antall, \n",
    "    JSON_EXTRACT_SCALAR(JSON_EXTRACT(bh.behandlingsutfall, '$.status'), \"$.\") status, \n",
    "    CAST(so.mottatt_tidspunkt AS DATE) mottatt_tidspunkt,\n",
    "    case when JSON_EXTRACT_SCALAR(JSON_EXTRACT(bh.behandlingsutfall, '$.status[0]'), \"$.ruleName\") is not null \n",
    "        then JSON_EXTRACT_SCALAR(JSON_EXTRACT(bh.behandlingsutfall, '$.status[0]'), \"$.ruleName\") \n",
    "    else 'OK' end regeltreff\n",
    "from `teamsykmelding-prod-2acd.syfosmregister.sykmeldingsopplysninger` so, `teamsykmelding-prod-2acd.syfosmregister.behandlingsutfall` bh                                                             \n",
    "where so.id = bh.id                                                                                              \n",
    "    and so.mottatt_tidspunkt > DATETIME '2019-01-01'                                              \n",
    "GROUP BY JSON_EXTRACT_SCALAR(JSON_EXTRACT(bh.behandlingsutfall, '$.status'), \"$.\"), CAST(so.mottatt_tidspunkt AS DATE), \n",
    "    case when JSON_EXTRACT_SCALAR(JSON_EXTRACT(bh.behandlingsutfall, '$.status[0]'), \"$.ruleName\") is not null \n",
    "        then JSON_EXTRACT_SCALAR(JSON_EXTRACT(bh.behandlingsutfall, '$.status[0]'), \"$.ruleName\")  \n",
    "    else 'OK' end\n",
    "\"\"\")    \n",
    "    \n",
    "df_regeltreff = query_job.result().to_dataframe()"
   ]
  },
  {
   "cell_type": "code",
   "execution_count": 281,
   "id": "eb32e011-086e-4dd6-b892-ccb4aae44f18",
   "metadata": {},
   "outputs": [],
   "source": [
    "df_regeltreff_manuell = df_regeltreff[df_regeltreff['status'] == 'MANUAL_PROCESSING'].copy()"
   ]
  },
  {
   "cell_type": "code",
   "execution_count": 282,
   "id": "807c9393-2091-48b0-88a6-95a7a8f41526",
   "metadata": {},
   "outputs": [],
   "source": [
    "##########################################################################################\n",
    "### Ny kolonne med klassifikasjon, husk å velge om det er med eller uten gammle regler ###\n",
    "##########################################################################################\n",
    "\n",
    "df_regeltreff_manuell['source'] = df_regeltreff_manuell['regeltreff'].map(map_regel_manu)\n",
    "\n",
    "##########################################\n",
    "### Legger til data fra syfosmmanuell  ###     \n",
    "##########################################\n",
    "df_sysm_manuell['source'] = 'Manuell'\n",
    "\n",
    "\n",
    "df_regeltreff_manuell = pd.concat([df_regeltreff_manuell, \n",
    "                                   df_sysm_manuell[['mottatt_tidspunkt', 'antall', 'source']]]\n",
    "                                 )\n",
    "\n"
   ]
  },
  {
   "cell_type": "code",
   "execution_count": 283,
   "id": "e1bd3171-9b90-415b-bf15-dfbaee08f7d6",
   "metadata": {},
   "outputs": [],
   "source": [
    "########## Passer på at tidspunkt er datetime-format ##################\n",
    "\n",
    "df_regeltreff_manuell['mottatt_tidspunkt'] = df_regeltreff_manuell['mottatt_tidspunkt'].astype('datetime64[ns]')\n",
    "\n",
    "####### Lager ny kolonne med år/uke ###########\n",
    "df_regeltreff_manuell['aar_uke'] = df_regeltreff_manuell['mottatt_tidspunkt'].dt.strftime('%Y / %V') "
   ]
  },
  {
   "cell_type": "code",
   "execution_count": 284,
   "id": "1cf98c98-0426-40f1-b1cd-3ffa7371eb14",
   "metadata": {},
   "outputs": [],
   "source": [
    "#### Fikser krøll med år/uke i årss\n",
    "df_regeltreff_manuell_grouped = df_regeltreff_manuell.copy()\n",
    "df_regeltreff_manuell_grouped = df_regeltreff_manuell_grouped[\n",
    "    ((df_regeltreff_manuell_grouped['mottatt_tidspunkt'].dt.strftime('%V') >= dt.datetime.now().strftime('%V'))\n",
    "    & (df_regeltreff_manuell_grouped['mottatt_tidspunkt'].dt.strftime('%Y').astype('int') == int(dt.datetime.now().strftime('%Y')) - 1))\n",
    "    |\n",
    "    ((df_regeltreff_manuell_grouped['mottatt_tidspunkt'].dt.strftime('%V') < dt.datetime.now().strftime('%V'))\n",
    "    & (df_regeltreff_manuell_grouped['mottatt_tidspunkt'].dt.strftime('%Y').astype('int') == int(dt.datetime.now().strftime('%Y'))))\n",
    "].groupby(['aar_uke','source']).sum().reset_index()\n"
   ]
  },
  {
   "cell_type": "code",
   "execution_count": 285,
   "id": "9ed33a97-8dd8-4d28-acc2-74affabb523b",
   "metadata": {},
   "outputs": [],
   "source": [
    "df_regeltreff_manuell_grouped = df_regeltreff_manuell_grouped[df_regeltreff_manuell_grouped['source'] != 'Avvist']"
   ]
  },
  {
   "cell_type": "code",
   "execution_count": 286,
   "id": "63b67745-53bb-4ed5-bfd0-4ac71bb55609",
   "metadata": {},
   "outputs": [],
   "source": [
    "df_regeltreff_avvist = df_regeltreff[df_regeltreff['status'] == 'INVALID'].copy()"
   ]
  },
  {
   "cell_type": "code",
   "execution_count": 287,
   "id": "259ac2c1-7087-4ec6-ab9e-9b8215ff1560",
   "metadata": {},
   "outputs": [],
   "source": [
    "df_regeltreff_avvist['mottatt_tidspunkt'] = df_regeltreff_avvist['mottatt_tidspunkt'].astype('datetime64[ns]')"
   ]
  },
  {
   "cell_type": "code",
   "execution_count": 288,
   "id": "a6a77b78-86e5-4726-949b-5f9a14b1e19d",
   "metadata": {},
   "outputs": [],
   "source": [
    "df_regeltreff_avvist = df_regeltreff_avvist.copy()\n",
    "df_regeltreff_avvist['source'] = 'Avvist'"
   ]
  },
  {
   "cell_type": "code",
   "execution_count": 289,
   "id": "4164eb08-9041-4474-a0b0-e7c4385fe159",
   "metadata": {},
   "outputs": [],
   "source": [
    "df_regeltreff_avvist['aar_uke'] = df_regeltreff_avvist['mottatt_tidspunkt'].dt.strftime('%Y / %V')"
   ]
  },
  {
   "cell_type": "code",
   "execution_count": 290,
   "id": "43416f6f-4f70-4bf0-93cf-40c37a5ba790",
   "metadata": {},
   "outputs": [],
   "source": [
    "df_regeltreff_avvist_grouped = df_regeltreff_avvist.copy()\n",
    "df_regeltreff_avvist_grouped = df_regeltreff_avvist_grouped[\n",
    "    ((df_regeltreff_avvist_grouped['mottatt_tidspunkt'].dt.strftime('%V') >= dt.datetime.now().strftime('%V'))\n",
    "    & (df_regeltreff_avvist_grouped['mottatt_tidspunkt'].dt.strftime('%Y').astype('int') == int(dt.datetime.now().strftime('%Y')) - 1))\n",
    "    |\n",
    "    ((df_regeltreff_avvist_grouped['mottatt_tidspunkt'].dt.strftime('%V') < dt.datetime.now().strftime('%V'))\n",
    "    & (df_regeltreff_avvist_grouped['mottatt_tidspunkt'].dt.strftime('%Y').astype('int') == int(dt.datetime.now().strftime('%Y'))))\n",
    "].groupby(['aar_uke','source']).sum().reset_index()"
   ]
  },
  {
   "cell_type": "code",
   "execution_count": 291,
   "id": "41e42888-0068-4fc9-8f59-65a34c41276c",
   "metadata": {},
   "outputs": [],
   "source": [
    "df_regeltreff_ok = df_regeltreff[df_regeltreff['status'] == 'OK'].copy()\n",
    "df_regeltreff_ok['mottatt_tidspunkt'] = df_regeltreff_ok['mottatt_tidspunkt'].astype('datetime64[ns]')\n",
    "df_regeltreff_ok['source'] = 'OK'\n",
    "df_regeltreff_ok['aar_uke'] = df_regeltreff_ok['mottatt_tidspunkt'].dt.strftime('%Y / %V') "
   ]
  },
  {
   "cell_type": "code",
   "execution_count": 292,
   "id": "65d0d195-c7af-44f5-9fab-b8b324ffc8c3",
   "metadata": {},
   "outputs": [],
   "source": [
    "df_regeltreff_ok_grouped = df_regeltreff_ok.copy()\n",
    "df_regeltreff_ok_grouped = df_regeltreff_ok_grouped[\n",
    "    ((df_regeltreff_ok_grouped['mottatt_tidspunkt'].dt.strftime('%V') >= dt.datetime.now().strftime('%V'))\n",
    "    & (df_regeltreff_ok_grouped['mottatt_tidspunkt'].dt.strftime('%Y').astype('int') == int(dt.datetime.now().strftime('%Y')) - 1))\n",
    "    |\n",
    "    ((df_regeltreff_ok_grouped['mottatt_tidspunkt'].dt.strftime('%V') < dt.datetime.now().strftime('%V'))\n",
    "    & (df_regeltreff_ok_grouped['mottatt_tidspunkt'].dt.strftime('%Y').astype('int') == int(dt.datetime.now().strftime('%Y'))))\n",
    "].groupby(['aar_uke','source']).sum().reset_index()"
   ]
  },
  {
   "cell_type": "code",
   "execution_count": 293,
   "id": "ddfbe41f-04cf-40eb-9957-673bfb86f41c",
   "metadata": {},
   "outputs": [],
   "source": [
    "df_alle_behandlingsutfall = pd.concat([df_regeltreff_ok_grouped, \n",
    "                                       df_regeltreff_manuell_grouped, \n",
    "                                       df_regeltreff_avvist_grouped])"
   ]
  },
  {
   "cell_type": "code",
   "execution_count": 294,
   "id": "b954ceca-b54c-485e-91dd-21dc691ceaf2",
   "metadata": {},
   "outputs": [],
   "source": [
    "df_alle_behandlingsutfall_grouped = df_alle_behandlingsutfall.copy()\n",
    "df_alle_behandlingsutfall_grouped = df_alle_behandlingsutfall_grouped.groupby(['aar_uke', 'source']).sum().reset_index()"
   ]
  },
  {
   "cell_type": "code",
   "execution_count": 295,
   "id": "74be0739-6020-45e9-b379-95f305cc7181",
   "metadata": {},
   "outputs": [],
   "source": [
    "df_alle_behandlingsutfall_grouped = df_alle_behandlingsutfall_grouped[(df_alle_behandlingsutfall_grouped['aar_uke'] > '2019 / 39') \n",
    "                                                                      & (df_alle_behandlingsutfall_grouped['source'] != 'Ukjent')]"
   ]
  },
  {
   "cell_type": "code",
   "execution_count": 296,
   "id": "74619c6b-88b8-4a5b-9aa3-aae1ca2136f2",
   "metadata": {},
   "outputs": [],
   "source": [
    "input_dropdown = alt.binding_select(\n",
    "    options=df_alle_behandlingsutfall_grouped['source'].unique().tolist(), \n",
    "    name='Behandlingsutfall '\n",
    ")\n",
    "\n",
    "selection = alt.selection_single(\n",
    "    fields=['source'], \n",
    "    bind=input_dropdown, \n",
    "    name='Behandlingsutfall',  \n",
    "    clear='dblclick'\n",
    ")\n",
    "\n",
    "color = alt.condition(\n",
    "    selection,\n",
    "    alt.Color(\n",
    "        'source:N', \n",
    "        title='', \n",
    "        scale= alt.Scale(range=nav_kat_for)), \n",
    "    alt.value('lightgray')\n",
    ")\n",
    "\n",
    "fig_ford = alt.Chart(df_alle_behandlingsutfall_grouped).mark_area(opacity=0.7).encode(\n",
    "    x=alt.X('aar_uke', title = '', axis=alt.Axis(labelAngle=45)),\n",
    "    y=alt.Y('antall', title=''),\n",
    "    color=color,\n",
    "    tooltip=[alt.Tooltip('antall:Q', title='Antall sykmeldinger'), \n",
    "               alt.Tooltip('aar_uke:N', title='År og ukenummer'), \n",
    "               alt.Tooltip('source:N', title='Behandlingsutfall')]\n",
    ").properties(\n",
    "    height = 450\n",
    ").add_selection(\n",
    "    selection\n",
    ")"
   ]
  },
  {
   "cell_type": "code",
   "execution_count": 297,
   "id": "9c861ebe-f86e-4d1f-91f2-4bae44aec3dc",
   "metadata": {},
   "outputs": [],
   "source": [
    "query_job = client.query(\"\"\"\n",
    "select  \n",
    "     DATETIME(JSON_EXTRACT_SCALAR(receivedsykmelding, \"$.mottattDato\")) mottattdato,\n",
    "     count(distinct id) antall,\n",
    "     JSON_EXTRACT_SCALAR(JSON_EXTRACT(receivedsykmelding, '$.merknader[0]'), \"$.type\") merknad_type,\n",
    "     JSON_EXTRACT_SCALAR(JSON_EXTRACT(validationresult, '$.status'), \"$.\") behandlingsutfall,\n",
    "from `teamsykmelding-prod-2acd.syfosmmanuell_backend.manuelloppgave`\n",
    "where ferdigstilt = True\n",
    "     group by DATETIME(JSON_EXTRACT_SCALAR(receivedsykmelding, \"$.mottattDato\")),  JSON_EXTRACT_SCALAR(JSON_EXTRACT(receivedsykmelding, '$.merknader[0]'), \"$.type\"), \n",
    "    JSON_EXTRACT_SCALAR(JSON_EXTRACT(validationresult, '$.status'), \"$.\");\n",
    "\n",
    "\"\"\")\n",
    "\n",
    "\n",
    "df_resultat = query_job.result().to_dataframe()"
   ]
  },
  {
   "cell_type": "code",
   "execution_count": 298,
   "id": "350310e0-d659-4fe1-8f0d-f8b264347eea",
   "metadata": {},
   "outputs": [],
   "source": [
    "df_resultat['status'] = df_resultat.apply(\n",
    "    lambda x: make_status(x['merknad_type'], x['behandlingsutfall']), \n",
    "    axis=1\n",
    ")"
   ]
  },
  {
   "cell_type": "code",
   "execution_count": 299,
   "id": "a7f702b2-0d9e-403c-b9a4-38da5db04be1",
   "metadata": {},
   "outputs": [],
   "source": [
    "df_resultat_status = df_resultat.groupby(['mottattdato', 'status']).sum().reset_index()"
   ]
  },
  {
   "cell_type": "code",
   "execution_count": 300,
   "id": "fb942ca3-c35b-4a9f-9bc9-03cccc02326d",
   "metadata": {},
   "outputs": [],
   "source": [
    "df_resultat_grouped = df_resultat.groupby('mottattdato').sum().reset_index()\n",
    "df_resultat_grouped['status'] = 'Antall'"
   ]
  },
  {
   "cell_type": "code",
   "execution_count": 301,
   "id": "babf8eac-23d4-4fc7-b65f-081f7d1c3f4d",
   "metadata": {},
   "outputs": [],
   "source": [
    "df_resultat_pivot = pd.pivot_table(\n",
    "    df_resultat_status, \n",
    "    index=['mottattdato'], \n",
    "    columns='status', \n",
    "    values='antall', \n",
    "    fill_value=0\n",
    ").reset_index()\n",
    "\n",
    "df_resultat_pivot = df_resultat_pivot[['mottattdato', 'INVALID', 'OK']]\n",
    "df_resultat_pivot['total'] = df_resultat_pivot.sum(axis=1, numeric_only=True)\n",
    "df_resultat_pivot['andel_ok'] = (df_resultat_pivot['OK']/df_resultat_pivot['total']*100).round(1)"
   ]
  },
  {
   "cell_type": "code",
   "execution_count": 302,
   "id": "5943ecb4-f212-4a40-abc8-821f69f78c03",
   "metadata": {},
   "outputs": [],
   "source": [
    "fig_resultat = px.bar(\n",
    "    df_resultat_grouped, \n",
    "    x='mottattdato', \n",
    "    y='antall', \n",
    "    color='status',\n",
    "    labels={'status':'', 'mottattdato' : 'Mottatt dato'},  \n",
    "    color_discrete_sequence = nav_kategorisk\n",
    ")\n",
    "\n",
    "\n",
    "fig_resultat.add_trace(\n",
    "    go.Scatter(\n",
    "        x=df_resultat_pivot['mottattdato'], \n",
    "        y=df_resultat_pivot['andel_ok'], \n",
    "        yaxis=\"y2\", name='Andel OK', \n",
    "        marker_color='#0067C5'\n",
    "    )\n",
    ")\n",
    "\n",
    "fig_resultat = fig_resultat.update_layout(\n",
    "    yaxis2={'range': [0, 100],\n",
    "            'side': 'right',\n",
    "            'ticksuffix': ' %',\n",
    "            'overlaying': 'y'},\n",
    "    yaxis_title='Antall',\n",
    "    yaxis2_title='Andel',\n",
    "    legend={'x': 1.05,\n",
    "            'y': 1.05},\n",
    "    hovermode='x unified',\n",
    "    hoverlabel={'namelength': -1},\n",
    ")\n",
    "\n",
    "fig_resultat.add_annotation(\n",
    "    text = annotation_text,\n",
    "    showarrow= False, \n",
    "    align= 'center',\n",
    "    x= 0.5,\n",
    "    y= 1.13,\n",
    "    font={'size':12},\n",
    "    xref= 'paper',\n",
    "    yref= 'paper'\n",
    ")\n",
    "\n",
    "\n",
    "fig_resultat.update_layout(\n",
    "    yaxis=dict(tickformat=',d'), \n",
    "    separators=', ', \n",
    "    hovermode='x unified', \n",
    "    template=\"plotly_white\"\n",
    ")\n",
    "\n",
    "fig_resultat['data'][0]['hovertemplate'] = 'Antall ferdigstilt: %{y:, f}<extra></extra>'"
   ]
  },
  {
   "cell_type": "code",
   "execution_count": 303,
   "id": "bd662e27-5e24-4172-ae61-dccba492ba8e",
   "metadata": {},
   "outputs": [],
   "source": [
    "query_job = client.query(\"\"\"\n",
    "\n",
    "select count(id) antall,\n",
    "     DATETIME(JSON_EXTRACT_SCALAR(receivedsykmelding, \"$.mottattDato\")) mottattdato,\n",
    "       case \n",
    "           when JSON_EXTRACT_SCALAR(JSON_EXTRACT(receivedsykmelding, '$.merknader[0]'), \"$.type\") = 'UGYLDIG_TILBAKEDATERING' then 'Avslått'\n",
    "           when JSON_EXTRACT_SCALAR(JSON_EXTRACT(receivedsykmelding, '$.merknader[0]'), \"$.type\") = 'TILBAKEDATERING_KREVER_FLERE_OPPLYSNINGER' then 'Trenger mer informasjon' \n",
    "           else JSON_EXTRACT_SCALAR(JSON_EXTRACT(validationresult, '$.status'), \"$.\")\n",
    "        end status\n",
    "from `teamsykmelding-prod-2acd.syfosmmanuell_backend.manuelloppgave`\n",
    "where ferdigstilt is True\n",
    "group by DATETIME(JSON_EXTRACT_SCALAR(receivedsykmelding, \"$.mottattDato\")), status\n",
    "\n",
    "\n",
    "\"\"\")\n",
    "\n",
    "\n",
    "df_merknad = query_job.result().to_dataframe()\n"
   ]
  },
  {
   "cell_type": "code",
   "execution_count": 304,
   "id": "fc7a31e3-4ae1-4a4b-8975-07d9b419412c",
   "metadata": {},
   "outputs": [],
   "source": [
    "df_merknad = df_merknad[df_merknad['status'] != 'MANUAL_PROCESSING']\n",
    "df_merknad = df_merknad.replace({'OK' : 'Ok', \n",
    "                                 'INVALID' : 'Avvist'})\n",
    "df_merknad['Uke'] = df_merknad['mottattdato'].astype('datetime64[ns]').dt.strftime('%Y/%V')"
   ]
  },
  {
   "cell_type": "code",
   "execution_count": 305,
   "id": "8f7be542-8645-409d-bed8-6ce3695c68d0",
   "metadata": {},
   "outputs": [],
   "source": [
    "\n",
    "\n",
    "df_merknad['Uke'] = df_merknad.apply(\n",
    "    lambda x: ukenummer_fiks_uke(x['Uke'], x['mottattdato']), \n",
    "    axis=1\n",
    ")\n",
    "\n",
    "df_merknad_grouped = df_merknad.groupby(['Uke', 'status']).sum().reset_index()\n",
    "\n",
    "df_merknad_grouped = df_merknad_grouped[(df_merknad_grouped['Uke'] > '2020/53') & \n",
    "                                        (df_merknad_grouped['Uke']  != dt.datetime.now().date().strftime('%Y/%V'))]\n",
    "\n"
   ]
  },
  {
   "cell_type": "code",
   "execution_count": 306,
   "id": "a360a9f6-5a5f-4bb7-8e0c-86651b0abd76",
   "metadata": {},
   "outputs": [],
   "source": [
    "\n",
    "\n",
    "df_merknad_pivot = pd.pivot_table(\n",
    "    df_merknad_grouped, \n",
    "    values='antall', \n",
    "    index='Uke', \n",
    "    columns='status', \n",
    "    fill_value=0\n",
    ").reset_index()\n",
    "\n",
    "df_merknad_pivot['totalt'] = df_merknad_pivot.sum(axis=1, numeric_only=True)\n",
    "df_merknad_pivot['andel_avslått'] = (df_merknad_pivot['Avslått']/df_merknad_pivot['totalt']*100).round(1)\n",
    "df_merknad_pivot['andel_avvist'] = (df_merknad_pivot['Avvist']/df_merknad_pivot['totalt']*100).round(1)\n",
    "df_merknad_pivot['andel_ok'] = (df_merknad_pivot['Ok']/df_merknad_pivot['totalt']*100).round(1)\n",
    "df_merknad_pivot['andel_mer_info'] = (df_merknad_pivot['Trenger mer informasjon']/df_merknad_pivot['totalt']*100).round(1)\n",
    "\n"
   ]
  },
  {
   "cell_type": "code",
   "execution_count": 307,
   "id": "643d1793-c57d-4c34-8add-5c77649c47eb",
   "metadata": {},
   "outputs": [],
   "source": [
    "\n",
    "\n",
    "fig_merknad = px.bar(\n",
    "    df_merknad_grouped, \n",
    "    x='Uke', \n",
    "    y='antall', \n",
    "    color='status', \n",
    "    barmode='group', \n",
    "    hover_name='status', \n",
    "    labels={'status' : 'Status', \n",
    "            'antall':''}, \n",
    "    category_orders = {\n",
    "        'status':['Ok', 'Avvist', 'Trenger mer informasjon', 'Avslått']\n",
    "    }, \n",
    "    color_discrete_sequence = nav_kategorisk\n",
    ")\n",
    "\n",
    "fig_merknad.update_layout(\n",
    "    yaxis=dict(tickformat=',g'), \n",
    "    separators=', ', \n",
    "    hovermode='x unified', \n",
    "    template=\"plotly_white\"\n",
    "                         )\n",
    "\n",
    "fig_merknad.add_annotation(\n",
    "    text = annotation_text,\n",
    "    showarrow= False, \n",
    "    align= 'center',\n",
    "    x= 0.5,\n",
    "    y= 1.13,\n",
    "    font={'size':12},\n",
    "    xref= 'paper',\n",
    "    yref= 'paper'\n",
    ")\n",
    "\n",
    "for i in range(-1,3):\n",
    "    fig_merknad['data'][i]['hovertemplate'] = '<b>%{hovertext}</b> <br />År og ukenummer: %{x}<br />Antall: %{y:, f}<extra></extra>'\n",
    "\n"
   ]
  },
  {
   "cell_type": "code",
   "execution_count": 308,
   "id": "93d8d5d8-b12d-4dc5-a2c5-65407616a574",
   "metadata": {},
   "outputs": [],
   "source": [
    "query_job = client.query(\"\"\"\n",
    "with ranked as (\n",
    "  select sykmelding_id, event, CAST(timestamp as DATE) timestamp, dense_rank() over (partition by sykmelding_id order by timestamp desc) rank from `teamsykmelding-prod-2acd.syfosmregister.sykmeldingstatus` \n",
    "where CAST(timestamp as DATE) >= DATE('2020-01-01'))\n",
    "select count(sykmelding_id) antall, event, timestamp from ranked where rank =1\n",
    "group by event, timestamp\n",
    "\n",
    "\"\"\")\n",
    "\n",
    "df_status = query_job.result().to_dataframe()"
   ]
  },
  {
   "cell_type": "code",
   "execution_count": 309,
   "id": "0ec79ca3-6819-4259-9b6a-458b85d28db4",
   "metadata": {},
   "outputs": [],
   "source": [
    "\n",
    "\n",
    "df_status['timestamp'] = pd.to_datetime(df_status['timestamp'])\n",
    "df_status['timestamp'] = df_status['timestamp'].dt.date\n",
    "df_status['dager_siden'] = df_status['timestamp'].apply(lambda x: dt.date.today() - x)\n",
    "df_status['dager_siden'] = df_status['dager_siden'].dt.days\n",
    "\n",
    "df_status['status'] = df_status.apply(\n",
    "    lambda x: er_ubrukt(x['event'], x['dager_siden']),\n",
    "    axis=1\n",
    ")\n",
    "\n",
    "df_status['timestamp'] = df_status['timestamp'].apply(\n",
    "    lambda x: round(dt.datetime(day=x.day, month=x.month, year=x.year).timestamp())\n",
    ")\n",
    "\n"
   ]
  },
  {
   "cell_type": "code",
   "execution_count": 310,
   "id": "155914c1-d3b1-4666-8e38-06c02114d746",
   "metadata": {},
   "outputs": [],
   "source": [
    "df_status_pivot = pd.pivot_table(\n",
    "    df_status, \n",
    "    values = ['antall'],\n",
    "    index=['timestamp'], \n",
    "    columns=['status'], \n",
    "    fill_value= np.nan\n",
    ").reset_index()\n",
    "\n",
    "df_status_pivot.columns = df_status_pivot.columns.droplevel()\n",
    "\n",
    "df_status_pivot[''] = df_status_pivot[''].apply(\n",
    "    lambda x: x if np.isnan(x) else dt.date.fromtimestamp(x)\n",
    ")\n",
    "df_status_pivot = df_status_pivot.fillna(0)\n",
    "df_status_pivot['Totalt'] = df_status_pivot.sum(axis=1, numeric_only=True)\n",
    "df_status_pivot = df_status_pivot.rename(columns={'' : 'Dato'})\n",
    "\n",
    "df_status_pivot['Måned'] = df_status_pivot['Dato'].astype('datetime64[ns]').dt.strftime('%m')\n",
    "df_status_pivot['År'] = df_status_pivot['Dato'].astype('datetime64[ns]').dt.strftime('%Y')\n",
    "\n",
    "df_status_mnd = df_status_pivot.groupby(['År', 'Måned']).sum().reset_index()\n",
    "\n",
    "\n",
    "df_status_mnd_melt = pd.melt(\n",
    "    df_status_mnd, \n",
    "    id_vars=['År', 'Måned', 'Totalt'], \n",
    "    value_vars=['APEN', 'AVBRUTT', 'BEKREFTET', 'SENDT', 'Ubrukt'], \n",
    "    var_name='status', \n",
    "    value_name='antall'\n",
    ")\n",
    "df_status_mnd_melt = df_status_mnd_melt.replace({'SENDT' : 'Sendt til arbeidsgiver', \n",
    "                                                 'Ubrukt': 'Ikke tatt i bruk', \n",
    "                                                 'BEKREFTET' : 'Bekreftet', \n",
    "                                                 'AVBRUTT' : 'Avbrutt', \n",
    "                                                 'APEN' : 'Åpen'})"
   ]
  },
  {
   "cell_type": "code",
   "execution_count": 311,
   "id": "736ea128-cbab-4012-bc4d-1c1bed384f85",
   "metadata": {},
   "outputs": [],
   "source": [
    "fig_status_sykmelding = px.area(\n",
    "    df_status_mnd_melt, \n",
    "    x='Måned', \n",
    "    y='antall', \n",
    "    facet_col='År', \n",
    "    color='status', \n",
    "    hover_name='År',\n",
    "    labels={'mnd': 'Måned', \n",
    "            'antall': '', \n",
    "            'status' : 'Status'}, \n",
    "    color_discrete_sequence = nav_kategorisk,\n",
    "    category_orders={\"Måned\": ['01', '02', '03', '04', '05', '06', '07', '08', '09', '10', '11', '12']}\n",
    ")\n",
    "\n",
    "\n",
    "fig_status_sykmelding.update_layout(\n",
    "    yaxis=dict(tickformat=',d'), \n",
    "    separators=', ', \n",
    "    hovermode='x unified', \n",
    "    template=\"plotly_white\"\n",
    ")\n",
    "\n",
    "fig_status_sykmelding.add_annotation(\n",
    "    text = annotation_text,\n",
    "    showarrow= False, \n",
    "    align= 'center',\n",
    "    x= 0.5,\n",
    "    y= 1.13,\n",
    "    font={'size':12},\n",
    "    xref= 'paper',\n",
    "    yref= 'paper'\n",
    ")\n",
    "\n",
    "\n",
    "\n",
    "fig_status_sykmelding.for_each_trace(\n",
    "    lambda trace: trace.update(name=trace.name.replace(\"=\", \": \" )),\n",
    ")\n",
    "\n",
    "fig_status_sykmelding.for_each_annotation(lambda a: a.update(text=a.text.split(\"=\")[-1]))\n",
    "\n",
    "for i in range(-1,14):\n",
    "    fig_status_sykmelding['data'][i]['hovertemplate'] = '<b>%{hovertext}</b> <br />Måned: %{x}<br />Antall: %{y:, f}<extra></extra>'"
   ]
  },
  {
   "cell_type": "code",
   "execution_count": null,
   "id": "9d29cd88-19b9-40d8-a3f6-8869e42d2750",
   "metadata": {},
   "outputs": [],
   "source": [
    "fig_status_sykmelding"
   ]
  },
  {
   "cell_type": "code",
   "execution_count": 313,
   "id": "e59e5673-76d6-413a-9aaf-fff3d92f59b2",
   "metadata": {},
   "outputs": [],
   "source": [
    "os.environ[\"no_proxy\"] = \"localhost,127.0.0.1,10.254.0.1,.local,.adeo.no,.aetat.no,.devillo.no,.oera.no,.nais.io,.aivencloud.com\""
   ]
  },
  {
   "cell_type": "code",
   "execution_count": null,
   "id": "cd00947e-5263-466b-a063-4d8d74dfe1fa",
   "metadata": {
    "pycharm": {
     "is_executing": true
    }
   },
   "outputs": [],
   "source": [
    "### Henter ut token for å kalle Data Story api ###\n",
    "\n",
    "from google.cloud import secretmanager\n",
    "secrets = secretmanager.SecretManagerServiceClient()\n",
    "\n",
    "resource_name = f\"projects/71011284562/secrets/teamsykmelding_datastory_token_prod/versions/latest\"\n",
    "secret = secrets.access_secret_version(name=resource_name)\n",
    "dstoken = secret.payload.data.decode('UTF-8')"
   ]
  },
  {
   "cell_type": "code",
   "execution_count": null,
   "id": "3e04e1e3-92f0-4b2b-914b-cd41160bc1e7",
   "metadata": {
    "pycharm": {
     "is_executing": true
    }
   },
   "outputs": [],
   "source": [
    "ds = DataStory(\"Team sykmelding - tall og statistikk\")\n",
    "\n",
    "ds.header('')\n",
    "ds.markdown(\"Team sykmelding bruker data som et verktøy til å følge med på sykmeldingene og hvor mange sykmeldinger vi mottar per dag. På denne måten avdekker vi raskt endringer. \")\n",
    "\n",
    "ds.header(\"Nøkkeltall\", level=2)\n",
    "ds.plotly(plio.to_json(fig_nokkeltall))\n",
    "ds.plotly(plio.to_json(fig_nokkeltall_tid))\n",
    "\n",
    "ds.header(\"Antall sykmeldinger\", level=2)\n",
    "ds.plotly(plio.to_json(fig_sykmeldinger))\n",
    "ds.markdown('''Team sykmelding bruker grafen som et verktøy til å følge med på hvor mange sykmeldinger vi mottar per dag. \n",
    "Vi sammenlikner dette med tallene fra foregående år. På denne måten avdekker vi raskt endringer. \n",
    "Dette inkluderer ikke sykmeldinger som er automatisk avvist''')\n",
    "\n",
    "ds.header(\"Nøkkeltall papirsykmeldinger\", level=2)\n",
    "ds.plotly(plio.to_json(fig_nokkeltall_papir))\n",
    "ds.plotly(plio.to_json(fig_nokkeltall_papir_forrige))\n",
    "\n",
    "ds.header(\"Antall papirsykmeldinger per måned\", level=2)\n",
    "ds.plotly(plio.to_json(fig_papir_begge))\n",
    "ds.markdown('''Grafen viser forholdet mellom papirsykmeldinger som har blitt automatisk tolket og \n",
    "de som har blitt manuelt registert. \n",
    "Samt andel papirsykmeldinger av totalt antall mottatte sykmeldinger per måned.''')\n",
    "\n",
    "ds.header(\"Antall manuelle oppgaver per uke\", level=2)\n",
    "ds.plotly(plio.to_json(fig_manuell))\n",
    "\n",
    "ds.header(\"Prosentandel manuelle oppgaver per uke\", level=2)\n",
    "ds.plotly(plio.to_json(fig_andel_m))\n",
    "\n",
    "ds.header(\"Antall avviste sykmeldinger per uke\", level=2)\n",
    "ds.plotly(plio.to_json(fig_avvist))\n",
    "ds.markdown('')\n",
    "\n",
    "ds.header(\"Prosentandel avviste sykmeldinger per uke\", level=2)\n",
    "ds.plotly(plio.to_json(fig_andel_a))\n",
    "\n",
    "ds.header(\"Behandlingsutfall\", level=2)\n",
    "ds.vega(fig_ford.to_json())\n",
    "ds.markdown('Grafen viser andelen sykmeldinger som avvises, går til manuell behandling eller er ok. Bruk dropdown for å se behandlingsutfallene hver for seg. Dobbeltklikk på grafen for å se alle behandlingsutfall. NB! Dette plottet er ikke offisiell statistikk og må ikke deles utenfor NAV.')\n",
    "\n",
    "ds.header(\"Tilbakedaterte sykmeldinger som er sendt til manuell behandling\", level=2)\n",
    "ds.plotly(plio.to_json(fig_resultat))\n",
    "ds.markdown('Antall tilbakedaterte sykmeldinger som går til manuell behandling og andel av disse som godkjennes. For de som ikke godkjennes er det to kategorier: ugyldig tilbakedatering og trenger mer informasjon. Hva som skjer med de som ikke er godkjent etter dette punktet er utenfor våre systemer.')\n",
    "\n",
    "ds.plotly(plio.to_json(fig_merknad))\n",
    "ds.markdown('Status for tilbakedaterte sykmeldinger etter at manuell behandling er ferdigstilt per uke')\n",
    "\n",
    "#ds.plotly(plio.to_json(fig_status_sykmelding))\n",
    "#ds.markdown('Sykmeldinger som har blitt tatt i bruk eller ikke. Sykmeldinger regnes her som ikke tatt i bruk dersom de har status åpen og er eldre enn 1 år.')\n",
    "\n",
    "ds.update(token=dstoken, url=\"https://nada.intern.nav.no/api\")"
   ]
  }
 ],
 "metadata": {
  "environment": {
   "kernel": "python3",
   "name": "common-cpu.m95",
   "type": "gcloud",
   "uri": "gcr.io/deeplearning-platform-release/base-cpu:m95"
  },
  "kernelspec": {
   "display_name": "Python 3",
   "language": "python",
   "name": "python3"
  },
  "language_info": {
   "codemirror_mode": {
    "name": "ipython",
    "version": 3
   },
   "file_extension": ".py",
   "mimetype": "text/x-python",
   "name": "python",
   "nbconvert_exporter": "python",
   "pygments_lexer": "ipython3",
   "version": "3.7.12"
  }
 },
 "nbformat": 4,
 "nbformat_minor": 5
}
